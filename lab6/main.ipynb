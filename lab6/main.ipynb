{
 "cells": [
  {
   "cell_type": "markdown",
   "metadata": {},
   "source": [
    "### Preamble\n",
    "Scrapy Packet Manipulation"
   ]
  },
  {
   "cell_type": "code",
   "execution_count": 80,
   "metadata": {},
   "outputs": [],
   "source": [
    "from scapy.all import sniff\n",
    "from scapy.all import rdpcap\n",
    "import plotly.express as px\n",
    "import plotly.graph_objects as go"
   ]
  },
  {
   "cell_type": "code",
   "execution_count": 24,
   "metadata": {},
   "outputs": [
    {
     "name": "stdout",
     "output_type": "stream",
     "text": [
      "<class 'scapy.plist.PacketList'>\n",
      "Found 25 packets.\n",
      "<Sniffed: TCP:0 UDP:25 ICMP:0 Other:0>\n"
     ]
    }
   ],
   "source": [
    "packets = sniff(count=25)\n",
    "\n",
    "print(type(packets))\n",
    "print(f'Found {len(packets)} packets.')\n",
    "print(packets)"
   ]
  },
  {
   "cell_type": "code",
   "execution_count": 25,
   "metadata": {},
   "outputs": [
    {
     "name": "stdout",
     "output_type": "stream",
     "text": [
      "<class 'scapy.layers.l2.Ether'>\n"
     ]
    }
   ],
   "source": [
    "first_packet = packets[0]\n",
    "print(type(first_packet))"
   ]
  },
  {
   "cell_type": "code",
   "execution_count": 35,
   "metadata": {},
   "outputs": [
    {
     "name": "stdout",
     "output_type": "stream",
     "text": [
      "\n",
      "==================================================\n",
      "Packet 1:\n",
      "==================================================\n",
      "###[ Ethernet ]###\n",
      "  dst       = 0e:12:f6:8c:ab:5e\n",
      "  src       = 20:f3:75:b3:81:c0\n",
      "  type      = IPv4\n",
      "###[ IP ]###\n",
      "     version   = 4\n",
      "     ihl       = 5\n",
      "     tos       = 0x0\n",
      "     len       = 1210\n",
      "     id        = 26874\n",
      "     flags     = DF\n",
      "     frag      = 0\n",
      "     ttl       = 50\n",
      "     proto     = udp\n",
      "     chksum    = 0xf9f3\n",
      "     src       = 66.22.222.125\n",
      "     dst       = 192.168.0.9\n",
      "     \\options   \\\n",
      "###[ UDP ]###\n",
      "        sport     = 50024\n",
      "        dport     = 61905\n",
      "        len       = 1190\n",
      "        chksum    = 0xb75b\n",
      "###[ Raw ]###\n",
      "           load      = b'\\x90g<}\\xd1\\xbb\\xe3\\x87\\x00\\x02\\x84*\\xbe\\xde\\x00\\x03\\xbfd\\x8a\\x89\\xbf\\xea\\x87\\xff\\x0c\\xe0\\xca\\x87_\\x91\\x81\\x87\\xd6\\xcc\\x8b\\x0fV\\xc9\\xf8\\xb5\\x80\\xea\\xbd\\t\\xd0\\xc3\\xa0-j+\\xd4X\\x01=H;\\xeb\\x1f\\xba\\xaff\\x0c\\x1b\\x88\\r\\xb7\\xba\\xab\\xb5\\xbdS\\xf8h\\xd7\\x14^\\xf2@;6\\xeb\\xbe\\xde$\\x87p\\x00\\x003\\xc6\\x89\\x8d\\x9f|h? G8\\xc8+q\\xaf\\xea\\xbc\\xd0\\x97\\x02\\xf8t\\xb1\\xeaL\\x8d\\xe4\\x8bu<~M{\\xfc\\x1c\\xc0ky\\x13\\xfc\\x13\\x1b\\x0c\\x8f\\xf4\\xe8\\xb0\\xcb\\x0b\\xc2\\xc0]\\x8bl\\xa7T\\x0c\\x9f9\\xecmS\\xb19\\xfa\\x86\\x9f\\xfb\\x14\\x94\\xf2*\\x0e]\\xa8\\xc5\\xe6\\xa7V\\x83\\t\\x0b\\x86\\xf1\\x156*\\xb5\\xceP\\x03?\\x0e\\x18`U\\x08,\\xb3Oi\\xf5@\"/b\\xd4\\xa1\\xda1E\\xa5\\xe0\\x10\\x12\\xc5\\xcdM\\x98\\xdc\\xa8\\xf2\\xc2qhIl\\xf0\\xea\\x15\\xcb<\\x12)\\xff\\xf1\\x03\\xe95\\xf1\\xfdjV\\xe9U\\xd8h+M\\xc2\\x04\\x88(xB\\xb2\\xae]9\\xf2\\xf4\\xc0\\x83Eh<\\xe4\\xb6T\\xa5hQ\\x8e\\xa9K!\\xc2\\xc4\\xa33\\x90\\xde\\xee\\xa9\\xb3\\x18[\\x11\\xc1\\x835\\xa6[i\\x87\\x14V\\xd2\\x8b\\xd7)\\xdeg\\x8d\\x02\\xf5Y\\x85R\\xd8\\xb7\\x0b\\xebr\\x08\\x88\\xe5\\xf8\\xfb\\xe4\\xeb0\\xf7%\\x82\\x9a?\\x19\\x16\\x11n\\x9ft\\xf9\\xdf\\xfbbpT\\xd9G2!\\xa8\\xfb2\\xc9\\xe6Q^\\xdc\\x07\\xbe\\xf2\\xe0-\\xe1\\x1db\\xdd8\\xe69\\x92\\xab\\x02L\\x06e9\\xc5\\x08\\x06\\xb8K\\x9bY\\x7f\\xeb\\xce\\x1a\\xf7d\\xc8\\x90k\\xbe\\x17\\xfeg\\r\\x83}\\x8fd\\xde\\xde\\x9c\\xbe\\x99\\xe6\\xdd\\xa6\\xdah\\xa3\\x10\\xd6\\xc4\\x15R\\x02\\xe2\\xd7\\xf8\\x1c\\xfd\\x99\\x87\\xae\\xf6\\xe7\\x14p\\x94\\x84\\xaf\\x94D\\xe5\\xde_\\x18\\xf7BF\\xd2|\\x1a\\xbaz\\xc3\\xc1\\x1f\\xa4\\xb4(U\\x9b\\x00\\x16f\\x1d\\x0e]\\xd1\\x1cx\\xa2\\x1f<\\xc4\\x19X/\\xbf\\xd1\\xfb\\xccB#\\xbd\\x00\\xaf\\x81\\xdb\\x11\\xd7\\x08\\xe5L\\xc6\\xd2\\xe1`i\\x13\\x17\\x94\\xa7G\\x8a\\xe55\\xaeq$\\x8c|\\xed\\'3%\\xbf\\x1c\\x93h\\xbc\\xe7\\x8dO\\'\\x12\\x01\\x8e\\xee\\x12\\xc8\\xd2\\x13\\xfe\\x1b\\x0ei|\\xceli\\xae\\xebU\\xf0\\xff\\xa8{d\\xb5\\x8d5\\x90\\xa3Sx\\xeb/?\\xa6\\xc7\\x80\\x00\\x17\\xc3\\xb0\\xe4k\\xf4bw\\xe4\\xeev\\x8e\\xadtp%\\nN\\xe0\\na\\x8f\\xee9\\x0f\\xe1h\\x13[\\xfd\\xfd\\xc3\\xfcH\\xe9\\x9fO*\\x01M\\xab\\xd0Y>\\xab\\xe2\\xd7\\xee\\xf0>*\\xb5\\xe2\\xc7\\x99,\\xef\\xe7\\'\\xad\\x91\\xebU[\\xafE\\x05\\xa1\\xa8\\xb9\\x98\\xf5M\\xb1\\xa3\\xae\\x02\\\\\\xa1/\\xc4\\x90\\xf9\\xaa:\\xe5\\\\\\x8f\\xeaG\\'>\\xa1o\\x08\\xad\\x86_\\x05\\x0cI\\x84\\xce\\xf4hg\\xbf6\\xe9\\x8b\\xb5\\x9d\\xea\\x0f\\xaf3F\\x80\\xc8\\x14\\xf7\\xc4\\x18wn\\xfb\\x84~o]\\npL&\\xbb\\x05y\\xf7\\x1c\\xc2\\x10\\xd3\\x82XZ\\xf3\\xb4\\x023e\\xeb\\xae,\\x1a8|\\xbfw\\xfb^wjH\\xc1\\xa4a\\n\\xa9\\x96S_\\x05?\\x93l`!E\\\\\\x87\\x84}mc\\xd3\\xa4W\\xfdn\\x19l\\xb3\\x0bi\\x96\\xec\\x9bJ\\x90I\\xd3\\x00\\xc9\\xa7<Ih0-\\xd2\\x05\\x93\\xbcz\\x93W\\x96\"J\\x1d\\xf5D\\n\\xa4\\xe5\\x1eM\\xbf\\xc7\\x95Fl\\xa4\\\\\\xccJ\\x93\\r\\xda\\x02+4@\\xc8O\\xa8J\\x0f\\x1b\\x10i|\\xcc\\xbf\\x19\\xb8\\x95\\'n=0\\xben\\xdc]J|\\xd0\\xa8\\xe2\\x0e\\xce\\xe3\\x0c\\x0f8\\xdb\\x00a\\x0f\\x03\\xf1\\x84\\x8d\\x89\\xb7y8\\x11\\x85\\xf3\\x8a\\xf1\\xc8V\\x9fXHx\\nf$5EE\\xe6\\xfc\\xcb\\x10h\\xd4,K\\x9e8}\\x84\\x8f\\x17<\\x91\\xb8O\\xaa\\xde:\\x14\\x85\\xe8\\xe4\\x9c*\\xc7\\xb1\\xfa\\x04x_4B\\\\4\\xb9\\x11#7g\\xa3\\rsk;P\\xb6\\xcd\\xb7Xe\\x1b\\xe3\\xee7:B\\'\\xb9I\\xdd\\x85\\xa6\\x05g\\xeb\\xa1\\xc6\\xb7>\\xcdJ\\xdaw\\xf8\\xc0\\x96D\\xf7\\x8a\\xe3\\xc4uzdc0D\\x8b! \\xccY=\\x81\\xc0\\x1c\\xb9sb\\x1b\\xb4\"\\xc5\\xd7 \\xe3\\xe8E22\\x95\\xd5w\\xb7\\x82\\x17\\xf2!\\xd0|b\\xb2\\x7f\\xc8q\\xf4\\x85\\x87E\\xa0\\x1ci\\xb5\\x05B\\xac\\xa9\\x18wQ\\xd9\\x19\\x89\\x95Zu\\xf8?\\'\\xea\\xe2\\xbf\\xeb%\\x7fdb\\xdc\\xca\\xda\\xc5\\xebf\\xc6=\\xb7TU\\x1c\\xc7\\xf9E\\xdd\\x85u\\xc4\\xa6\\xd3\\x95\\xca\\xdf\\x02\\x04\\x91\\x9a\\xbe:)\\x8d!\\x87J\\xe3\\xbe\\xa9\\xf1\\xbeJ\\xce\\x95\\xa2 \\xe2\\xef.\\xe3\\x9e:\\xc2\\xfcC\\x86\\'\\x03\\xb4\\xfbr\\xb5\\x9d\\xaf\\xeag\\xb2]\\xea\\x08\\x02\\xc9\\xb8VA\\xa9\\x9d\\xde\\xc8\\x9f\\x82\\xb3\\x9a\\x86\\xf8\\xe8\\x95\\xf5<\\x98\\xf4?\\xa5>\\xf5n0p`_r*\\xcd\\x1e.\\xabt*|\\x98\\xa1\\xa1\\xfd(I\\x16p!\\x8bW\\xea\\x02\\xd4\\xeb.\\xe4S\\xbeK^%i#\\x07\\xdc\\xf4}\\x13\"\\x10\\xd2L\\xe7\\xb4.R\\x14\\x15\\xdd~\\xac\\xf9\\x1d\\t=,\\xcf\\xed\\xa8}\\x16\\xcc\\xfa\\xfa>\\x8eAT\\xb5\\xd8\\x0cC{\\x8bn\\xea1+\\x00\\x00'\n",
      "\n",
      "\n",
      "==================================================\n",
      "Packet 2:\n",
      "==================================================\n",
      "###[ Ethernet ]###\n",
      "  dst       = 0e:12:f6:8c:ab:5e\n",
      "  src       = 20:f3:75:b3:81:c0\n",
      "  type      = IPv4\n",
      "###[ IP ]###\n",
      "     version   = 4\n",
      "     ihl       = 5\n",
      "     tos       = 0x0\n",
      "     len       = 1210\n",
      "     id        = 26875\n",
      "     flags     = DF\n",
      "     frag      = 0\n",
      "     ttl       = 50\n",
      "     proto     = udp\n",
      "     chksum    = 0xf9f2\n",
      "     src       = 66.22.222.125\n",
      "     dst       = 192.168.0.9\n",
      "     \\options   \\\n",
      "###[ UDP ]###\n",
      "        sport     = 50024\n",
      "        dport     = 61905\n",
      "        len       = 1190\n",
      "        chksum    = 0x51fb\n",
      "###[ Raw ]###\n",
      "           load      = b'\\x90g<~\\xd1\\xbb\\xe3\\x87\\x00\\x02\\x84*\\xbe\\xde\\x00\\x03RW\\xf5\\xae\\xe2<\\x880,l\\xe6[7\\xd52)\\xde\\xcd\\xaf\\xf61H4\\xd3\\x9a\\xa8a\\x98a\\xed_\\xe5l$R\\xaf[\\xae\\xc6o\\xc5\\xba7wy\\xd1\\x17\\xe7\\xf3_\\xd5\\x0e\\xd1t1v4\\xb6\\x1b\\xf1\\xbe\\x03\\x94i|\\x11:\\xfd\\x12\\xb5\\xc1\\xa9\\xac\\xde\\x01\\xc1\\xd6%\\xf9\\x897\\xba\\xbdN\\x8e\\x11\\x9d\\xcc\\x00\\x94\\xef8F\\xa0\\xd1j\\xd3\\xe3\\x0e|\\xf1\\xdeO\\x06l\\xd5\\xfe\\x85\\x93#M\\x15\\x12\\x01i\\x04|\\xd2BG\\xab\\xaf\\n\\x18\\x04}.\\xf8\\xac\\xd3S\\x03y*\\x85\\x8b\\x87]\\'\\xcb\\xaa7\"\\x82@~\\xa3\\xb8\\xc9h\\xd2\\xed\\xb1\\xc3 \\x9f\\x9fn\\x89\\x11\\xa4\\x1aP\\xf1\\x14\\xcd\\x9a\\x82\\xeb&\\x8e\\xf1\\r2u@\\xec}+\\t!U\\x9a\\xf0\\xfc\\xff\\xe1\\xbf\\xe5\\xd4z\\x8b\\x8d\\n\\x9f\\xe1p\\xaa\\x8e\\xf2/\\xc5d7\\x82\\x8e\\x88<>\\xa0\\x92M\\x9b\\x00Y$\\xbe<\\xab\\x9a{\\t\\xaa\\xcfd|\\x10\\x00\\xce\\xd1\\x8eC\\xec.\\xca\\xa8\\x10\\xf1\\xae\\xc6\\xff<\\x11v\\xb5\\xfdj\\xc4\\xa1zf\\xaa\\x1b\\x8e\\xa0\\x87\\xc2J{3c\\xb2\\xe6$\\xcf\\x97\\x9eU\\xff\\xe5\\x0e\\x15\\x14\\xf4x\\xae\\xb3\\xd5\\xebm\\xdb\\xa8\\xd9\\x8a\\x8dk\\xd0\\xc6\\x16\\xf6\\xbc\\xd2\\x16y\\x8b\\xcb\\xed\\x11\\xceL\\x16\\x9d\\xdb|-^\\xb0\\x02\\xd8\\xeb\\x0f\\xc32v&\\xf07~\\x1f\\x95Y\\xb6\\xd0\\x9c\\x95Jxa/o9\\x81\\xb1\\x1b1\\xc3&K\\xd7\\xa6\\x0c\\xd6\\xf3v\\xac\\xaa\\xed#\\x828z\\x85\\xa4\\xd9]w\\x08\\x8b\\xf5\\x1e\\xaa\\xb4\\xb6\\x02\\xe6\\x99\\xc6\\x80\\xb0\\xc7<\\xf8^Mb\\xb9\\xabK]\\xc6\\xe3\\xf7!\\xa9\\x92Z\\xf8\\x02\\x80\\xb0\\xca\\x1cRp\\x90i\\x95\\xc6\\x89p\\xc6\\x0e\\x0e\\x9b\\x019U\\xef>\\xfb\\xf0txD2\\xb8\\x9f\\x8ba2^VwL\\x80kw\\xa1Y\\xa0\\x90\\x8cC`v2\\xc7/\\x1a\\xb5\\xfe\\xe2p\\xce/1@\\xc9\\x1b-\\x18\\r\\xc3O\\xe5\\x8a\\xd1\\x0e\\xf2wLr\\xdb]b\\xe1\\x13\\xac@x#\\x8c@1}\\x7f\\xbd ?\\xdaY\\x96\\xd24\\xf1\\xfa\\x93j\\xf1%\\xa0\\x01}\\xe8\\ng\\xd8\\xdao\\x96>\\xa5 \\x0f[\\xa59L@\\xb7\\x01\\xfbl\\x90\\x96i{\\xbeQ(\\x82s\\xea\\n\\xb0\\x994\\xe3\\xad3\\x00\\xc0s\\xd5\\xd4=\\x1d\\xf4\\xff\\x15\\xd5#b\\x02\\n\\xdb\\xbcz\\xdf\\x89*X%\\xf0\\xfc\\n\\xda\\x02h\\x92\\x90?1\\xeb\\xfd3\\xf8\\x12o\\xbb\\x1f\\x97\\xe0\\xbd\\x94\\x1d\\x11cI\\xec\\x0bzQ\\xc9\\x03m\\x8d\\x147\\x02\\x03\\x15\\x9b\\xa5=<]\\xaf\\x15\\xb2b\\x825me\\xb6-\\xefRz\\xc1\\xc8 \\xf6X\\x10\\xbe\\xfa\\x1b\\xa3&?\\x04A\\xa8\\x9aW\\x988\\xb0\\xaf\\xdc\\x96\\x100\\x9aZv\\x18V3%N<\\x94\\xe3#\\xeb\\xb8\\x99Z\\xe5i\\x06L\\xff\\xf0\\t3\\x91*}2I\\x98bB\\xf1\\xcfKN(\\x96\\x1b\\xdce\\xa1\\xc8\\xd0PY\\xc8\\x08i!\\xae\\xef\\x9f\\xe4\\x06Ds\\xce\\x1a\\xeaY,Or\\x1d\\xce\\rOT\\x99\\xcfb\\xf8\\x8d\\xdf\\xe8\\xb9\\xae\\xf2\\x10q\\x16mO[\\x9f\\x10\\xe9\\x1e\\x9e\\'\\xc6\\xc0\\x01*Y\\xf7\\xce(\\xdf\\xe2\\x96r\\x8bZf\\x101S\\xda\\'B!\\xd7DO\\x12\\x05\\xed\\xfck\\x0c\\x1a\\xcb\\'\\xd9\\x08\\x89\\xd5\\xb4\\xce\\xadI\\xc9\\xe2a\\xd4i\\xc6\\xe7\\xda\\xf4V%@ \\xcb\\t\\x1e\\xdcid\\x80.\\xf5\\xa1\\xb90\\x19\\xa6\\x19\\xd8\\x89%\\xce\\xbbBp6\\xe6T\\xa9\\x95\\xbf^\\xb7\\x94\\xf2qn\\x1fM)W\\xc9U\\xf7\\xbe \\x8d\\x96Q\\x19B\\xfc\\x1fm\\'\\x1a\\x92_)\\xc6q\\xb4\\x18\\xaf:\\x8b\\xd7\\xb2\\xbc\\x16\\xf7\\x8d}\\x14\\xe7OW\\xba\\xf5\\x1d\\x91\\xbd\\xaa\\x99\\x86Jm\\x1e\\xba\\x02u\\xd7\\xffn\\x13(\\x19\\x06\\x02s\\x13\\x1e3;\\xdf\\xcd%\\xbe\\xf3\\xaa\\xad\\xb4\\xf85nh\\x05\\xd6\\xcf9\\x1a\\x90\\xeb`\\r\\xacE\\t\\x0b\\xce\\xda\\x9d\\xc3\\xe2=S\\xff3\\x83=\\xc9\\xcd\\xc7\\x9c\\xeb\\x1c\\x1cVn\\x83\\xbb\\xb9\\x191p\\xbb\\xe60\\xf7\\xceS\\x06TO\\xc9Y\\xcb$\\xd6\\xac1\\xb5Fr\\x1fE\\xe3\\xe2\\xcf\\xd7?\\xc3\\xdc\\x1c\\xac\\xcdC\\x12M\\x11\\x94rf\\x88\\'\\x83\\r\\xe1\\xe09s\\xc4\\xe8\\n\\x97\\x7fE\\xc6\\x1b ]\\x11i8\\xfe\\x01\\xb5\\xbc\\xa3c\\xfd\\x92R<:@DssKl}\\xfe)]\\xaek\\x98\\xd0\\xb8\\xf9\\xb7\\x99\\xe1,\\xc2wM\\x1d<\\xb8\\x83\\xd3F\\x01\\x91\\xb2\\x9d\\x1c v\\x8d\\xd5\\xda\\x9a2\\xd7\\xf9\\x8e\\xbb\\'b\\\\\\xab\\x05\\xb5X1\\xb9;\\x9f\\xf8W\\xc3$\\xac\\xbc/\\x1f:\\x13s\\x06\\xea\\xb9L;E-|27\\xd8\\xee^\\x04\\xbd\\xae\\xe8RF\\xdb\\xbd@\\x1a\\xbbJyMm;\\x1dOM\\x84\\xa1\\x82[\\xd7z\\xd5\\xd7\\x8e7$\\xb5-X\\x91\\'q\\x99R\\xcb\\xdckD\\xa8\\x17\\xdd\\x1b\\x8c\\xe0_kE9\\x02aT\\xb2\\xcb\\x03yq\\xcfJ\\x15%\\xc2\\xbe\\xd1\\xc8\\xfc\\xa4\\xecR\\xd4\\xbb\\xdd\\x93\\x1b\\x83\\xb52+\\x00\\x00'\n",
      "\n",
      "\n",
      "==================================================\n",
      "Packet 3:\n",
      "==================================================\n",
      "###[ Ethernet ]###\n",
      "  dst       = 0e:12:f6:8c:ab:5e\n",
      "  src       = 20:f3:75:b3:81:c0\n",
      "  type      = IPv4\n",
      "###[ IP ]###\n",
      "     version   = 4\n",
      "     ihl       = 5\n",
      "     tos       = 0x0\n",
      "     len       = 1210\n",
      "     id        = 26876\n",
      "     flags     = DF\n",
      "     frag      = 0\n",
      "     ttl       = 50\n",
      "     proto     = udp\n",
      "     chksum    = 0xf9f1\n",
      "     src       = 66.22.222.125\n",
      "     dst       = 192.168.0.9\n",
      "     \\options   \\\n",
      "###[ UDP ]###\n",
      "        sport     = 50024\n",
      "        dport     = 61905\n",
      "        len       = 1190\n",
      "        chksum    = 0x4c0a\n",
      "###[ Raw ]###\n",
      "           load      = b'\\x90g<\\x7f\\xd1\\xbb\\xe3\\x87\\x00\\x02\\x84*\\xbe\\xde\\x00\\x03)\\xee\\xc0\\x1d\\xe9\\xd2?\\x93\\xdf\\xb4\\xb4b\\xef\\x83\\x08\\xfe\\xcdI\\x9b\\xa8\\x84j\\xe8\\xa6<\\x11z\\xe6\\x85~\\x88\\x95\\xbb\\x82P\\xe4\\xfd\\xd6\\xeb\\x96[\\xfe\\x92Mc\\xd8\\xab\\xef\\xf8w\\xbc\\xd7\\xce\\xbb\\xd3p\\xe7\\xef\\x7f`\\x9f\\x1d\\x05M\\xe6\\xef^\\xdf\\xe5\\x8a\\xec\\xd3\\xc2\\xe1\\xd9\\xab\\xae4\\xc3\\x96\\xaaq\\x96\\xd1\\xe9\\x13\\x92\\x0c%\\x07\\xb3\\xd5\\x9cP\\x9e#\\x1et\\xcc\\xce\\x1c\\xfc\\xd3Y\\x04\\xd1\\xbb\\x91\\x9e\\xe7\\x7f\\xf1a\\x86;\\xa2\"\\xbac\\xb9\\xf2\\xa9N\\xe2\\xf0\\xc0\\x89\\xfdIz3\\xe79\\xbd\\xe0E\\xc1H\\xe8\\x01X\\xa7\\xc9\\xe64\\xe1\\xf8\\xa6\\x91\\x93\\x91\\x03\\x96\\x0c\\xd6{W\\x11\\x95\\xa4\\xf9\\xa1\\xb2#\\x1a)\\xf3\\xd9\\xca\\xb8\\xde\\xd3\\xa2\\xd4\\xee\\xf4\\x0e&a(\\xe8\\\\^-U{9\\xc3:\\xae\\xe7Bk\\xb2\\xccR7u\\x86\\xd0d\\x11\\x1d\\xae]s\\xa2{v\\xe9\\x07\\x06X-\\x15\\x06\\xf16\\xccq\\'\\xac\\xf0(\\xa1\\xb2\\xf0\\xeeJU\\xc7\\xf4\\xeb\\xaaP\\xd9\\xa3 b\\x85\\xa8\\x88\\x9d]\\xaa\\x85xX\\xf3\\x02(\\r\\xc6\\xd0O9\\x99\\x94\\xf8\\x8e\\x85\\xb8\\xbbO\\x91\\xb4\\xd15\\x9a\\x0c5\\x9bQ\\x91\\xa0pi;\\xac\\xa3cW\\xaf\\xe6\\x97\\xc8c\\x05\\xa3\\x03\\x18\\xcb\\x11\\xc4\\x92\\x81\\xe5\\xd6\\'\\xc0\\x7fC\\xd3\\xae\\x17\\x1d\"\\x95\\xf2\\n\\x89B\\xb5A@\\x9a\\xea\\xc5U\\xd3aG\\x96p\\xf6\\xb9e\\xe1\\x0et*\\xcbS\\x82J,+\\xd87\\xd4\\xe3\\x94\\x8d\\xd0\\xcaVy\\x1f\\x04\\xe6\\xf8\\x11v\\x1b\\xec\\n\\xff\\xa7\\xc7\\x90+i\\xcb#B\\xb1F\\x9a\\xdaX\\x8a\\x0b2Z\\x83v\\x10\\xf5\\xfe\\x9a\\x19R\\x87Nw\\xb5\\x04\\xb8rX\\x9954=\\xe9$|\\xa1\\x01\\x90z\\xe9\\x8bh\\x05\\x05eW\\xe7Zs\\x1b\\xd2\\t<\\x8b|v\\xbc\\xa2\\xb2\\xd0\\x83\\xcfR#\\x83\\xea\\xed$\\x9aF\\xc3\\xa6\\xc9\\xf4\\x94\\xffQ\\x90]\\xf9\\xb9\\xc7\\xb3AL\\xa6\\xf7\\xc5\\xa2\\xd2!\\x88\\'T\\xc7\\x90Rf\\xd9\\x98\\xda\\xf6$d\\xe7\\xa9|\\xc5\\x85\\xa7T\\xba%\\xf6\\xc3\\xb9\\x84\\xd8\\x9a\\xdd\\xa9\\xf2%\\x82\\xb7%\\xf8\\x07e\\xc5\\x07<\"1EL\\x86\\x8cHf\\x90\\x83\\x00\\xef_\\xee\\xa3\\xdb\\xca\\x9b\\x928;\\x10v\\xea\\x06\\xae\\xbd6\\xbd\\x8e\\xec\\xd0J\\xfff\\x83\\xd0(\\x99\\x8c\\x1e\\xb5\\x96e\\xce\\xf5\\x93\\xad\\x88\\x8b\\xb2\\x86;\\xe4\\x81\\xd26\\xfc\\xbbJ\\xc7\\xe7\\xfb1)\\xd6\\x0eA\"\\x86\\x195\\xc2o\\xd2.g\\xf5\\x1cq\\xd3\\r,\\xe6\\xac\\xfe@2pPVq\\xd2\\xae\\x01w\\xa6\\xd6-\\x8d\\x89(\\r\\xd6_\\x170\\xe8\\xcc\\x03\\x0e\\x81\\'\\xee\\xd95\\xc9\\x1e&\\xb7\\xab,\\xc6S\\xf6 y\\xdf\\x0fU0(\\x0e\\xa3\\xd3\\x8a\\xf5\\x81\\x1e\\xb5\\xb2\\x80%%\\xcd\\x89\\x89\\xdc\\xa48@\\x02O\\xcc\"\\x90(\\x98\\xfcF!G\\x91\\x89\\xab4\\x14\\xa8\\xa3:\\x89\\x98\\xd0\\xd2\\xa4-\\x885R*\\xc2\\xb9\\x9e\\x1d\\x87\\xbb\\xcf\\x05\\xd2y\\x11+E.\\x81\\x88z\\xea\\x11B/]\\x1f`\\x01\\x0f\\x95l\\xbe\\x1b\\x91\\xb0\\xbdd\\x1b\\xe2\\x84M\\'\\x0e\\xab\\x9b\\rh$\\xe00\\x92U\\xb7\\x06}.\\x87\\x13\\xae\\xc3K>\\xb8\\xd8\\xe7^V\\xb6o\\xd3L\\x01\\x868Zq\\xe8\\x1d\\xa3\\x8f\\x89\\x84\\x8d\\x1f\\xda\\xe44\\x8d?C\\xab\\xdf#Zs\\xe1\\x8cD8\\xf6%\\xce\\x8d=\\x1c\\r\\xf7\\xf2N\\xf6?\\x0e\\xa6\\xd5\\x83<\\x83\\xb4\\\\_y\\xb8\\x94\\xed7\\xe9\\x04\\x86\\xfd\\xab\\xdf\\x87\\xb5\\xf4\\xd9rgj\\xb3\\x03\\xf9\\x83\\xaf\\xe4\\xd6L3\\xb1\\xf5+\\xc6\\xc6\\xear\\xd6.s\\xea]o\\x17\\xba\\xb0\\x0c\\x1e\\x98@\\x9e\\tD \\x06TduM\\xc4\\xdalK).\\xf5{\\xa0\\x1e\\x88O<c\\x08\\xa6G5\\x80\\xe5\\x92\\x9f\\xe5a\\xf7\\xd0\\xb6\\x1c\\xb5\\xda\"l#_uM\\x0bO\\xdfo\\xbb\\xf6\\x90\\xef\\x0cL\\x891H\\xba\\x17\\x95F=\\x12F\\xe8O\\xc5\\xa7\\xba\\x19`\\x1dmqs\\xf2a\\x9ar9\\x1d\\x89\\xdc\\x824\\x15\\xb5?\\x07\\xe5x\\x11\\xd1$\\x97\\xbe\\x9aX&\\'Env\\xfa\\xd6\\x17^\\xd3\\x1c\\xef$!\\xa3kag\\xb0\\xf4,\\xe5\\xba\\xb5QQ\\xde@\\x9d8\\x15\\xad\\xb5\\xb3\\x8f\\x1caX\\xc5\\xccu\\rq\\x90\\xb4A\\xefO\\x8d\\xd0\\xe9\\x01\\xd8&Xs\\x7fJ\\x91\\x8d\\x99jd6\\xe0\\xf0\\xf0\\xfe\\xec\\xce\\x93\\xf2\\xaf3\\x10\\xcc\\xe3\\xc2u\\xb6Au\\x03\\n\\xc4\\xa7\\xfd\\x87\\xd1\\x98h\\x0c\\xf4\\r\\x01\\xf1#\\r\\x9d|rn\\x05L\\x1f\\x7f\\xf4\\x94\\x04Z\\xcdm\\xaf0\\xd3U\\x17l\\x8f}\\xe0~a\\x8b5\\xd6\\xcd>\\xdb\\x8e\\x0e\\x98\\xd7\\xaf\\x15\\x99\\xda\\xe1\\x15\\xf6\\xde\\xdf\\xefzB<}$@\\x91\\xc3\\xa5\\x8b\\x94\\x83\\xfe\\xb1\\xab\\xf2|\\xfcs\\xc4T\\x9dao\\xd4o\\xa1\\xe7\\xf3\\xb0\\x89\\x1f\\x8c\\x9d\\x8c]|\\\\\\x9f\\xad\\x87\\xb8\\xe9-\\x89\\xd65\\x8c\\xac\\xd0]\\xed\\x93U\\xf3R\\xf7*\\x18\\xb6\\xb7s&`2\\xbf?\\x80m\\x06o\\xb8l\\xc2\\xf2\\xb8YS\\x1d\\'\\x90\\xb33+\\x00\\x00'\n",
      "\n",
      "\n",
      "==================================================\n",
      "Packet 4:\n",
      "==================================================\n",
      "###[ Ethernet ]###\n",
      "  dst       = 0e:12:f6:8c:ab:5e\n",
      "  src       = 20:f3:75:b3:81:c0\n",
      "  type      = IPv4\n",
      "###[ IP ]###\n",
      "     version   = 4\n",
      "     ihl       = 5\n",
      "     tos       = 0x0\n",
      "     len       = 1210\n",
      "     id        = 26877\n",
      "     flags     = DF\n",
      "     frag      = 0\n",
      "     ttl       = 50\n",
      "     proto     = udp\n",
      "     chksum    = 0xf9f0\n",
      "     src       = 66.22.222.125\n",
      "     dst       = 192.168.0.9\n",
      "     \\options   \\\n",
      "###[ UDP ]###\n",
      "        sport     = 50024\n",
      "        dport     = 61905\n",
      "        len       = 1190\n",
      "        chksum    = 0xd59b\n",
      "###[ Raw ]###\n",
      "           load      = b'\\x90g<\\x80\\xd1\\xbb\\xe3\\x87\\x00\\x02\\x84*\\xbe\\xde\\x00\\x03\\xdbs\\xf21FC\\x1b\\xea<\\xcc\\x01\\x00:2\\xe45&&\\xef\\xf3*\\xfc\\xbf\\xbe\\xca<\\xcf\\x89\\xa8!\\xf9\\xeb#del\\xa2\\xa6\\xafp\\xae \\xf8\\xa4\\xa6.c\\x11\\x06$\\x07\\x1d1\\xed\\x0f\\x84\\xd4\\xfb\\x8d\\xaenG\\xd4g\\x94\\xd5\\xbbu\\xcc\\xc0 \\xaa\\x14\\x99\\xdd\\x97F\\x19t\\xaf\\x15\\nL\\x1c\\xc1\\xbf6Z\\xbb\\xf05\\xbe\\xfd\\xfe@L\\xa3\\xa7\\x83V\\xd7-n\\x81g\\x03\\xc9!\\x9f%[\\xb3\\xf1R\\xc9\\xc1b<\\x8c\\x1c\\x11\\xc2a3n\\x19Z\\xc1(-\\xeb\\xa3e\\x05\\xa3\\xb5\\x7f\\x98\\xd4K\\xc2\\x11\\x10\\xfa\\xbd\\xe2M\\xa6I\\xe9\\x94\\x124oC\\x90/\\x8f\\xa5\\x1dR\\xa6>1L2\\xc0s\\xe1\\x9fa\\x97\\xd9\\x8e\\xec/\\xdb\\xdf\\xf0`~7\\xd2\\xd7\\x8e\\xf0\\xad\\x93\"\\xba\\x9e\\x132[\\xa0/\\xb3T\\x96\\x12\\x95\\xb7\\xb3\\xff,\\xde\\x02\\x81\\xbc\\xc8\\x8b\\xc8/\\xe6\\x93Ak\\xdf\\xcdQ\\xd3\\xfb\\xff\\xe5\\xa7\\x03\\x8eQ`\\x93!F\\xcc3\\x9f\\xe9\\xc5\\xcb\\xb2N\\x1dv\\xb2\\x90\\xb8\\xa4\\xa1UU\\xbd\\xf1\\x08\\xda\\x8b\\xc25\\xbd\\xdbj\\x13=0\\xcb\\xa3\\xce\\x9d\\x89\\x06\\x92\\xe7?\\xd5X\\xc6f\\xea\\xe8p\\x80S\\x00\\xbaR \\xd9\\xa0\\\\\\xc3\\xbe\\x95\\xd3\" \\xc0\\x85HZv\\x05\\x08\\xee\\xa8\\xe5\\x06\\xd8&\\xe4\\x15\\xb1f\\xb4\\x95\\\\\\xfb\\xc4\\x9e\\\\\\x938\\x99\\x16d\\xd7\\xa1\\x97\\xfe(d\\xf8\\x17U\\x89\\x9d\\xfa+4I\\xe4p\\x02\\xb1\\x1ec,\\xd6\\xcf\\x8e\\x91b\\\\\\xefX\\xa9E\\x91)\\xba\\xbf-\\xeb\\xc3_E<+\\xe0xxX\\x89\\xac\\x00\\x0e\\xf8d(`\\x19b\\xc2\\xabo\\xf9\\xfeQ\\xab\\xfc\\xe4\\xdd|\\xbd\\xb2\\x95\\x82\\xdbMc\\xf2\\xbe\\x1cm\\xe2{\\x8e\\x05\\xe0\\x03Y\\xad\\xfe.\\x0b\\xdb\\xb9\\x12$\\xec(^:h\\\\Gh*\\x9c\\xc7\\x0e\\xf7\\xf2y\\x95\\xe4\\xe1XE\\xb1gn\\x02\\xd9\\xe9$RD\\x9fEQ8e+\\xe0p\\x10\\xf8\\xaf)\\xb2W!zC\\xb6\\x16\\xe8p>\\xae\\xb5 \\xa8\\x8c\\x87\\x01\\x8fB|\\xe5H@\\xf2n\\xefxs\\xf4\\xd6\\x10]\\x92\\x95Gh\\xa9\\xf31\\xbc\\x99\\x8f\\x83\\xf6nR\\x81.\\x83\\xe8#\\xe5u\\xad\\x85\\xcc\\x10\\x97\\xca}\\x1a\\xd2\\t\\xb2\\x15\\xa2u\\xff\\x99F<\"\\xc1\\x05\\x13\\x9dg\\xdd\\xee\\t:\\xc1=\\r6\\x04\\xef\\x87Z\\x01&\\xc0\\xdc\\xb8t\\xd7\\xa1\\xd8\\xbbH\\xb6\\xcd\\x04\\xcc\\xb6\\x8d\\xa0\\x05\\x7fi\\x97b\\x1f\\x12N\\xf7\\xcf\\xb8\\xb6S\\x8d\\x8eH*\\x7fVX\"\\x16\\xb1 \\x89\\xf4\\xa80i\\x95-\\xf8w\\xb6X5@!~\\x86\\x8b\\t\\xe3\\xfc\\xc3~\\xdf\\x08\\xa6\\x0ev\\xbb\\x19\\xbe\\x1bi\\xa2\\xc5\\xa0\\xf9\\xc5&\\xaaS\\xa4\\xc3\\xe8\\xc2\\x11\\x9b^\\x9d|\\xd4Dl\\xef\\x04a\\xc3\\xd3o\\xc4eT5\\xd26\\xd8g\\x89@\\xf2\\xc5\\xef\\xeeo\\x98-\\xb5\\xbe\\x86r\\xbf\\xe9s\\x81\\xf7Q\\xd8B\\x80\\xf2N\\x809\\xd6\\xdf\\xdd\\xab\\t*,\\xfe}\\x99\\x05\\x12M\\nP#\\x17\\x1d\\x18\\xf8\\x9ak\\xe58\\x91\\xd4\\x00\\x08l\\x99p\\xe1\\xe1\\xe2h\\x0e\\x06U\\xf8\\x82\\x01xO\\xd9\\xf2\\xed\\xb4\\x86\\x0f\\x0f\\xd03\\xd6JDsI\\xca\\x12/p\\xb6s`+\\x975\\xe3O\\xbaOo\\x8f\\t\\xa8\\xd7\\xd52@\\xb5\\xf3\\xc6\\x1d\\xb3\\x0b\\xc6Z\\xe0\\x14\\xec`\\xbd\\x92\\x1aO\\xb38\\x01\\xf2*\\xfa\\xfb\\x81^\\x1f\\x040\\xe20\\x08\\x9c(\\xb5\\xe3}`\\xd2\\xf4\\xe0b\\xe5\\xe6\\xfaz-n\\n\\x07\\xa9\\x04\\xd5\\x04\\xe9\\xbc]\\xac\\xac\\x07\\xde`\\xae]$j\\x10\\xd1\\xd8\\xaa8\\xa1\\xd0\\x10 5\\xb50\\x13\\xbf\\xc4n\\xe3]P\\x16\\xb2\\x8e-\\x9a~0\\xa7\\xe0K\\x16\\xe0Rl\\xe8\\xb1p\\xbc<-\\xbc/\\xab\\x84\\x19\\xee\\xfdklln\\x04\\xd9Fq\\xc9\\n&\\x14\\xa9\\xa6\\x87\\xc7,-d\\xc8\\xf04\\xael\\xc8\\xde6M71K\\x9a\\xc2\\x87oe>H\\x956|Z\\xb4\\xec\\xf1\\xdb\\xd2U\\xa5\\xf8\\xbfh\\x1fE\\x90\\xc7e\\nFnw\\xc9\\x98x\\x1c\\x19a_\\xd0\\xd7\\x01*2K\\x0b[HH_\\x93\\x07\\x0f\\r5-wG\\x92-\\xf2\\\\\\xb9%\\x00m\\xcb\\xd3Y\\x86\\xe0\\xac6\\x84=\\xc1\\xdf\\xee\\x05 \\xc6\\x830}G\\x9e\\x06\\xe78\\rb1\\xbc[O\\xb1\\xbbE\\xc0\\xd9\\x88\\x93\\x8a\\xca\\xe9f\\\\\\xbb#\\x8c\\xa4\\xce\\x92\\x04H\\x1a[\\xff\\xc5{\\xcfg\\xeb\\x9d\\xe9@K\\x9aA\\xff\\xf0S\\x05\\x1f+Z\\xb00\\xa5\\xc5\\x91e\\xbe\\xaf\\xef5\\x8cpu\\xfb\\xf4\\xbe\\xe4\\x1eC\\xa7#U+C\\xe1t3\\x896\\x08\\xf5v!\\xbeG\\xd0E\\x8aD\\xdd\\x04\\x08\\x84Bv\\xd5\\xa6\\x7f\\x83nY\\t\\x05\\xda-\\xec\\xaf\\xdcA\\x9df\\xda\\x06\\x0e\\xd2\\xebD\\xa6\\xfd\\xbd\\xe9\\xbfp\\xb6\\xde\\x19goqE\\xb7\\xfa\\xf7nW\\x98@\\x17\\xc8J\\xe0p.>OicAfn\\xee+\\xbb\\x1f\\x96\\xd2\\xb4\\x13\\x7f(\\x9e\\xbf\\xbc8\\xa2>!\\xf2\\x18`\\xa3\\x1ef\\x1d\\xb3*\\xb64+\\x00\\x00'\n",
      "\n",
      "\n",
      "==================================================\n",
      "Packet 5:\n",
      "==================================================\n",
      "###[ Ethernet ]###\n",
      "  dst       = 0e:12:f6:8c:ab:5e\n",
      "  src       = 20:f3:75:b3:81:c0\n",
      "  type      = IPv4\n",
      "###[ IP ]###\n",
      "     version   = 4\n",
      "     ihl       = 5\n",
      "     tos       = 0x0\n",
      "     len       = 1210\n",
      "     id        = 26878\n",
      "     flags     = DF\n",
      "     frag      = 0\n",
      "     ttl       = 50\n",
      "     proto     = udp\n",
      "     chksum    = 0xf9ef\n",
      "     src       = 66.22.222.125\n",
      "     dst       = 192.168.0.9\n",
      "     \\options   \\\n",
      "###[ UDP ]###\n",
      "        sport     = 50024\n",
      "        dport     = 61905\n",
      "        len       = 1190\n",
      "        chksum    = 0x77de\n",
      "###[ Raw ]###\n",
      "           load      = b'\\x90g<\\x81\\xd1\\xbb\\xe3\\x87\\x00\\x02\\x84*\\xbe\\xde\\x00\\x030\\xe7\\x90\\xf3Q$\\xa9\\xe7\\x18\\x8f+\\xe9\\xb7\\xeao\\x819\\x1ay\\x11I\\xc0\\xe5\\xf6\\xd3\\x12\\xf3\\x92\\x85\\xa7\\xe3\\xb1\\xd8\\x7f_\\x99\\x10\\x05\\xfe\\xf8k;\\xd3\\xe8\\xe1f \\xe4\\x04\\x10\\x92\\xe4@Td/Bip\\xaevF\\x80\\xc7 \\x8b\\xd0N\\x14\\xd8\\x94\\xd7h\\xe4\\xf5N\\xdd\\xbdV\\xae?\\xbe\\xe3\\xe3\\xd7:R\\x1cx&\\x8640\\xa8b?o\\x82\\x8b\\x93\\xb7\\x91`{\\x1c=\\xaa2\\xfb^,\\x1c\\xcc\\x1e*I\\x80\\x8fdt_\\xef\\xf5\\x01\\x93\\xc4\\xcdg\\xc4\\xc5,]\\xe4@\"joZ\\xee\\xd0d\\x9b\\xa7\\xba\\x12\\xab\\xf6\\xe1b\\xb7\\x9b\\x8f\\xe0\\xeb\\xb8\\xf7\\xc6\\x85\\xca\\xb8\\x93hA{n\\x8dw\\xaa\\xe6\\x9a\\xd6\\xb7##\\xabY\\x9a\\xa2\\x97\\x11\\xa9\"\\xbc\\xa6\\x9f@\\xc5g\\xdc\\xbct1:\\xf1\\xb6\\x9d2\\xb8\\x87D\\xf2\\x1b\\xcd\\x1c\\x99]\\xc6\\xb6\\x8e)[]5\\x0fX;\\x1c\\xe7\\x0e\\xa5\\xc4\\xd3\\xd0-\\x13\\xee_?\\xbe\\xeau\\x90]\\xbcg\\xe7{3=\\xa7\\xa5\\xccp\\x1b]\\xdcF\\x80\\x15N\\xad;\\xa6\\xa9\\x99,5\\xff&\\x97\\xcf3\\xec\\xadu\\xf0\\xaf!\\x08\\n|\\xcd\\x8a\\x04\\xbd\\x83\\xcb\\xee\\xe1#\\xef)\\xbf\\xd3h\\xf9P\\xb3\\xff3\\xf9|\\xdbl\\t`e\\x15\\x0fJ\\xcd\\x08\\xf4 \\x9b*K\\x06\\x827=\\xfdj\\xd5^\\x83\\xa7tj\\x91\\xc2\\xf5\\x03\\x06\\xe4TU\\xb2\\x9e>\\x1f~\\xba2vKa\\xef\\xde\\x1d\\xf7\\x89\\xd6\\xf6*\\x8a<\\x9f\"\\x13\\\\\\xe6@+\\xa7P\\x877\\xe1<\\x0b\\xd2\\xfbhH\\xb6T\\xdd\\xaa\\x96\\x85G\\t\\xb5i\\x1d\\x96\\x9e`\\x1b3\\x17h\\x06\\xb03\\x95Jd\\xcc:J\\x17\\x19\\xb8j\\x0f\\x91\\xb1\\xba\\xc8\\xef\\x96\\x94>,\\x14\\xd8\\xa3\\xbd\\x82\\x8f\\xf6\\xb3L\\x81\\x88\\xa8\\x9f\\x89\\xf5\\x8c\\x80\\xed\\x93*P42!\\xf3-x\\x8b\\x80\\xf0\\xf7\\x14\\xe6\\xe2+\\x93 \\xfa\\xab\\x95\\xcc\\xf5\\xac \\xe7\\x93j\\xdf\\x92\\x8awB\\xff\\xd8\\x88\\x8c\\xc0\\x90\\x04\\x8bD\\xc3H,\\xde\\x10]\\xb6\\xde\\xa76\\xdf0y\\x9e\\xed\\x07\\xecf\\x8ds\\x81_9\\xbc\\xf0\\xf7({\\x1cd\\x19\\xbdm\\xa48\\x80\\x91\\xb8\\xffD\\xdc6\\x15\\n\\xa1\\xa1}\\xc3 \\xc3W\\x93\\xa2\\xac\\xc8\\x86&\\xc1}\\xc3@0\\xcc\\xb3\\x8e7\\x0f\\xd5Z\\xe4\"\\x1a\\xb9\\x16\\xf8\\xba\\x12\\n\\x98+\\xf5?\\xc70f\\xdc\\x89\\xc33\\xc1\\xc2J\\xce\\x9e\\\\U\\x95\\xb2\\xb7\\xfc\\x9f\\xeb\\x0f\\x95a\\xa0\\xbf@Y\\xef\\x9f\\xda\\x88\\xa2\\xd5MYY\\xb2^\\xd5\\xd2Z\\xe2\\xaf\\x88\\x08\\x1eY\\xbe~ \\xa9YD\\x07\\xfc\\xd5\\xe3\\xfd=\\xf9\\xeb\\xd2\\xc4M\\\\D\\xa4\\x11\\xd746\\xe0\\x8b\\x00\\x84I\\xf8\\xa12tk\\xef\\xd4\\xb03\\x8aF\\x1d\\xe1\\xdb\\xe3\\x02\\x83G\\x99#\\xe1\\x05\\xc8^VGK\\x1c\\xbenx\\xa4/\\xd5\\xf7d_\\xa4\\xa0%v\\xf2\\xdc\\x95\\xeci\\x91\\xa1Fn\\xac\\xc2F\\xef==#2\"\\xc4\\xe3\\xcb\\x8c\\x1a\\x8d\\x7f\\xbdhkFs\\xbf\\xa1\\xe8q^\\x1e}\\xc9\\xba\\x98mHF\\xe7\\xd5/\\x9f\\xba\\xc3\\xa6T\\xa9=\\x9db\\xd4x\\x0c\\x86\\xe6\\xc1Z\\x1d\\x9c\\xfe|\\x87\\xba\\x0b\\xf9\\xfc\\x87\\xb9\\x82cV\\xc7\\x148\\x7fj|*\\xb5d\\xc0\\xfbU\\xbb\\x00\\x80x\\xab\\xde\\xef\\x9e\\xaa\\x10Li\\xe6\\x83\\xc8\\xcb\\xfa\\xf2g@dO\\xbeIH&-\\x99G\\x84A\\xd7V:\\xc9\\xf4Vhw\\xae\\x02\\x05n*\\xb2\\x12\\xd3\\xee\\xff5\\xe8\\x1c<\\xfdd\\xef[\\x98\\x01\\x1e\\xeb6\\x99\\x08\\x04\\xc0\\xc0@\\x1d)\\xe9O,\\x1b\\'r\\xe3\\xe0\\x97\\x0b6\\xdaO\\xec3\\xaciR\\x10z\\x0e\\xbd\\x8b\\x1d\\xd6\\x15n6|\\x00\\x90\\xe5\\xe6x\\x86\\xef\\xd6xP\\x9f\\t\\xb6Cf\\xdd\\xba\\xbc\\x93@\\x0b=\\xee\\x7fV\\xb8\\xb2\\xc6U{G\\x1fLS\\xf5A\\xb1@\\xec\\xe7YD\\x14\\xf6\\x96\"=q\\x1a\\x08\\x89 z\\r-\\x98\\xcd\\xbc\\xb2oOJ8kZ\\x0f\\xfe\\x97\\xf5\\xf2\\x82,\\xaa\\xed\\xaf\\x0e\\xd3\\xd2\\xd1\\xcf\\xd0\\x11H3\\xc4[p$jy\\x85\\x8f\\x04<\\xf4\\x0e\\xcfALu\\xa1\\x97\\x8fL\\x82\\xa3\\x837\\xc9c?\"\\xb4\\xb7\\xeet\\xd4\\xd3\\x03\\xd0\\x9f\\xf9hXQk\\xda<\\xb7\\t\\xba\\x83\\xf2\\x01\\xe1D\\x05\\x0b\\xb22\\x9e|\\xb3\\xb6~\\xc8\\xc9\\xca4IT\\xd3<9\\x83\\xae\\xa8^\"R\\x19\\x18\\xaa\\xfdc+3\\xc5\\x91\\x0f9U\\xb3\\xb1_\\xdfj\\x91\\x94\\xc3\\x92\\xa9O\\x94\\x1d\\xabKe\\x03\\x0e \\xa3\\x14xS0A\\xb8+\\xeb\\x00\\x87\\\\D\\x8c|\\x8f\\xbdo\\xf6n\\xea\\xf4\\xff\\xcb\\xb8\\xe6f\\x8d\\xbd\\xaf\\xd6|\\xce\\t\"t\\x01\\xcb\\xe0s\\xb7\\xc0\\xc5\\xc6\\x81\\xd0\\xfd\\xaa\\x8ct,\\xb0\\xe1\\xf6\\xf8>\\x08\\x861\\xe9O\\xdctjt\\xadw\\x15\\xb6\\xae\\xd7\\xe66\\xe9\\x04\\xbcKO\\xa4\\x92\\'\\xaa\\xffY.e\\xe9+.\\xafLy\\xfd\\x9f\\x81p\\x9dn\\xb2\\xb7I\\xa6\\xeal\\xfe\\x87\\\\u\\x8a\\xa5:b\\xf5\\xeb\\xfc%\\xf0\\xcb5+\\x00\\x00'\n",
      "\n"
     ]
    }
   ],
   "source": [
    "for packet in packets[:5]:\n",
    "    print(\"\\n\" + \"=\" * 50)\n",
    "    print(f\"Packet {packets.index(packet) + 1}:\")\n",
    "    print(\"=\" * 50)\n",
    "    packet.show()"
   ]
  },
  {
   "cell_type": "markdown",
   "metadata": {},
   "source": [
    "### Statistical Analysis"
   ]
  },
  {
   "cell_type": "code",
   "execution_count": null,
   "metadata": {},
   "outputs": [
    {
     "name": "stdout",
     "output_type": "stream",
     "text": [
      "Found 62 packets.\n"
     ]
    }
   ],
   "source": [
    "packets = rdpcap('packets.pcap')\n",
    "\n",
    "print(f'Found {len(packets)} packets.')"
   ]
  },
  {
   "cell_type": "code",
   "execution_count": 102,
   "metadata": {},
   "outputs": [
    {
     "data": {
      "text/html": [
       "<div>\n",
       "<style scoped>\n",
       "    .dataframe tbody tr th:only-of-type {\n",
       "        vertical-align: middle;\n",
       "    }\n",
       "\n",
       "    .dataframe tbody tr th {\n",
       "        vertical-align: top;\n",
       "    }\n",
       "\n",
       "    .dataframe thead th {\n",
       "        text-align: right;\n",
       "    }\n",
       "</style>\n",
       "<table border=\"1\" class=\"dataframe\">\n",
       "  <thead>\n",
       "    <tr style=\"text-align: right;\">\n",
       "      <th></th>\n",
       "      <th>src_ip</th>\n",
       "      <th>dst_ip</th>\n",
       "      <th>src_port</th>\n",
       "      <th>dst_port</th>\n",
       "      <th>protocol</th>\n",
       "      <th>payload_length</th>\n",
       "      <th>payload</th>\n",
       "      <th>timestamp</th>\n",
       "    </tr>\n",
       "  </thead>\n",
       "  <tbody>\n",
       "    <tr>\n",
       "      <th>0</th>\n",
       "      <td>10.1.10.53</td>\n",
       "      <td>84.54.22.33</td>\n",
       "      <td>53</td>\n",
       "      <td>53</td>\n",
       "      <td>UDP</td>\n",
       "      <td>975</td>\n",
       "      <td>b'\\x00\\x0c\\x01\\x00\\x00\\x01\\x00\\x00\\x00\\x00\\x00...</td>\n",
       "      <td>1.532199e+09</td>\n",
       "    </tr>\n",
       "    <tr>\n",
       "      <th>1</th>\n",
       "      <td>84.54.22.33</td>\n",
       "      <td>10.1.10.53</td>\n",
       "      <td>53</td>\n",
       "      <td>53</td>\n",
       "      <td>UDP</td>\n",
       "      <td>98</td>\n",
       "      <td>b'\\x00\\x0c\\x81\\x80\\x00\\x01\\x00\\x01\\x00\\x00\\x00...</td>\n",
       "      <td>1.532199e+09</td>\n",
       "    </tr>\n",
       "    <tr>\n",
       "      <th>2</th>\n",
       "      <td>10.1.10.53</td>\n",
       "      <td>84.54.22.33</td>\n",
       "      <td>53</td>\n",
       "      <td>53</td>\n",
       "      <td>UDP</td>\n",
       "      <td>989</td>\n",
       "      <td>b'\\x00\\x0c\\x01\\x00\\x00\\x01\\x00\\x00\\x00\\x00\\x00...</td>\n",
       "      <td>1.532199e+09</td>\n",
       "    </tr>\n",
       "    <tr>\n",
       "      <th>3</th>\n",
       "      <td>84.54.22.33</td>\n",
       "      <td>10.1.10.53</td>\n",
       "      <td>53</td>\n",
       "      <td>53</td>\n",
       "      <td>UDP</td>\n",
       "      <td>98</td>\n",
       "      <td>b'\\x00\\x0c\\x81\\x80\\x00\\x01\\x00\\x01\\x00\\x00\\x00...</td>\n",
       "      <td>1.532199e+09</td>\n",
       "    </tr>\n",
       "    <tr>\n",
       "      <th>4</th>\n",
       "      <td>10.1.10.53</td>\n",
       "      <td>84.54.22.33</td>\n",
       "      <td>53</td>\n",
       "      <td>53</td>\n",
       "      <td>UDP</td>\n",
       "      <td>1026</td>\n",
       "      <td>b'\\x00\\x0c\\x01\\x00\\x00\\x01\\x00\\x00\\x00\\x00\\x00...</td>\n",
       "      <td>1.532199e+09</td>\n",
       "    </tr>\n",
       "  </tbody>\n",
       "</table>\n",
       "</div>"
      ],
      "text/plain": [
       "        src_ip       dst_ip  src_port  dst_port protocol  payload_length  \\\n",
       "0   10.1.10.53  84.54.22.33        53        53      UDP             975   \n",
       "1  84.54.22.33   10.1.10.53        53        53      UDP              98   \n",
       "2   10.1.10.53  84.54.22.33        53        53      UDP             989   \n",
       "3  84.54.22.33   10.1.10.53        53        53      UDP              98   \n",
       "4   10.1.10.53  84.54.22.33        53        53      UDP            1026   \n",
       "\n",
       "                                             payload     timestamp  \n",
       "0  b'\\x00\\x0c\\x01\\x00\\x00\\x01\\x00\\x00\\x00\\x00\\x00...  1.532199e+09  \n",
       "1  b'\\x00\\x0c\\x81\\x80\\x00\\x01\\x00\\x01\\x00\\x00\\x00...  1.532199e+09  \n",
       "2  b'\\x00\\x0c\\x01\\x00\\x00\\x01\\x00\\x00\\x00\\x00\\x00...  1.532199e+09  \n",
       "3  b'\\x00\\x0c\\x81\\x80\\x00\\x01\\x00\\x01\\x00\\x00\\x00...  1.532199e+09  \n",
       "4  b'\\x00\\x0c\\x01\\x00\\x00\\x01\\x00\\x00\\x00\\x00\\x00...  1.532199e+09  "
      ]
     },
     "execution_count": 102,
     "metadata": {},
     "output_type": "execute_result"
    }
   ],
   "source": [
    "import pandas as pd\n",
    "from scapy.all import rdpcap, IP, TCP, UDP\n",
    "\n",
    "packets = rdpcap('packets.pcap')\n",
    "\n",
    "packet_rows = []\n",
    "\n",
    "for packet in packets:\n",
    "    try:\n",
    "        if packet.haslayer(IP):\n",
    "            src_ip = packet[IP].src\n",
    "            dst_ip = packet[IP].dst\n",
    "            \n",
    "            if packet.haslayer(TCP):\n",
    "                src_port = packet[TCP].sport\n",
    "                dst_port = packet[TCP].dport\n",
    "                protocol = \"TCP\"\n",
    "                payload = bytes(packet[TCP].payload) if packet[TCP].payload else b''\n",
    "            elif packet.haslayer(UDP):\n",
    "                src_port = packet[UDP].sport\n",
    "                dst_port = packet[UDP].dport\n",
    "                protocol = \"UDP\"\n",
    "                payload = bytes(packet[UDP].payload) if packet[UDP].payload else b''\n",
    "            else:\n",
    "                src_port = None\n",
    "                dst_port = None\n",
    "                protocol = f\"Other ({packet[IP].proto})\"\n",
    "                payload = b''\n",
    "            \n",
    "            payload_length = len(packet)\n",
    "            timestamp = float(packet.time)\n",
    "            \n",
    "            packet_rows.append({\n",
    "                'src_ip': src_ip,\n",
    "                'dst_ip': dst_ip,\n",
    "                'src_port': src_port, \n",
    "                'dst_port': dst_port,\n",
    "                'protocol': protocol,\n",
    "                'payload_length': payload_length,\n",
    "                'payload': payload,  \n",
    "                'timestamp': timestamp\n",
    "            })\n",
    "    except Exception as e:\n",
    "        print(f\"Skipping packet due to error: {e}\")\n",
    "        continue\n",
    "\n",
    "packet_data = pd.DataFrame(packet_rows)\n",
    "packet_data.head()"
   ]
  },
  {
   "cell_type": "code",
   "execution_count": 74,
   "metadata": {},
   "outputs": [
    {
     "name": "stdout",
     "output_type": "stream",
     "text": [
      "{\n",
      "  \"src_ip\": \"10.1.10.53\",\n",
      "  \"dst_ip\": \"84.54.22.33\",\n",
      "  \"src_port\": 53,\n",
      "  \"dst_port\": 53,\n",
      "  \"protocol\": \"UDP\",\n",
      "  \"payload_length\": 975,\n",
      "  \"timestamp\": 1532199330.917674\n",
      "}\n"
     ]
    }
   ],
   "source": [
    "import json\n",
    "print(json.dumps(json.loads(packet_data.iloc[0].to_json()), indent=2))\n"
   ]
  },
  {
   "cell_type": "markdown",
   "metadata": {},
   "source": [
    "#### Statistics"
   ]
  },
  {
   "cell_type": "code",
   "execution_count": 75,
   "metadata": {},
   "outputs": [
    {
     "name": "stdout",
     "output_type": "stream",
     "text": [
      "Unique source IPs: \n",
      " ['10.1.10.53' '84.54.22.33' '75.75.75.75']\n",
      "Unique destination IPs: \n",
      " ['84.54.22.33' '10.1.10.53' '75.75.75.75']\n"
     ]
    }
   ],
   "source": [
    "print('Unique source IPs: \\n', packet_data['src_ip'].unique())\n",
    "print('Unique destination IPs: \\n', packet_data['dst_ip'].unique())"
   ]
  },
  {
   "cell_type": "code",
   "execution_count": 76,
   "metadata": {},
   "outputs": [
    {
     "data": {
      "text/html": [
       "<div>\n",
       "<style scoped>\n",
       "    .dataframe tbody tr th:only-of-type {\n",
       "        vertical-align: middle;\n",
       "    }\n",
       "\n",
       "    .dataframe tbody tr th {\n",
       "        vertical-align: top;\n",
       "    }\n",
       "\n",
       "    .dataframe thead th {\n",
       "        text-align: right;\n",
       "    }\n",
       "</style>\n",
       "<table border=\"1\" class=\"dataframe\">\n",
       "  <thead>\n",
       "    <tr style=\"text-align: right;\">\n",
       "      <th></th>\n",
       "      <th>src_ip</th>\n",
       "      <th>dst_ip</th>\n",
       "    </tr>\n",
       "  </thead>\n",
       "  <tbody>\n",
       "    <tr>\n",
       "      <th>10.1.10.53</th>\n",
       "      <td>31</td>\n",
       "      <td>31</td>\n",
       "    </tr>\n",
       "    <tr>\n",
       "      <th>84.54.22.33</th>\n",
       "      <td>29</td>\n",
       "      <td>29</td>\n",
       "    </tr>\n",
       "    <tr>\n",
       "      <th>75.75.75.75</th>\n",
       "      <td>2</td>\n",
       "      <td>2</td>\n",
       "    </tr>\n",
       "  </tbody>\n",
       "</table>\n",
       "</div>"
      ],
      "text/plain": [
       "             src_ip  dst_ip\n",
       "10.1.10.53       31      31\n",
       "84.54.22.33      29      29\n",
       "75.75.75.75       2       2"
      ]
     },
     "execution_count": 76,
     "metadata": {},
     "output_type": "execute_result"
    }
   ],
   "source": [
    "src_ip_frequency = packet_data['src_ip'].value_counts()\n",
    "dst_ip_frequency = packet_data['dst_ip'].value_counts()\n",
    "\n",
    "frequency_df = pd.DataFrame({\n",
    "    'src_ip': src_ip_frequency,\n",
    "    'dst_ip': dst_ip_frequency\n",
    "})\n",
    "\n",
    "frequency_df"
   ]
  },
  {
   "cell_type": "code",
   "execution_count": 78,
   "metadata": {},
   "outputs": [
    {
     "name": "stdout",
     "output_type": "stream",
     "text": [
      "Most frequent source IP: 10.1.10.53\n",
      "Most frequent destination IP for 10.1.10.53: 84.54.22.33\n",
      "Destination Ports from 10.1.10.53: [53]\n",
      "Origin ports from 84.54.22.33: [   53 15812 23903]\n"
     ]
    }
   ],
   "source": [
    "most_frequent_src_ip = src_ip_frequency.idxmax()\n",
    "\n",
    "frequent_src_records = packet_data[packet_data['src_ip'] == most_frequent_src_ip]\n",
    "print('Most frequent source IP:', most_frequent_src_ip)\n",
    "\n",
    "most_frequent_dst_ip = frequent_src_records['dst_ip'].value_counts().idxmax()\n",
    "print(f'Most frequent destination IP for {most_frequent_src_ip}: {most_frequent_dst_ip}')\n",
    "\n",
    "dest_ports = frequent_src_records['dst_port'].unique()\n",
    "print(f'Destination Ports from {most_frequent_src_ip}: {dest_ports}')\n",
    "\n",
    "origin_ports = frequent_src_records['src_port'].unique()\n",
    "print(f'Origin ports from {most_frequent_dst_ip}: {origin_ports}')"
   ]
  },
  {
   "cell_type": "markdown",
   "metadata": {},
   "source": [
    "El puerto más común es el `53`. \n",
    "\n",
    "Dicho puerto se utiliza para servicios del Sistema de Nombres de Dominio (DNS). DNS es un protocolo que traduce nombres de dominio legibles por humanos (como example.com) en direcciones IP que las computadoras utilizan para identificarse entre sí en la red.\n",
    "\n",
    "Es probable que se trate de un servidor DNS que maneja solicitudes de resolución de nombres. Este patrón es típico del tráfico DNS donde los clientes envían solicitudes a un servidor DNS, y el servidor envía respuestas de vuelta."
   ]
  },
  {
   "cell_type": "markdown",
   "metadata": {},
   "source": [
    "Source IP vs Total Payload"
   ]
  },
  {
   "cell_type": "code",
   "execution_count": 87,
   "metadata": {},
   "outputs": [
    {
     "data": {
      "application/vnd.plotly.v1+json": {
       "config": {
        "plotlyServerURL": "https://plot.ly"
       },
       "data": [
        {
         "hovertemplate": "Total Payload (bytes)=%{marker.color}<br>Source IP=%{y}<extra></extra>",
         "legendgroup": "",
         "marker": {
          "color": {
           "bdata": "+gAaC6ty",
           "dtype": "i2"
          },
          "coloraxis": "coloraxis",
          "pattern": {
           "shape": ""
          }
         },
         "name": "",
         "orientation": "h",
         "showlegend": false,
         "textposition": "auto",
         "type": "bar",
         "x": {
          "bdata": "+gAaC6ty",
          "dtype": "i2"
         },
         "xaxis": "x",
         "y": [
          "75.75.75.75",
          "84.54.22.33",
          "10.1.10.53"
         ],
         "yaxis": "y"
        }
       ],
       "layout": {
        "barmode": "relative",
        "coloraxis": {
         "colorbar": {
          "title": {
           "text": "Total Payload (bytes)"
          }
         },
         "colorscale": [
          [
           0,
           "#440154"
          ],
          [
           0.1111111111111111,
           "#482878"
          ],
          [
           0.2222222222222222,
           "#3e4989"
          ],
          [
           0.3333333333333333,
           "#31688e"
          ],
          [
           0.4444444444444444,
           "#26828e"
          ],
          [
           0.5555555555555556,
           "#1f9e89"
          ],
          [
           0.6666666666666666,
           "#35b779"
          ],
          [
           0.7777777777777778,
           "#6ece58"
          ],
          [
           0.8888888888888888,
           "#b5de2b"
          ],
          [
           1,
           "#fde725"
          ]
         ]
        },
        "height": 500,
        "legend": {
         "tracegroupgap": 0
        },
        "template": {
         "data": {
          "bar": [
           {
            "error_x": {
             "color": "#2a3f5f"
            },
            "error_y": {
             "color": "#2a3f5f"
            },
            "marker": {
             "line": {
              "color": "#E5ECF6",
              "width": 0.5
             },
             "pattern": {
              "fillmode": "overlay",
              "size": 10,
              "solidity": 0.2
             }
            },
            "type": "bar"
           }
          ],
          "barpolar": [
           {
            "marker": {
             "line": {
              "color": "#E5ECF6",
              "width": 0.5
             },
             "pattern": {
              "fillmode": "overlay",
              "size": 10,
              "solidity": 0.2
             }
            },
            "type": "barpolar"
           }
          ],
          "carpet": [
           {
            "aaxis": {
             "endlinecolor": "#2a3f5f",
             "gridcolor": "white",
             "linecolor": "white",
             "minorgridcolor": "white",
             "startlinecolor": "#2a3f5f"
            },
            "baxis": {
             "endlinecolor": "#2a3f5f",
             "gridcolor": "white",
             "linecolor": "white",
             "minorgridcolor": "white",
             "startlinecolor": "#2a3f5f"
            },
            "type": "carpet"
           }
          ],
          "choropleth": [
           {
            "colorbar": {
             "outlinewidth": 0,
             "ticks": ""
            },
            "type": "choropleth"
           }
          ],
          "contour": [
           {
            "colorbar": {
             "outlinewidth": 0,
             "ticks": ""
            },
            "colorscale": [
             [
              0,
              "#0d0887"
             ],
             [
              0.1111111111111111,
              "#46039f"
             ],
             [
              0.2222222222222222,
              "#7201a8"
             ],
             [
              0.3333333333333333,
              "#9c179e"
             ],
             [
              0.4444444444444444,
              "#bd3786"
             ],
             [
              0.5555555555555556,
              "#d8576b"
             ],
             [
              0.6666666666666666,
              "#ed7953"
             ],
             [
              0.7777777777777778,
              "#fb9f3a"
             ],
             [
              0.8888888888888888,
              "#fdca26"
             ],
             [
              1,
              "#f0f921"
             ]
            ],
            "type": "contour"
           }
          ],
          "contourcarpet": [
           {
            "colorbar": {
             "outlinewidth": 0,
             "ticks": ""
            },
            "type": "contourcarpet"
           }
          ],
          "heatmap": [
           {
            "colorbar": {
             "outlinewidth": 0,
             "ticks": ""
            },
            "colorscale": [
             [
              0,
              "#0d0887"
             ],
             [
              0.1111111111111111,
              "#46039f"
             ],
             [
              0.2222222222222222,
              "#7201a8"
             ],
             [
              0.3333333333333333,
              "#9c179e"
             ],
             [
              0.4444444444444444,
              "#bd3786"
             ],
             [
              0.5555555555555556,
              "#d8576b"
             ],
             [
              0.6666666666666666,
              "#ed7953"
             ],
             [
              0.7777777777777778,
              "#fb9f3a"
             ],
             [
              0.8888888888888888,
              "#fdca26"
             ],
             [
              1,
              "#f0f921"
             ]
            ],
            "type": "heatmap"
           }
          ],
          "histogram": [
           {
            "marker": {
             "pattern": {
              "fillmode": "overlay",
              "size": 10,
              "solidity": 0.2
             }
            },
            "type": "histogram"
           }
          ],
          "histogram2d": [
           {
            "colorbar": {
             "outlinewidth": 0,
             "ticks": ""
            },
            "colorscale": [
             [
              0,
              "#0d0887"
             ],
             [
              0.1111111111111111,
              "#46039f"
             ],
             [
              0.2222222222222222,
              "#7201a8"
             ],
             [
              0.3333333333333333,
              "#9c179e"
             ],
             [
              0.4444444444444444,
              "#bd3786"
             ],
             [
              0.5555555555555556,
              "#d8576b"
             ],
             [
              0.6666666666666666,
              "#ed7953"
             ],
             [
              0.7777777777777778,
              "#fb9f3a"
             ],
             [
              0.8888888888888888,
              "#fdca26"
             ],
             [
              1,
              "#f0f921"
             ]
            ],
            "type": "histogram2d"
           }
          ],
          "histogram2dcontour": [
           {
            "colorbar": {
             "outlinewidth": 0,
             "ticks": ""
            },
            "colorscale": [
             [
              0,
              "#0d0887"
             ],
             [
              0.1111111111111111,
              "#46039f"
             ],
             [
              0.2222222222222222,
              "#7201a8"
             ],
             [
              0.3333333333333333,
              "#9c179e"
             ],
             [
              0.4444444444444444,
              "#bd3786"
             ],
             [
              0.5555555555555556,
              "#d8576b"
             ],
             [
              0.6666666666666666,
              "#ed7953"
             ],
             [
              0.7777777777777778,
              "#fb9f3a"
             ],
             [
              0.8888888888888888,
              "#fdca26"
             ],
             [
              1,
              "#f0f921"
             ]
            ],
            "type": "histogram2dcontour"
           }
          ],
          "mesh3d": [
           {
            "colorbar": {
             "outlinewidth": 0,
             "ticks": ""
            },
            "type": "mesh3d"
           }
          ],
          "parcoords": [
           {
            "line": {
             "colorbar": {
              "outlinewidth": 0,
              "ticks": ""
             }
            },
            "type": "parcoords"
           }
          ],
          "pie": [
           {
            "automargin": true,
            "type": "pie"
           }
          ],
          "scatter": [
           {
            "fillpattern": {
             "fillmode": "overlay",
             "size": 10,
             "solidity": 0.2
            },
            "type": "scatter"
           }
          ],
          "scatter3d": [
           {
            "line": {
             "colorbar": {
              "outlinewidth": 0,
              "ticks": ""
             }
            },
            "marker": {
             "colorbar": {
              "outlinewidth": 0,
              "ticks": ""
             }
            },
            "type": "scatter3d"
           }
          ],
          "scattercarpet": [
           {
            "marker": {
             "colorbar": {
              "outlinewidth": 0,
              "ticks": ""
             }
            },
            "type": "scattercarpet"
           }
          ],
          "scattergeo": [
           {
            "marker": {
             "colorbar": {
              "outlinewidth": 0,
              "ticks": ""
             }
            },
            "type": "scattergeo"
           }
          ],
          "scattergl": [
           {
            "marker": {
             "colorbar": {
              "outlinewidth": 0,
              "ticks": ""
             }
            },
            "type": "scattergl"
           }
          ],
          "scattermap": [
           {
            "marker": {
             "colorbar": {
              "outlinewidth": 0,
              "ticks": ""
             }
            },
            "type": "scattermap"
           }
          ],
          "scattermapbox": [
           {
            "marker": {
             "colorbar": {
              "outlinewidth": 0,
              "ticks": ""
             }
            },
            "type": "scattermapbox"
           }
          ],
          "scatterpolar": [
           {
            "marker": {
             "colorbar": {
              "outlinewidth": 0,
              "ticks": ""
             }
            },
            "type": "scatterpolar"
           }
          ],
          "scatterpolargl": [
           {
            "marker": {
             "colorbar": {
              "outlinewidth": 0,
              "ticks": ""
             }
            },
            "type": "scatterpolargl"
           }
          ],
          "scatterternary": [
           {
            "marker": {
             "colorbar": {
              "outlinewidth": 0,
              "ticks": ""
             }
            },
            "type": "scatterternary"
           }
          ],
          "surface": [
           {
            "colorbar": {
             "outlinewidth": 0,
             "ticks": ""
            },
            "colorscale": [
             [
              0,
              "#0d0887"
             ],
             [
              0.1111111111111111,
              "#46039f"
             ],
             [
              0.2222222222222222,
              "#7201a8"
             ],
             [
              0.3333333333333333,
              "#9c179e"
             ],
             [
              0.4444444444444444,
              "#bd3786"
             ],
             [
              0.5555555555555556,
              "#d8576b"
             ],
             [
              0.6666666666666666,
              "#ed7953"
             ],
             [
              0.7777777777777778,
              "#fb9f3a"
             ],
             [
              0.8888888888888888,
              "#fdca26"
             ],
             [
              1,
              "#f0f921"
             ]
            ],
            "type": "surface"
           }
          ],
          "table": [
           {
            "cells": {
             "fill": {
              "color": "#EBF0F8"
             },
             "line": {
              "color": "white"
             }
            },
            "header": {
             "fill": {
              "color": "#C8D4E3"
             },
             "line": {
              "color": "white"
             }
            },
            "type": "table"
           }
          ]
         },
         "layout": {
          "annotationdefaults": {
           "arrowcolor": "#2a3f5f",
           "arrowhead": 0,
           "arrowwidth": 1
          },
          "autotypenumbers": "strict",
          "coloraxis": {
           "colorbar": {
            "outlinewidth": 0,
            "ticks": ""
           }
          },
          "colorscale": {
           "diverging": [
            [
             0,
             "#8e0152"
            ],
            [
             0.1,
             "#c51b7d"
            ],
            [
             0.2,
             "#de77ae"
            ],
            [
             0.3,
             "#f1b6da"
            ],
            [
             0.4,
             "#fde0ef"
            ],
            [
             0.5,
             "#f7f7f7"
            ],
            [
             0.6,
             "#e6f5d0"
            ],
            [
             0.7,
             "#b8e186"
            ],
            [
             0.8,
             "#7fbc41"
            ],
            [
             0.9,
             "#4d9221"
            ],
            [
             1,
             "#276419"
            ]
           ],
           "sequential": [
            [
             0,
             "#0d0887"
            ],
            [
             0.1111111111111111,
             "#46039f"
            ],
            [
             0.2222222222222222,
             "#7201a8"
            ],
            [
             0.3333333333333333,
             "#9c179e"
            ],
            [
             0.4444444444444444,
             "#bd3786"
            ],
            [
             0.5555555555555556,
             "#d8576b"
            ],
            [
             0.6666666666666666,
             "#ed7953"
            ],
            [
             0.7777777777777778,
             "#fb9f3a"
            ],
            [
             0.8888888888888888,
             "#fdca26"
            ],
            [
             1,
             "#f0f921"
            ]
           ],
           "sequentialminus": [
            [
             0,
             "#0d0887"
            ],
            [
             0.1111111111111111,
             "#46039f"
            ],
            [
             0.2222222222222222,
             "#7201a8"
            ],
            [
             0.3333333333333333,
             "#9c179e"
            ],
            [
             0.4444444444444444,
             "#bd3786"
            ],
            [
             0.5555555555555556,
             "#d8576b"
            ],
            [
             0.6666666666666666,
             "#ed7953"
            ],
            [
             0.7777777777777778,
             "#fb9f3a"
            ],
            [
             0.8888888888888888,
             "#fdca26"
            ],
            [
             1,
             "#f0f921"
            ]
           ]
          },
          "colorway": [
           "#636efa",
           "#EF553B",
           "#00cc96",
           "#ab63fa",
           "#FFA15A",
           "#19d3f3",
           "#FF6692",
           "#B6E880",
           "#FF97FF",
           "#FECB52"
          ],
          "font": {
           "color": "#2a3f5f"
          },
          "geo": {
           "bgcolor": "white",
           "lakecolor": "white",
           "landcolor": "#E5ECF6",
           "showlakes": true,
           "showland": true,
           "subunitcolor": "white"
          },
          "hoverlabel": {
           "align": "left"
          },
          "hovermode": "closest",
          "mapbox": {
           "style": "light"
          },
          "paper_bgcolor": "white",
          "plot_bgcolor": "#E5ECF6",
          "polar": {
           "angularaxis": {
            "gridcolor": "white",
            "linecolor": "white",
            "ticks": ""
           },
           "bgcolor": "#E5ECF6",
           "radialaxis": {
            "gridcolor": "white",
            "linecolor": "white",
            "ticks": ""
           }
          },
          "scene": {
           "xaxis": {
            "backgroundcolor": "#E5ECF6",
            "gridcolor": "white",
            "gridwidth": 2,
            "linecolor": "white",
            "showbackground": true,
            "ticks": "",
            "zerolinecolor": "white"
           },
           "yaxis": {
            "backgroundcolor": "#E5ECF6",
            "gridcolor": "white",
            "gridwidth": 2,
            "linecolor": "white",
            "showbackground": true,
            "ticks": "",
            "zerolinecolor": "white"
           },
           "zaxis": {
            "backgroundcolor": "#E5ECF6",
            "gridcolor": "white",
            "gridwidth": 2,
            "linecolor": "white",
            "showbackground": true,
            "ticks": "",
            "zerolinecolor": "white"
           }
          },
          "shapedefaults": {
           "line": {
            "color": "#2a3f5f"
           }
          },
          "ternary": {
           "aaxis": {
            "gridcolor": "white",
            "linecolor": "white",
            "ticks": ""
           },
           "baxis": {
            "gridcolor": "white",
            "linecolor": "white",
            "ticks": ""
           },
           "bgcolor": "#E5ECF6",
           "caxis": {
            "gridcolor": "white",
            "linecolor": "white",
            "ticks": ""
           }
          },
          "title": {
           "x": 0.05
          },
          "xaxis": {
           "automargin": true,
           "gridcolor": "white",
           "linecolor": "white",
           "ticks": "",
           "title": {
            "standoff": 15
           },
           "zerolinecolor": "white",
           "zerolinewidth": 2
          },
          "yaxis": {
           "automargin": true,
           "gridcolor": "white",
           "linecolor": "white",
           "ticks": "",
           "title": {
            "standoff": 15
           },
           "zerolinecolor": "white",
           "zerolinewidth": 2
          }
         }
        },
        "title": {
         "text": "Total Payload Sent by Source IP"
        },
        "width": 800,
        "xaxis": {
         "anchor": "y",
         "domain": [
          0,
          1
         ],
         "title": {
          "text": "Total Payload (bytes)"
         }
        },
        "yaxis": {
         "anchor": "x",
         "domain": [
          0,
          1
         ],
         "title": {
          "text": "Source IP"
         }
        }
       }
      }
     },
     "metadata": {},
     "output_type": "display_data"
    }
   ],
   "source": [
    "src_ip_payload = packet_data.groupby('src_ip')['payload_length'].sum().reset_index()\n",
    "src_ip_payload = src_ip_payload.sort_values('payload_length', ascending=True)\n",
    "\n",
    "fig_a = px.bar(\n",
    "    src_ip_payload, \n",
    "    x='payload_length', \n",
    "    y='src_ip', \n",
    "    orientation='h',\n",
    "    title='Total Payload Sent by Source IP',\n",
    "    labels={'payload_length': 'Total Payload (bytes)', 'src_ip': 'Source IP'},\n",
    "    color='payload_length',\n",
    "    color_continuous_scale='Viridis'\n",
    ")\n",
    "fig_a.update_layout(height=500, width=800)\n",
    "fig_a.show()"
   ]
  },
  {
   "cell_type": "markdown",
   "metadata": {},
   "source": [
    "Destination IP vs Total Payload"
   ]
  },
  {
   "cell_type": "code",
   "execution_count": 88,
   "metadata": {},
   "outputs": [
    {
     "data": {
      "application/vnd.plotly.v1+json": {
       "config": {
        "plotlyServerURL": "https://plot.ly"
       },
       "data": [
        {
         "hovertemplate": "Total Payload (bytes)=%{marker.color}<br>Destination IP=%{y}<extra></extra>",
         "legendgroup": "",
         "marker": {
          "color": {
           "bdata": "ngAUDA1y",
           "dtype": "i2"
          },
          "coloraxis": "coloraxis",
          "pattern": {
           "shape": ""
          }
         },
         "name": "",
         "orientation": "h",
         "showlegend": false,
         "textposition": "auto",
         "type": "bar",
         "x": {
          "bdata": "ngAUDA1y",
          "dtype": "i2"
         },
         "xaxis": "x",
         "y": [
          "75.75.75.75",
          "10.1.10.53",
          "84.54.22.33"
         ],
         "yaxis": "y"
        }
       ],
       "layout": {
        "barmode": "relative",
        "coloraxis": {
         "colorbar": {
          "title": {
           "text": "Total Payload (bytes)"
          }
         },
         "colorscale": [
          [
           0,
           "#440154"
          ],
          [
           0.1111111111111111,
           "#482878"
          ],
          [
           0.2222222222222222,
           "#3e4989"
          ],
          [
           0.3333333333333333,
           "#31688e"
          ],
          [
           0.4444444444444444,
           "#26828e"
          ],
          [
           0.5555555555555556,
           "#1f9e89"
          ],
          [
           0.6666666666666666,
           "#35b779"
          ],
          [
           0.7777777777777778,
           "#6ece58"
          ],
          [
           0.8888888888888888,
           "#b5de2b"
          ],
          [
           1,
           "#fde725"
          ]
         ]
        },
        "height": 500,
        "legend": {
         "tracegroupgap": 0
        },
        "template": {
         "data": {
          "bar": [
           {
            "error_x": {
             "color": "#2a3f5f"
            },
            "error_y": {
             "color": "#2a3f5f"
            },
            "marker": {
             "line": {
              "color": "#E5ECF6",
              "width": 0.5
             },
             "pattern": {
              "fillmode": "overlay",
              "size": 10,
              "solidity": 0.2
             }
            },
            "type": "bar"
           }
          ],
          "barpolar": [
           {
            "marker": {
             "line": {
              "color": "#E5ECF6",
              "width": 0.5
             },
             "pattern": {
              "fillmode": "overlay",
              "size": 10,
              "solidity": 0.2
             }
            },
            "type": "barpolar"
           }
          ],
          "carpet": [
           {
            "aaxis": {
             "endlinecolor": "#2a3f5f",
             "gridcolor": "white",
             "linecolor": "white",
             "minorgridcolor": "white",
             "startlinecolor": "#2a3f5f"
            },
            "baxis": {
             "endlinecolor": "#2a3f5f",
             "gridcolor": "white",
             "linecolor": "white",
             "minorgridcolor": "white",
             "startlinecolor": "#2a3f5f"
            },
            "type": "carpet"
           }
          ],
          "choropleth": [
           {
            "colorbar": {
             "outlinewidth": 0,
             "ticks": ""
            },
            "type": "choropleth"
           }
          ],
          "contour": [
           {
            "colorbar": {
             "outlinewidth": 0,
             "ticks": ""
            },
            "colorscale": [
             [
              0,
              "#0d0887"
             ],
             [
              0.1111111111111111,
              "#46039f"
             ],
             [
              0.2222222222222222,
              "#7201a8"
             ],
             [
              0.3333333333333333,
              "#9c179e"
             ],
             [
              0.4444444444444444,
              "#bd3786"
             ],
             [
              0.5555555555555556,
              "#d8576b"
             ],
             [
              0.6666666666666666,
              "#ed7953"
             ],
             [
              0.7777777777777778,
              "#fb9f3a"
             ],
             [
              0.8888888888888888,
              "#fdca26"
             ],
             [
              1,
              "#f0f921"
             ]
            ],
            "type": "contour"
           }
          ],
          "contourcarpet": [
           {
            "colorbar": {
             "outlinewidth": 0,
             "ticks": ""
            },
            "type": "contourcarpet"
           }
          ],
          "heatmap": [
           {
            "colorbar": {
             "outlinewidth": 0,
             "ticks": ""
            },
            "colorscale": [
             [
              0,
              "#0d0887"
             ],
             [
              0.1111111111111111,
              "#46039f"
             ],
             [
              0.2222222222222222,
              "#7201a8"
             ],
             [
              0.3333333333333333,
              "#9c179e"
             ],
             [
              0.4444444444444444,
              "#bd3786"
             ],
             [
              0.5555555555555556,
              "#d8576b"
             ],
             [
              0.6666666666666666,
              "#ed7953"
             ],
             [
              0.7777777777777778,
              "#fb9f3a"
             ],
             [
              0.8888888888888888,
              "#fdca26"
             ],
             [
              1,
              "#f0f921"
             ]
            ],
            "type": "heatmap"
           }
          ],
          "histogram": [
           {
            "marker": {
             "pattern": {
              "fillmode": "overlay",
              "size": 10,
              "solidity": 0.2
             }
            },
            "type": "histogram"
           }
          ],
          "histogram2d": [
           {
            "colorbar": {
             "outlinewidth": 0,
             "ticks": ""
            },
            "colorscale": [
             [
              0,
              "#0d0887"
             ],
             [
              0.1111111111111111,
              "#46039f"
             ],
             [
              0.2222222222222222,
              "#7201a8"
             ],
             [
              0.3333333333333333,
              "#9c179e"
             ],
             [
              0.4444444444444444,
              "#bd3786"
             ],
             [
              0.5555555555555556,
              "#d8576b"
             ],
             [
              0.6666666666666666,
              "#ed7953"
             ],
             [
              0.7777777777777778,
              "#fb9f3a"
             ],
             [
              0.8888888888888888,
              "#fdca26"
             ],
             [
              1,
              "#f0f921"
             ]
            ],
            "type": "histogram2d"
           }
          ],
          "histogram2dcontour": [
           {
            "colorbar": {
             "outlinewidth": 0,
             "ticks": ""
            },
            "colorscale": [
             [
              0,
              "#0d0887"
             ],
             [
              0.1111111111111111,
              "#46039f"
             ],
             [
              0.2222222222222222,
              "#7201a8"
             ],
             [
              0.3333333333333333,
              "#9c179e"
             ],
             [
              0.4444444444444444,
              "#bd3786"
             ],
             [
              0.5555555555555556,
              "#d8576b"
             ],
             [
              0.6666666666666666,
              "#ed7953"
             ],
             [
              0.7777777777777778,
              "#fb9f3a"
             ],
             [
              0.8888888888888888,
              "#fdca26"
             ],
             [
              1,
              "#f0f921"
             ]
            ],
            "type": "histogram2dcontour"
           }
          ],
          "mesh3d": [
           {
            "colorbar": {
             "outlinewidth": 0,
             "ticks": ""
            },
            "type": "mesh3d"
           }
          ],
          "parcoords": [
           {
            "line": {
             "colorbar": {
              "outlinewidth": 0,
              "ticks": ""
             }
            },
            "type": "parcoords"
           }
          ],
          "pie": [
           {
            "automargin": true,
            "type": "pie"
           }
          ],
          "scatter": [
           {
            "fillpattern": {
             "fillmode": "overlay",
             "size": 10,
             "solidity": 0.2
            },
            "type": "scatter"
           }
          ],
          "scatter3d": [
           {
            "line": {
             "colorbar": {
              "outlinewidth": 0,
              "ticks": ""
             }
            },
            "marker": {
             "colorbar": {
              "outlinewidth": 0,
              "ticks": ""
             }
            },
            "type": "scatter3d"
           }
          ],
          "scattercarpet": [
           {
            "marker": {
             "colorbar": {
              "outlinewidth": 0,
              "ticks": ""
             }
            },
            "type": "scattercarpet"
           }
          ],
          "scattergeo": [
           {
            "marker": {
             "colorbar": {
              "outlinewidth": 0,
              "ticks": ""
             }
            },
            "type": "scattergeo"
           }
          ],
          "scattergl": [
           {
            "marker": {
             "colorbar": {
              "outlinewidth": 0,
              "ticks": ""
             }
            },
            "type": "scattergl"
           }
          ],
          "scattermap": [
           {
            "marker": {
             "colorbar": {
              "outlinewidth": 0,
              "ticks": ""
             }
            },
            "type": "scattermap"
           }
          ],
          "scattermapbox": [
           {
            "marker": {
             "colorbar": {
              "outlinewidth": 0,
              "ticks": ""
             }
            },
            "type": "scattermapbox"
           }
          ],
          "scatterpolar": [
           {
            "marker": {
             "colorbar": {
              "outlinewidth": 0,
              "ticks": ""
             }
            },
            "type": "scatterpolar"
           }
          ],
          "scatterpolargl": [
           {
            "marker": {
             "colorbar": {
              "outlinewidth": 0,
              "ticks": ""
             }
            },
            "type": "scatterpolargl"
           }
          ],
          "scatterternary": [
           {
            "marker": {
             "colorbar": {
              "outlinewidth": 0,
              "ticks": ""
             }
            },
            "type": "scatterternary"
           }
          ],
          "surface": [
           {
            "colorbar": {
             "outlinewidth": 0,
             "ticks": ""
            },
            "colorscale": [
             [
              0,
              "#0d0887"
             ],
             [
              0.1111111111111111,
              "#46039f"
             ],
             [
              0.2222222222222222,
              "#7201a8"
             ],
             [
              0.3333333333333333,
              "#9c179e"
             ],
             [
              0.4444444444444444,
              "#bd3786"
             ],
             [
              0.5555555555555556,
              "#d8576b"
             ],
             [
              0.6666666666666666,
              "#ed7953"
             ],
             [
              0.7777777777777778,
              "#fb9f3a"
             ],
             [
              0.8888888888888888,
              "#fdca26"
             ],
             [
              1,
              "#f0f921"
             ]
            ],
            "type": "surface"
           }
          ],
          "table": [
           {
            "cells": {
             "fill": {
              "color": "#EBF0F8"
             },
             "line": {
              "color": "white"
             }
            },
            "header": {
             "fill": {
              "color": "#C8D4E3"
             },
             "line": {
              "color": "white"
             }
            },
            "type": "table"
           }
          ]
         },
         "layout": {
          "annotationdefaults": {
           "arrowcolor": "#2a3f5f",
           "arrowhead": 0,
           "arrowwidth": 1
          },
          "autotypenumbers": "strict",
          "coloraxis": {
           "colorbar": {
            "outlinewidth": 0,
            "ticks": ""
           }
          },
          "colorscale": {
           "diverging": [
            [
             0,
             "#8e0152"
            ],
            [
             0.1,
             "#c51b7d"
            ],
            [
             0.2,
             "#de77ae"
            ],
            [
             0.3,
             "#f1b6da"
            ],
            [
             0.4,
             "#fde0ef"
            ],
            [
             0.5,
             "#f7f7f7"
            ],
            [
             0.6,
             "#e6f5d0"
            ],
            [
             0.7,
             "#b8e186"
            ],
            [
             0.8,
             "#7fbc41"
            ],
            [
             0.9,
             "#4d9221"
            ],
            [
             1,
             "#276419"
            ]
           ],
           "sequential": [
            [
             0,
             "#0d0887"
            ],
            [
             0.1111111111111111,
             "#46039f"
            ],
            [
             0.2222222222222222,
             "#7201a8"
            ],
            [
             0.3333333333333333,
             "#9c179e"
            ],
            [
             0.4444444444444444,
             "#bd3786"
            ],
            [
             0.5555555555555556,
             "#d8576b"
            ],
            [
             0.6666666666666666,
             "#ed7953"
            ],
            [
             0.7777777777777778,
             "#fb9f3a"
            ],
            [
             0.8888888888888888,
             "#fdca26"
            ],
            [
             1,
             "#f0f921"
            ]
           ],
           "sequentialminus": [
            [
             0,
             "#0d0887"
            ],
            [
             0.1111111111111111,
             "#46039f"
            ],
            [
             0.2222222222222222,
             "#7201a8"
            ],
            [
             0.3333333333333333,
             "#9c179e"
            ],
            [
             0.4444444444444444,
             "#bd3786"
            ],
            [
             0.5555555555555556,
             "#d8576b"
            ],
            [
             0.6666666666666666,
             "#ed7953"
            ],
            [
             0.7777777777777778,
             "#fb9f3a"
            ],
            [
             0.8888888888888888,
             "#fdca26"
            ],
            [
             1,
             "#f0f921"
            ]
           ]
          },
          "colorway": [
           "#636efa",
           "#EF553B",
           "#00cc96",
           "#ab63fa",
           "#FFA15A",
           "#19d3f3",
           "#FF6692",
           "#B6E880",
           "#FF97FF",
           "#FECB52"
          ],
          "font": {
           "color": "#2a3f5f"
          },
          "geo": {
           "bgcolor": "white",
           "lakecolor": "white",
           "landcolor": "#E5ECF6",
           "showlakes": true,
           "showland": true,
           "subunitcolor": "white"
          },
          "hoverlabel": {
           "align": "left"
          },
          "hovermode": "closest",
          "mapbox": {
           "style": "light"
          },
          "paper_bgcolor": "white",
          "plot_bgcolor": "#E5ECF6",
          "polar": {
           "angularaxis": {
            "gridcolor": "white",
            "linecolor": "white",
            "ticks": ""
           },
           "bgcolor": "#E5ECF6",
           "radialaxis": {
            "gridcolor": "white",
            "linecolor": "white",
            "ticks": ""
           }
          },
          "scene": {
           "xaxis": {
            "backgroundcolor": "#E5ECF6",
            "gridcolor": "white",
            "gridwidth": 2,
            "linecolor": "white",
            "showbackground": true,
            "ticks": "",
            "zerolinecolor": "white"
           },
           "yaxis": {
            "backgroundcolor": "#E5ECF6",
            "gridcolor": "white",
            "gridwidth": 2,
            "linecolor": "white",
            "showbackground": true,
            "ticks": "",
            "zerolinecolor": "white"
           },
           "zaxis": {
            "backgroundcolor": "#E5ECF6",
            "gridcolor": "white",
            "gridwidth": 2,
            "linecolor": "white",
            "showbackground": true,
            "ticks": "",
            "zerolinecolor": "white"
           }
          },
          "shapedefaults": {
           "line": {
            "color": "#2a3f5f"
           }
          },
          "ternary": {
           "aaxis": {
            "gridcolor": "white",
            "linecolor": "white",
            "ticks": ""
           },
           "baxis": {
            "gridcolor": "white",
            "linecolor": "white",
            "ticks": ""
           },
           "bgcolor": "#E5ECF6",
           "caxis": {
            "gridcolor": "white",
            "linecolor": "white",
            "ticks": ""
           }
          },
          "title": {
           "x": 0.05
          },
          "xaxis": {
           "automargin": true,
           "gridcolor": "white",
           "linecolor": "white",
           "ticks": "",
           "title": {
            "standoff": 15
           },
           "zerolinecolor": "white",
           "zerolinewidth": 2
          },
          "yaxis": {
           "automargin": true,
           "gridcolor": "white",
           "linecolor": "white",
           "ticks": "",
           "title": {
            "standoff": 15
           },
           "zerolinecolor": "white",
           "zerolinewidth": 2
          }
         }
        },
        "title": {
         "text": "Total Payload Received by Destination IP"
        },
        "width": 800,
        "xaxis": {
         "anchor": "y",
         "domain": [
          0,
          1
         ],
         "title": {
          "text": "Total Payload (bytes)"
         }
        },
        "yaxis": {
         "anchor": "x",
         "domain": [
          0,
          1
         ],
         "title": {
          "text": "Destination IP"
         }
        }
       }
      }
     },
     "metadata": {},
     "output_type": "display_data"
    }
   ],
   "source": [
    "dst_ip_payload = packet_data.groupby('dst_ip')['payload_length'].sum().reset_index()\n",
    "dst_ip_payload = dst_ip_payload.sort_values('payload_length', ascending=True)\n",
    "\n",
    "fig_b = px.bar(\n",
    "    dst_ip_payload, \n",
    "    x='payload_length', \n",
    "    y='dst_ip', \n",
    "    orientation='h',\n",
    "    title='Total Payload Received by Destination IP',\n",
    "    labels={'payload_length': 'Total Payload (bytes)', 'dst_ip': 'Destination IP'},\n",
    "    color='payload_length',\n",
    "    color_continuous_scale='Viridis'\n",
    ")\n",
    "fig_b.update_layout(height=500, width=800)\n",
    "fig_b.show() "
   ]
  },
  {
   "cell_type": "markdown",
   "metadata": {},
   "source": [
    "Source Port vs Total Payload"
   ]
  },
  {
   "cell_type": "code",
   "execution_count": 90,
   "metadata": {},
   "outputs": [
    {
     "data": {
      "application/vnd.plotly.v1+json": {
       "config": {
        "plotlyServerURL": "https://plot.ly"
       },
       "data": [
        {
         "hovertemplate": "Total Payload (bytes)=%{marker.color}<br>Source Port=%{y}<extra></extra>",
         "legendgroup": "",
         "marker": {
          "color": {
           "bdata": "TwBPACF+",
           "dtype": "i2"
          },
          "coloraxis": "coloraxis",
          "pattern": {
           "shape": ""
          }
         },
         "name": "",
         "orientation": "h",
         "showlegend": false,
         "textposition": "auto",
         "type": "bar",
         "x": {
          "bdata": "TwBPACF+",
          "dtype": "i2"
         },
         "xaxis": "x",
         "y": [
          "15812",
          "23903",
          "53"
         ],
         "yaxis": "y"
        }
       ],
       "layout": {
        "barmode": "relative",
        "coloraxis": {
         "colorbar": {
          "title": {
           "text": "Total Payload (bytes)"
          }
         },
         "colorscale": [
          [
           0,
           "#440154"
          ],
          [
           0.1111111111111111,
           "#482878"
          ],
          [
           0.2222222222222222,
           "#3e4989"
          ],
          [
           0.3333333333333333,
           "#31688e"
          ],
          [
           0.4444444444444444,
           "#26828e"
          ],
          [
           0.5555555555555556,
           "#1f9e89"
          ],
          [
           0.6666666666666666,
           "#35b779"
          ],
          [
           0.7777777777777778,
           "#6ece58"
          ],
          [
           0.8888888888888888,
           "#b5de2b"
          ],
          [
           1,
           "#fde725"
          ]
         ]
        },
        "height": 600,
        "legend": {
         "tracegroupgap": 0
        },
        "template": {
         "data": {
          "bar": [
           {
            "error_x": {
             "color": "#2a3f5f"
            },
            "error_y": {
             "color": "#2a3f5f"
            },
            "marker": {
             "line": {
              "color": "#E5ECF6",
              "width": 0.5
             },
             "pattern": {
              "fillmode": "overlay",
              "size": 10,
              "solidity": 0.2
             }
            },
            "type": "bar"
           }
          ],
          "barpolar": [
           {
            "marker": {
             "line": {
              "color": "#E5ECF6",
              "width": 0.5
             },
             "pattern": {
              "fillmode": "overlay",
              "size": 10,
              "solidity": 0.2
             }
            },
            "type": "barpolar"
           }
          ],
          "carpet": [
           {
            "aaxis": {
             "endlinecolor": "#2a3f5f",
             "gridcolor": "white",
             "linecolor": "white",
             "minorgridcolor": "white",
             "startlinecolor": "#2a3f5f"
            },
            "baxis": {
             "endlinecolor": "#2a3f5f",
             "gridcolor": "white",
             "linecolor": "white",
             "minorgridcolor": "white",
             "startlinecolor": "#2a3f5f"
            },
            "type": "carpet"
           }
          ],
          "choropleth": [
           {
            "colorbar": {
             "outlinewidth": 0,
             "ticks": ""
            },
            "type": "choropleth"
           }
          ],
          "contour": [
           {
            "colorbar": {
             "outlinewidth": 0,
             "ticks": ""
            },
            "colorscale": [
             [
              0,
              "#0d0887"
             ],
             [
              0.1111111111111111,
              "#46039f"
             ],
             [
              0.2222222222222222,
              "#7201a8"
             ],
             [
              0.3333333333333333,
              "#9c179e"
             ],
             [
              0.4444444444444444,
              "#bd3786"
             ],
             [
              0.5555555555555556,
              "#d8576b"
             ],
             [
              0.6666666666666666,
              "#ed7953"
             ],
             [
              0.7777777777777778,
              "#fb9f3a"
             ],
             [
              0.8888888888888888,
              "#fdca26"
             ],
             [
              1,
              "#f0f921"
             ]
            ],
            "type": "contour"
           }
          ],
          "contourcarpet": [
           {
            "colorbar": {
             "outlinewidth": 0,
             "ticks": ""
            },
            "type": "contourcarpet"
           }
          ],
          "heatmap": [
           {
            "colorbar": {
             "outlinewidth": 0,
             "ticks": ""
            },
            "colorscale": [
             [
              0,
              "#0d0887"
             ],
             [
              0.1111111111111111,
              "#46039f"
             ],
             [
              0.2222222222222222,
              "#7201a8"
             ],
             [
              0.3333333333333333,
              "#9c179e"
             ],
             [
              0.4444444444444444,
              "#bd3786"
             ],
             [
              0.5555555555555556,
              "#d8576b"
             ],
             [
              0.6666666666666666,
              "#ed7953"
             ],
             [
              0.7777777777777778,
              "#fb9f3a"
             ],
             [
              0.8888888888888888,
              "#fdca26"
             ],
             [
              1,
              "#f0f921"
             ]
            ],
            "type": "heatmap"
           }
          ],
          "histogram": [
           {
            "marker": {
             "pattern": {
              "fillmode": "overlay",
              "size": 10,
              "solidity": 0.2
             }
            },
            "type": "histogram"
           }
          ],
          "histogram2d": [
           {
            "colorbar": {
             "outlinewidth": 0,
             "ticks": ""
            },
            "colorscale": [
             [
              0,
              "#0d0887"
             ],
             [
              0.1111111111111111,
              "#46039f"
             ],
             [
              0.2222222222222222,
              "#7201a8"
             ],
             [
              0.3333333333333333,
              "#9c179e"
             ],
             [
              0.4444444444444444,
              "#bd3786"
             ],
             [
              0.5555555555555556,
              "#d8576b"
             ],
             [
              0.6666666666666666,
              "#ed7953"
             ],
             [
              0.7777777777777778,
              "#fb9f3a"
             ],
             [
              0.8888888888888888,
              "#fdca26"
             ],
             [
              1,
              "#f0f921"
             ]
            ],
            "type": "histogram2d"
           }
          ],
          "histogram2dcontour": [
           {
            "colorbar": {
             "outlinewidth": 0,
             "ticks": ""
            },
            "colorscale": [
             [
              0,
              "#0d0887"
             ],
             [
              0.1111111111111111,
              "#46039f"
             ],
             [
              0.2222222222222222,
              "#7201a8"
             ],
             [
              0.3333333333333333,
              "#9c179e"
             ],
             [
              0.4444444444444444,
              "#bd3786"
             ],
             [
              0.5555555555555556,
              "#d8576b"
             ],
             [
              0.6666666666666666,
              "#ed7953"
             ],
             [
              0.7777777777777778,
              "#fb9f3a"
             ],
             [
              0.8888888888888888,
              "#fdca26"
             ],
             [
              1,
              "#f0f921"
             ]
            ],
            "type": "histogram2dcontour"
           }
          ],
          "mesh3d": [
           {
            "colorbar": {
             "outlinewidth": 0,
             "ticks": ""
            },
            "type": "mesh3d"
           }
          ],
          "parcoords": [
           {
            "line": {
             "colorbar": {
              "outlinewidth": 0,
              "ticks": ""
             }
            },
            "type": "parcoords"
           }
          ],
          "pie": [
           {
            "automargin": true,
            "type": "pie"
           }
          ],
          "scatter": [
           {
            "fillpattern": {
             "fillmode": "overlay",
             "size": 10,
             "solidity": 0.2
            },
            "type": "scatter"
           }
          ],
          "scatter3d": [
           {
            "line": {
             "colorbar": {
              "outlinewidth": 0,
              "ticks": ""
             }
            },
            "marker": {
             "colorbar": {
              "outlinewidth": 0,
              "ticks": ""
             }
            },
            "type": "scatter3d"
           }
          ],
          "scattercarpet": [
           {
            "marker": {
             "colorbar": {
              "outlinewidth": 0,
              "ticks": ""
             }
            },
            "type": "scattercarpet"
           }
          ],
          "scattergeo": [
           {
            "marker": {
             "colorbar": {
              "outlinewidth": 0,
              "ticks": ""
             }
            },
            "type": "scattergeo"
           }
          ],
          "scattergl": [
           {
            "marker": {
             "colorbar": {
              "outlinewidth": 0,
              "ticks": ""
             }
            },
            "type": "scattergl"
           }
          ],
          "scattermap": [
           {
            "marker": {
             "colorbar": {
              "outlinewidth": 0,
              "ticks": ""
             }
            },
            "type": "scattermap"
           }
          ],
          "scattermapbox": [
           {
            "marker": {
             "colorbar": {
              "outlinewidth": 0,
              "ticks": ""
             }
            },
            "type": "scattermapbox"
           }
          ],
          "scatterpolar": [
           {
            "marker": {
             "colorbar": {
              "outlinewidth": 0,
              "ticks": ""
             }
            },
            "type": "scatterpolar"
           }
          ],
          "scatterpolargl": [
           {
            "marker": {
             "colorbar": {
              "outlinewidth": 0,
              "ticks": ""
             }
            },
            "type": "scatterpolargl"
           }
          ],
          "scatterternary": [
           {
            "marker": {
             "colorbar": {
              "outlinewidth": 0,
              "ticks": ""
             }
            },
            "type": "scatterternary"
           }
          ],
          "surface": [
           {
            "colorbar": {
             "outlinewidth": 0,
             "ticks": ""
            },
            "colorscale": [
             [
              0,
              "#0d0887"
             ],
             [
              0.1111111111111111,
              "#46039f"
             ],
             [
              0.2222222222222222,
              "#7201a8"
             ],
             [
              0.3333333333333333,
              "#9c179e"
             ],
             [
              0.4444444444444444,
              "#bd3786"
             ],
             [
              0.5555555555555556,
              "#d8576b"
             ],
             [
              0.6666666666666666,
              "#ed7953"
             ],
             [
              0.7777777777777778,
              "#fb9f3a"
             ],
             [
              0.8888888888888888,
              "#fdca26"
             ],
             [
              1,
              "#f0f921"
             ]
            ],
            "type": "surface"
           }
          ],
          "table": [
           {
            "cells": {
             "fill": {
              "color": "#EBF0F8"
             },
             "line": {
              "color": "white"
             }
            },
            "header": {
             "fill": {
              "color": "#C8D4E3"
             },
             "line": {
              "color": "white"
             }
            },
            "type": "table"
           }
          ]
         },
         "layout": {
          "annotationdefaults": {
           "arrowcolor": "#2a3f5f",
           "arrowhead": 0,
           "arrowwidth": 1
          },
          "autotypenumbers": "strict",
          "coloraxis": {
           "colorbar": {
            "outlinewidth": 0,
            "ticks": ""
           }
          },
          "colorscale": {
           "diverging": [
            [
             0,
             "#8e0152"
            ],
            [
             0.1,
             "#c51b7d"
            ],
            [
             0.2,
             "#de77ae"
            ],
            [
             0.3,
             "#f1b6da"
            ],
            [
             0.4,
             "#fde0ef"
            ],
            [
             0.5,
             "#f7f7f7"
            ],
            [
             0.6,
             "#e6f5d0"
            ],
            [
             0.7,
             "#b8e186"
            ],
            [
             0.8,
             "#7fbc41"
            ],
            [
             0.9,
             "#4d9221"
            ],
            [
             1,
             "#276419"
            ]
           ],
           "sequential": [
            [
             0,
             "#0d0887"
            ],
            [
             0.1111111111111111,
             "#46039f"
            ],
            [
             0.2222222222222222,
             "#7201a8"
            ],
            [
             0.3333333333333333,
             "#9c179e"
            ],
            [
             0.4444444444444444,
             "#bd3786"
            ],
            [
             0.5555555555555556,
             "#d8576b"
            ],
            [
             0.6666666666666666,
             "#ed7953"
            ],
            [
             0.7777777777777778,
             "#fb9f3a"
            ],
            [
             0.8888888888888888,
             "#fdca26"
            ],
            [
             1,
             "#f0f921"
            ]
           ],
           "sequentialminus": [
            [
             0,
             "#0d0887"
            ],
            [
             0.1111111111111111,
             "#46039f"
            ],
            [
             0.2222222222222222,
             "#7201a8"
            ],
            [
             0.3333333333333333,
             "#9c179e"
            ],
            [
             0.4444444444444444,
             "#bd3786"
            ],
            [
             0.5555555555555556,
             "#d8576b"
            ],
            [
             0.6666666666666666,
             "#ed7953"
            ],
            [
             0.7777777777777778,
             "#fb9f3a"
            ],
            [
             0.8888888888888888,
             "#fdca26"
            ],
            [
             1,
             "#f0f921"
            ]
           ]
          },
          "colorway": [
           "#636efa",
           "#EF553B",
           "#00cc96",
           "#ab63fa",
           "#FFA15A",
           "#19d3f3",
           "#FF6692",
           "#B6E880",
           "#FF97FF",
           "#FECB52"
          ],
          "font": {
           "color": "#2a3f5f"
          },
          "geo": {
           "bgcolor": "white",
           "lakecolor": "white",
           "landcolor": "#E5ECF6",
           "showlakes": true,
           "showland": true,
           "subunitcolor": "white"
          },
          "hoverlabel": {
           "align": "left"
          },
          "hovermode": "closest",
          "mapbox": {
           "style": "light"
          },
          "paper_bgcolor": "white",
          "plot_bgcolor": "#E5ECF6",
          "polar": {
           "angularaxis": {
            "gridcolor": "white",
            "linecolor": "white",
            "ticks": ""
           },
           "bgcolor": "#E5ECF6",
           "radialaxis": {
            "gridcolor": "white",
            "linecolor": "white",
            "ticks": ""
           }
          },
          "scene": {
           "xaxis": {
            "backgroundcolor": "#E5ECF6",
            "gridcolor": "white",
            "gridwidth": 2,
            "linecolor": "white",
            "showbackground": true,
            "ticks": "",
            "zerolinecolor": "white"
           },
           "yaxis": {
            "backgroundcolor": "#E5ECF6",
            "gridcolor": "white",
            "gridwidth": 2,
            "linecolor": "white",
            "showbackground": true,
            "ticks": "",
            "zerolinecolor": "white"
           },
           "zaxis": {
            "backgroundcolor": "#E5ECF6",
            "gridcolor": "white",
            "gridwidth": 2,
            "linecolor": "white",
            "showbackground": true,
            "ticks": "",
            "zerolinecolor": "white"
           }
          },
          "shapedefaults": {
           "line": {
            "color": "#2a3f5f"
           }
          },
          "ternary": {
           "aaxis": {
            "gridcolor": "white",
            "linecolor": "white",
            "ticks": ""
           },
           "baxis": {
            "gridcolor": "white",
            "linecolor": "white",
            "ticks": ""
           },
           "bgcolor": "#E5ECF6",
           "caxis": {
            "gridcolor": "white",
            "linecolor": "white",
            "ticks": ""
           }
          },
          "title": {
           "x": 0.05
          },
          "xaxis": {
           "automargin": true,
           "gridcolor": "white",
           "linecolor": "white",
           "ticks": "",
           "title": {
            "standoff": 15
           },
           "zerolinecolor": "white",
           "zerolinewidth": 2
          },
          "yaxis": {
           "automargin": true,
           "gridcolor": "white",
           "linecolor": "white",
           "ticks": "",
           "title": {
            "standoff": 15
           },
           "zerolinecolor": "white",
           "zerolinewidth": 2
          }
         }
        },
        "title": {
         "text": "Total Payload Sent by Source Port"
        },
        "width": 800,
        "xaxis": {
         "anchor": "y",
         "domain": [
          0,
          1
         ],
         "title": {
          "text": "Total Payload (bytes)"
         }
        },
        "yaxis": {
         "anchor": "x",
         "domain": [
          0,
          1
         ],
         "title": {
          "text": "Source Port"
         }
        }
       }
      }
     },
     "metadata": {},
     "output_type": "display_data"
    }
   ],
   "source": [
    "src_port_payload = packet_data.groupby('src_port')['payload_length'].sum().reset_index()\n",
    "src_port_payload = src_port_payload.sort_values('payload_length', ascending=True)\n",
    "src_port_payload['src_port'] = src_port_payload['src_port'].astype(str)  # Convert ports to strings for better display\n",
    "\n",
    "fig_c = px.bar(\n",
    "    src_port_payload, \n",
    "    x='payload_length', \n",
    "    y='src_port', \n",
    "    orientation='h',\n",
    "    title='Total Payload Sent by Source Port',\n",
    "    labels={'payload_length': 'Total Payload (bytes)', 'src_port': 'Source Port'},\n",
    "    color='payload_length',\n",
    "    color_continuous_scale='Viridis'\n",
    ")\n",
    "fig_c.update_layout(height=600, width=800)\n",
    "fig_c.show()  # This displays the plot in the noteboo"
   ]
  },
  {
   "cell_type": "markdown",
   "metadata": {},
   "source": [
    "Destination Port vs Total Payload"
   ]
  },
  {
   "cell_type": "code",
   "execution_count": 91,
   "metadata": {},
   "outputs": [
    {
     "data": {
      "application/vnd.plotly.v1+json": {
       "config": {
        "plotlyServerURL": "https://plot.ly"
       },
       "data": [
        {
         "hovertemplate": "Total Payload (bytes)=%{marker.color}<br>Destination Port=%{y}<extra></extra>",
         "legendgroup": "",
         "marker": {
          "color": {
           "bdata": "dwCDAMV9",
           "dtype": "i2"
          },
          "coloraxis": "coloraxis",
          "pattern": {
           "shape": ""
          }
         },
         "name": "",
         "orientation": "h",
         "showlegend": false,
         "textposition": "auto",
         "type": "bar",
         "x": {
          "bdata": "dwCDAMV9",
          "dtype": "i2"
         },
         "xaxis": "x",
         "y": [
          "15812",
          "23903",
          "53"
         ],
         "yaxis": "y"
        }
       ],
       "layout": {
        "barmode": "relative",
        "coloraxis": {
         "colorbar": {
          "title": {
           "text": "Total Payload (bytes)"
          }
         },
         "colorscale": [
          [
           0,
           "#440154"
          ],
          [
           0.1111111111111111,
           "#482878"
          ],
          [
           0.2222222222222222,
           "#3e4989"
          ],
          [
           0.3333333333333333,
           "#31688e"
          ],
          [
           0.4444444444444444,
           "#26828e"
          ],
          [
           0.5555555555555556,
           "#1f9e89"
          ],
          [
           0.6666666666666666,
           "#35b779"
          ],
          [
           0.7777777777777778,
           "#6ece58"
          ],
          [
           0.8888888888888888,
           "#b5de2b"
          ],
          [
           1,
           "#fde725"
          ]
         ]
        },
        "height": 600,
        "legend": {
         "tracegroupgap": 0
        },
        "template": {
         "data": {
          "bar": [
           {
            "error_x": {
             "color": "#2a3f5f"
            },
            "error_y": {
             "color": "#2a3f5f"
            },
            "marker": {
             "line": {
              "color": "#E5ECF6",
              "width": 0.5
             },
             "pattern": {
              "fillmode": "overlay",
              "size": 10,
              "solidity": 0.2
             }
            },
            "type": "bar"
           }
          ],
          "barpolar": [
           {
            "marker": {
             "line": {
              "color": "#E5ECF6",
              "width": 0.5
             },
             "pattern": {
              "fillmode": "overlay",
              "size": 10,
              "solidity": 0.2
             }
            },
            "type": "barpolar"
           }
          ],
          "carpet": [
           {
            "aaxis": {
             "endlinecolor": "#2a3f5f",
             "gridcolor": "white",
             "linecolor": "white",
             "minorgridcolor": "white",
             "startlinecolor": "#2a3f5f"
            },
            "baxis": {
             "endlinecolor": "#2a3f5f",
             "gridcolor": "white",
             "linecolor": "white",
             "minorgridcolor": "white",
             "startlinecolor": "#2a3f5f"
            },
            "type": "carpet"
           }
          ],
          "choropleth": [
           {
            "colorbar": {
             "outlinewidth": 0,
             "ticks": ""
            },
            "type": "choropleth"
           }
          ],
          "contour": [
           {
            "colorbar": {
             "outlinewidth": 0,
             "ticks": ""
            },
            "colorscale": [
             [
              0,
              "#0d0887"
             ],
             [
              0.1111111111111111,
              "#46039f"
             ],
             [
              0.2222222222222222,
              "#7201a8"
             ],
             [
              0.3333333333333333,
              "#9c179e"
             ],
             [
              0.4444444444444444,
              "#bd3786"
             ],
             [
              0.5555555555555556,
              "#d8576b"
             ],
             [
              0.6666666666666666,
              "#ed7953"
             ],
             [
              0.7777777777777778,
              "#fb9f3a"
             ],
             [
              0.8888888888888888,
              "#fdca26"
             ],
             [
              1,
              "#f0f921"
             ]
            ],
            "type": "contour"
           }
          ],
          "contourcarpet": [
           {
            "colorbar": {
             "outlinewidth": 0,
             "ticks": ""
            },
            "type": "contourcarpet"
           }
          ],
          "heatmap": [
           {
            "colorbar": {
             "outlinewidth": 0,
             "ticks": ""
            },
            "colorscale": [
             [
              0,
              "#0d0887"
             ],
             [
              0.1111111111111111,
              "#46039f"
             ],
             [
              0.2222222222222222,
              "#7201a8"
             ],
             [
              0.3333333333333333,
              "#9c179e"
             ],
             [
              0.4444444444444444,
              "#bd3786"
             ],
             [
              0.5555555555555556,
              "#d8576b"
             ],
             [
              0.6666666666666666,
              "#ed7953"
             ],
             [
              0.7777777777777778,
              "#fb9f3a"
             ],
             [
              0.8888888888888888,
              "#fdca26"
             ],
             [
              1,
              "#f0f921"
             ]
            ],
            "type": "heatmap"
           }
          ],
          "histogram": [
           {
            "marker": {
             "pattern": {
              "fillmode": "overlay",
              "size": 10,
              "solidity": 0.2
             }
            },
            "type": "histogram"
           }
          ],
          "histogram2d": [
           {
            "colorbar": {
             "outlinewidth": 0,
             "ticks": ""
            },
            "colorscale": [
             [
              0,
              "#0d0887"
             ],
             [
              0.1111111111111111,
              "#46039f"
             ],
             [
              0.2222222222222222,
              "#7201a8"
             ],
             [
              0.3333333333333333,
              "#9c179e"
             ],
             [
              0.4444444444444444,
              "#bd3786"
             ],
             [
              0.5555555555555556,
              "#d8576b"
             ],
             [
              0.6666666666666666,
              "#ed7953"
             ],
             [
              0.7777777777777778,
              "#fb9f3a"
             ],
             [
              0.8888888888888888,
              "#fdca26"
             ],
             [
              1,
              "#f0f921"
             ]
            ],
            "type": "histogram2d"
           }
          ],
          "histogram2dcontour": [
           {
            "colorbar": {
             "outlinewidth": 0,
             "ticks": ""
            },
            "colorscale": [
             [
              0,
              "#0d0887"
             ],
             [
              0.1111111111111111,
              "#46039f"
             ],
             [
              0.2222222222222222,
              "#7201a8"
             ],
             [
              0.3333333333333333,
              "#9c179e"
             ],
             [
              0.4444444444444444,
              "#bd3786"
             ],
             [
              0.5555555555555556,
              "#d8576b"
             ],
             [
              0.6666666666666666,
              "#ed7953"
             ],
             [
              0.7777777777777778,
              "#fb9f3a"
             ],
             [
              0.8888888888888888,
              "#fdca26"
             ],
             [
              1,
              "#f0f921"
             ]
            ],
            "type": "histogram2dcontour"
           }
          ],
          "mesh3d": [
           {
            "colorbar": {
             "outlinewidth": 0,
             "ticks": ""
            },
            "type": "mesh3d"
           }
          ],
          "parcoords": [
           {
            "line": {
             "colorbar": {
              "outlinewidth": 0,
              "ticks": ""
             }
            },
            "type": "parcoords"
           }
          ],
          "pie": [
           {
            "automargin": true,
            "type": "pie"
           }
          ],
          "scatter": [
           {
            "fillpattern": {
             "fillmode": "overlay",
             "size": 10,
             "solidity": 0.2
            },
            "type": "scatter"
           }
          ],
          "scatter3d": [
           {
            "line": {
             "colorbar": {
              "outlinewidth": 0,
              "ticks": ""
             }
            },
            "marker": {
             "colorbar": {
              "outlinewidth": 0,
              "ticks": ""
             }
            },
            "type": "scatter3d"
           }
          ],
          "scattercarpet": [
           {
            "marker": {
             "colorbar": {
              "outlinewidth": 0,
              "ticks": ""
             }
            },
            "type": "scattercarpet"
           }
          ],
          "scattergeo": [
           {
            "marker": {
             "colorbar": {
              "outlinewidth": 0,
              "ticks": ""
             }
            },
            "type": "scattergeo"
           }
          ],
          "scattergl": [
           {
            "marker": {
             "colorbar": {
              "outlinewidth": 0,
              "ticks": ""
             }
            },
            "type": "scattergl"
           }
          ],
          "scattermap": [
           {
            "marker": {
             "colorbar": {
              "outlinewidth": 0,
              "ticks": ""
             }
            },
            "type": "scattermap"
           }
          ],
          "scattermapbox": [
           {
            "marker": {
             "colorbar": {
              "outlinewidth": 0,
              "ticks": ""
             }
            },
            "type": "scattermapbox"
           }
          ],
          "scatterpolar": [
           {
            "marker": {
             "colorbar": {
              "outlinewidth": 0,
              "ticks": ""
             }
            },
            "type": "scatterpolar"
           }
          ],
          "scatterpolargl": [
           {
            "marker": {
             "colorbar": {
              "outlinewidth": 0,
              "ticks": ""
             }
            },
            "type": "scatterpolargl"
           }
          ],
          "scatterternary": [
           {
            "marker": {
             "colorbar": {
              "outlinewidth": 0,
              "ticks": ""
             }
            },
            "type": "scatterternary"
           }
          ],
          "surface": [
           {
            "colorbar": {
             "outlinewidth": 0,
             "ticks": ""
            },
            "colorscale": [
             [
              0,
              "#0d0887"
             ],
             [
              0.1111111111111111,
              "#46039f"
             ],
             [
              0.2222222222222222,
              "#7201a8"
             ],
             [
              0.3333333333333333,
              "#9c179e"
             ],
             [
              0.4444444444444444,
              "#bd3786"
             ],
             [
              0.5555555555555556,
              "#d8576b"
             ],
             [
              0.6666666666666666,
              "#ed7953"
             ],
             [
              0.7777777777777778,
              "#fb9f3a"
             ],
             [
              0.8888888888888888,
              "#fdca26"
             ],
             [
              1,
              "#f0f921"
             ]
            ],
            "type": "surface"
           }
          ],
          "table": [
           {
            "cells": {
             "fill": {
              "color": "#EBF0F8"
             },
             "line": {
              "color": "white"
             }
            },
            "header": {
             "fill": {
              "color": "#C8D4E3"
             },
             "line": {
              "color": "white"
             }
            },
            "type": "table"
           }
          ]
         },
         "layout": {
          "annotationdefaults": {
           "arrowcolor": "#2a3f5f",
           "arrowhead": 0,
           "arrowwidth": 1
          },
          "autotypenumbers": "strict",
          "coloraxis": {
           "colorbar": {
            "outlinewidth": 0,
            "ticks": ""
           }
          },
          "colorscale": {
           "diverging": [
            [
             0,
             "#8e0152"
            ],
            [
             0.1,
             "#c51b7d"
            ],
            [
             0.2,
             "#de77ae"
            ],
            [
             0.3,
             "#f1b6da"
            ],
            [
             0.4,
             "#fde0ef"
            ],
            [
             0.5,
             "#f7f7f7"
            ],
            [
             0.6,
             "#e6f5d0"
            ],
            [
             0.7,
             "#b8e186"
            ],
            [
             0.8,
             "#7fbc41"
            ],
            [
             0.9,
             "#4d9221"
            ],
            [
             1,
             "#276419"
            ]
           ],
           "sequential": [
            [
             0,
             "#0d0887"
            ],
            [
             0.1111111111111111,
             "#46039f"
            ],
            [
             0.2222222222222222,
             "#7201a8"
            ],
            [
             0.3333333333333333,
             "#9c179e"
            ],
            [
             0.4444444444444444,
             "#bd3786"
            ],
            [
             0.5555555555555556,
             "#d8576b"
            ],
            [
             0.6666666666666666,
             "#ed7953"
            ],
            [
             0.7777777777777778,
             "#fb9f3a"
            ],
            [
             0.8888888888888888,
             "#fdca26"
            ],
            [
             1,
             "#f0f921"
            ]
           ],
           "sequentialminus": [
            [
             0,
             "#0d0887"
            ],
            [
             0.1111111111111111,
             "#46039f"
            ],
            [
             0.2222222222222222,
             "#7201a8"
            ],
            [
             0.3333333333333333,
             "#9c179e"
            ],
            [
             0.4444444444444444,
             "#bd3786"
            ],
            [
             0.5555555555555556,
             "#d8576b"
            ],
            [
             0.6666666666666666,
             "#ed7953"
            ],
            [
             0.7777777777777778,
             "#fb9f3a"
            ],
            [
             0.8888888888888888,
             "#fdca26"
            ],
            [
             1,
             "#f0f921"
            ]
           ]
          },
          "colorway": [
           "#636efa",
           "#EF553B",
           "#00cc96",
           "#ab63fa",
           "#FFA15A",
           "#19d3f3",
           "#FF6692",
           "#B6E880",
           "#FF97FF",
           "#FECB52"
          ],
          "font": {
           "color": "#2a3f5f"
          },
          "geo": {
           "bgcolor": "white",
           "lakecolor": "white",
           "landcolor": "#E5ECF6",
           "showlakes": true,
           "showland": true,
           "subunitcolor": "white"
          },
          "hoverlabel": {
           "align": "left"
          },
          "hovermode": "closest",
          "mapbox": {
           "style": "light"
          },
          "paper_bgcolor": "white",
          "plot_bgcolor": "#E5ECF6",
          "polar": {
           "angularaxis": {
            "gridcolor": "white",
            "linecolor": "white",
            "ticks": ""
           },
           "bgcolor": "#E5ECF6",
           "radialaxis": {
            "gridcolor": "white",
            "linecolor": "white",
            "ticks": ""
           }
          },
          "scene": {
           "xaxis": {
            "backgroundcolor": "#E5ECF6",
            "gridcolor": "white",
            "gridwidth": 2,
            "linecolor": "white",
            "showbackground": true,
            "ticks": "",
            "zerolinecolor": "white"
           },
           "yaxis": {
            "backgroundcolor": "#E5ECF6",
            "gridcolor": "white",
            "gridwidth": 2,
            "linecolor": "white",
            "showbackground": true,
            "ticks": "",
            "zerolinecolor": "white"
           },
           "zaxis": {
            "backgroundcolor": "#E5ECF6",
            "gridcolor": "white",
            "gridwidth": 2,
            "linecolor": "white",
            "showbackground": true,
            "ticks": "",
            "zerolinecolor": "white"
           }
          },
          "shapedefaults": {
           "line": {
            "color": "#2a3f5f"
           }
          },
          "ternary": {
           "aaxis": {
            "gridcolor": "white",
            "linecolor": "white",
            "ticks": ""
           },
           "baxis": {
            "gridcolor": "white",
            "linecolor": "white",
            "ticks": ""
           },
           "bgcolor": "#E5ECF6",
           "caxis": {
            "gridcolor": "white",
            "linecolor": "white",
            "ticks": ""
           }
          },
          "title": {
           "x": 0.05
          },
          "xaxis": {
           "automargin": true,
           "gridcolor": "white",
           "linecolor": "white",
           "ticks": "",
           "title": {
            "standoff": 15
           },
           "zerolinecolor": "white",
           "zerolinewidth": 2
          },
          "yaxis": {
           "automargin": true,
           "gridcolor": "white",
           "linecolor": "white",
           "ticks": "",
           "title": {
            "standoff": 15
           },
           "zerolinecolor": "white",
           "zerolinewidth": 2
          }
         }
        },
        "title": {
         "text": "Total Payload Received by Destination Port"
        },
        "width": 800,
        "xaxis": {
         "anchor": "y",
         "domain": [
          0,
          1
         ],
         "title": {
          "text": "Total Payload (bytes)"
         }
        },
        "yaxis": {
         "anchor": "x",
         "domain": [
          0,
          1
         ],
         "title": {
          "text": "Destination Port"
         }
        }
       }
      }
     },
     "metadata": {},
     "output_type": "display_data"
    }
   ],
   "source": [
    "dst_port_payload = packet_data.groupby('dst_port')['payload_length'].sum().reset_index()\n",
    "dst_port_payload = dst_port_payload.sort_values('payload_length', ascending=True)\n",
    "dst_port_payload['dst_port'] = dst_port_payload['dst_port'].astype(str)  # Convert ports to strings for better display\n",
    "\n",
    "fig_d = px.bar(\n",
    "    dst_port_payload, \n",
    "    x='payload_length', \n",
    "    y='dst_port', \n",
    "    orientation='h',\n",
    "    title='Total Payload Received by Destination Port',\n",
    "    labels={'payload_length': 'Total Payload (bytes)', 'dst_port': 'Destination Port'},\n",
    "    color='payload_length',\n",
    "    color_continuous_scale='Viridis'\n",
    ")\n",
    "fig_d.update_layout(height=600, width=800)\n",
    "fig_d.show()"
   ]
  },
  {
   "cell_type": "markdown",
   "metadata": {},
   "source": [
    "e. Time vs Payload for most frequent source IP"
   ]
  },
  {
   "cell_type": "code",
   "execution_count": null,
   "metadata": {},
   "outputs": [
    {
     "name": "stdout",
     "output_type": "stream",
     "text": [
      "Frequency used: 1s\n"
     ]
    },
    {
     "data": {
      "application/vnd.plotly.v1+json": {
       "config": {
        "plotlyServerURL": "https://plot.ly"
       },
       "data": [
        {
         "hovertemplate": "Time=%{x}<br>Total Payload (bytes)=%{marker.color}<extra></extra>",
         "legendgroup": "",
         "marker": {
          "color": {
           "bdata": "zwPdAwIE9AP5AyME/gPhA80D7gPHBPwD6AP6AxsE+gMdBBsEGQQABPwD/AMDBAkE+wMHBBEE1wNaAg==",
           "dtype": "i2"
          },
          "coloraxis": "coloraxis",
          "pattern": {
           "shape": ""
          }
         },
         "name": "",
         "orientation": "v",
         "showlegend": false,
         "textposition": "auto",
         "type": "bar",
         "x": [
          "2018-07-21T18:55:30",
          "2018-07-21T18:55:31",
          "2018-07-21T18:55:32",
          "2018-07-21T18:55:33",
          "2018-07-21T18:55:35",
          "2018-07-21T18:55:36",
          "2018-07-21T18:55:37",
          "2018-07-21T18:55:38",
          "2018-07-21T18:55:39",
          "2018-07-21T18:55:40",
          "2018-07-21T18:55:41",
          "2018-07-21T18:55:42",
          "2018-07-21T18:55:43",
          "2018-07-21T18:55:44",
          "2018-07-21T18:55:45",
          "2018-07-21T18:55:46",
          "2018-07-21T18:55:47",
          "2018-07-21T18:55:48",
          "2018-07-21T18:55:49",
          "2018-07-21T18:55:50",
          "2018-07-21T18:55:51",
          "2018-07-21T18:55:52",
          "2018-07-21T18:55:53",
          "2018-07-21T18:55:54",
          "2018-07-21T18:55:55",
          "2018-07-21T18:55:56",
          "2018-07-21T18:55:57",
          "2018-07-21T18:55:58",
          "2018-07-21T18:55:59"
         ],
         "xaxis": "x",
         "y": {
          "bdata": "zwPdAwIE9AP5AyME/gPhA80D7gPHBPwD6AP6AxsE+gMdBBsEGQQABPwD/AMDBAkE+wMHBBEE1wNaAg==",
          "dtype": "i2"
         },
         "yaxis": "y"
        }
       ],
       "layout": {
        "bargap": 0.05,
        "barmode": "relative",
        "coloraxis": {
         "colorbar": {
          "title": {
           "text": "Total Payload (bytes)"
          }
         },
         "colorscale": [
          [
           0,
           "#440154"
          ],
          [
           0.1111111111111111,
           "#482878"
          ],
          [
           0.2222222222222222,
           "#3e4989"
          ],
          [
           0.3333333333333333,
           "#31688e"
          ],
          [
           0.4444444444444444,
           "#26828e"
          ],
          [
           0.5555555555555556,
           "#1f9e89"
          ],
          [
           0.6666666666666666,
           "#35b779"
          ],
          [
           0.7777777777777778,
           "#6ece58"
          ],
          [
           0.8888888888888888,
           "#b5de2b"
          ],
          [
           1,
           "#fde725"
          ]
         ]
        },
        "height": 500,
        "legend": {
         "tracegroupgap": 0
        },
        "template": {
         "data": {
          "bar": [
           {
            "error_x": {
             "color": "#2a3f5f"
            },
            "error_y": {
             "color": "#2a3f5f"
            },
            "marker": {
             "line": {
              "color": "#E5ECF6",
              "width": 0.5
             },
             "pattern": {
              "fillmode": "overlay",
              "size": 10,
              "solidity": 0.2
             }
            },
            "type": "bar"
           }
          ],
          "barpolar": [
           {
            "marker": {
             "line": {
              "color": "#E5ECF6",
              "width": 0.5
             },
             "pattern": {
              "fillmode": "overlay",
              "size": 10,
              "solidity": 0.2
             }
            },
            "type": "barpolar"
           }
          ],
          "carpet": [
           {
            "aaxis": {
             "endlinecolor": "#2a3f5f",
             "gridcolor": "white",
             "linecolor": "white",
             "minorgridcolor": "white",
             "startlinecolor": "#2a3f5f"
            },
            "baxis": {
             "endlinecolor": "#2a3f5f",
             "gridcolor": "white",
             "linecolor": "white",
             "minorgridcolor": "white",
             "startlinecolor": "#2a3f5f"
            },
            "type": "carpet"
           }
          ],
          "choropleth": [
           {
            "colorbar": {
             "outlinewidth": 0,
             "ticks": ""
            },
            "type": "choropleth"
           }
          ],
          "contour": [
           {
            "colorbar": {
             "outlinewidth": 0,
             "ticks": ""
            },
            "colorscale": [
             [
              0,
              "#0d0887"
             ],
             [
              0.1111111111111111,
              "#46039f"
             ],
             [
              0.2222222222222222,
              "#7201a8"
             ],
             [
              0.3333333333333333,
              "#9c179e"
             ],
             [
              0.4444444444444444,
              "#bd3786"
             ],
             [
              0.5555555555555556,
              "#d8576b"
             ],
             [
              0.6666666666666666,
              "#ed7953"
             ],
             [
              0.7777777777777778,
              "#fb9f3a"
             ],
             [
              0.8888888888888888,
              "#fdca26"
             ],
             [
              1,
              "#f0f921"
             ]
            ],
            "type": "contour"
           }
          ],
          "contourcarpet": [
           {
            "colorbar": {
             "outlinewidth": 0,
             "ticks": ""
            },
            "type": "contourcarpet"
           }
          ],
          "heatmap": [
           {
            "colorbar": {
             "outlinewidth": 0,
             "ticks": ""
            },
            "colorscale": [
             [
              0,
              "#0d0887"
             ],
             [
              0.1111111111111111,
              "#46039f"
             ],
             [
              0.2222222222222222,
              "#7201a8"
             ],
             [
              0.3333333333333333,
              "#9c179e"
             ],
             [
              0.4444444444444444,
              "#bd3786"
             ],
             [
              0.5555555555555556,
              "#d8576b"
             ],
             [
              0.6666666666666666,
              "#ed7953"
             ],
             [
              0.7777777777777778,
              "#fb9f3a"
             ],
             [
              0.8888888888888888,
              "#fdca26"
             ],
             [
              1,
              "#f0f921"
             ]
            ],
            "type": "heatmap"
           }
          ],
          "histogram": [
           {
            "marker": {
             "pattern": {
              "fillmode": "overlay",
              "size": 10,
              "solidity": 0.2
             }
            },
            "type": "histogram"
           }
          ],
          "histogram2d": [
           {
            "colorbar": {
             "outlinewidth": 0,
             "ticks": ""
            },
            "colorscale": [
             [
              0,
              "#0d0887"
             ],
             [
              0.1111111111111111,
              "#46039f"
             ],
             [
              0.2222222222222222,
              "#7201a8"
             ],
             [
              0.3333333333333333,
              "#9c179e"
             ],
             [
              0.4444444444444444,
              "#bd3786"
             ],
             [
              0.5555555555555556,
              "#d8576b"
             ],
             [
              0.6666666666666666,
              "#ed7953"
             ],
             [
              0.7777777777777778,
              "#fb9f3a"
             ],
             [
              0.8888888888888888,
              "#fdca26"
             ],
             [
              1,
              "#f0f921"
             ]
            ],
            "type": "histogram2d"
           }
          ],
          "histogram2dcontour": [
           {
            "colorbar": {
             "outlinewidth": 0,
             "ticks": ""
            },
            "colorscale": [
             [
              0,
              "#0d0887"
             ],
             [
              0.1111111111111111,
              "#46039f"
             ],
             [
              0.2222222222222222,
              "#7201a8"
             ],
             [
              0.3333333333333333,
              "#9c179e"
             ],
             [
              0.4444444444444444,
              "#bd3786"
             ],
             [
              0.5555555555555556,
              "#d8576b"
             ],
             [
              0.6666666666666666,
              "#ed7953"
             ],
             [
              0.7777777777777778,
              "#fb9f3a"
             ],
             [
              0.8888888888888888,
              "#fdca26"
             ],
             [
              1,
              "#f0f921"
             ]
            ],
            "type": "histogram2dcontour"
           }
          ],
          "mesh3d": [
           {
            "colorbar": {
             "outlinewidth": 0,
             "ticks": ""
            },
            "type": "mesh3d"
           }
          ],
          "parcoords": [
           {
            "line": {
             "colorbar": {
              "outlinewidth": 0,
              "ticks": ""
             }
            },
            "type": "parcoords"
           }
          ],
          "pie": [
           {
            "automargin": true,
            "type": "pie"
           }
          ],
          "scatter": [
           {
            "fillpattern": {
             "fillmode": "overlay",
             "size": 10,
             "solidity": 0.2
            },
            "type": "scatter"
           }
          ],
          "scatter3d": [
           {
            "line": {
             "colorbar": {
              "outlinewidth": 0,
              "ticks": ""
             }
            },
            "marker": {
             "colorbar": {
              "outlinewidth": 0,
              "ticks": ""
             }
            },
            "type": "scatter3d"
           }
          ],
          "scattercarpet": [
           {
            "marker": {
             "colorbar": {
              "outlinewidth": 0,
              "ticks": ""
             }
            },
            "type": "scattercarpet"
           }
          ],
          "scattergeo": [
           {
            "marker": {
             "colorbar": {
              "outlinewidth": 0,
              "ticks": ""
             }
            },
            "type": "scattergeo"
           }
          ],
          "scattergl": [
           {
            "marker": {
             "colorbar": {
              "outlinewidth": 0,
              "ticks": ""
             }
            },
            "type": "scattergl"
           }
          ],
          "scattermap": [
           {
            "marker": {
             "colorbar": {
              "outlinewidth": 0,
              "ticks": ""
             }
            },
            "type": "scattermap"
           }
          ],
          "scattermapbox": [
           {
            "marker": {
             "colorbar": {
              "outlinewidth": 0,
              "ticks": ""
             }
            },
            "type": "scattermapbox"
           }
          ],
          "scatterpolar": [
           {
            "marker": {
             "colorbar": {
              "outlinewidth": 0,
              "ticks": ""
             }
            },
            "type": "scatterpolar"
           }
          ],
          "scatterpolargl": [
           {
            "marker": {
             "colorbar": {
              "outlinewidth": 0,
              "ticks": ""
             }
            },
            "type": "scatterpolargl"
           }
          ],
          "scatterternary": [
           {
            "marker": {
             "colorbar": {
              "outlinewidth": 0,
              "ticks": ""
             }
            },
            "type": "scatterternary"
           }
          ],
          "surface": [
           {
            "colorbar": {
             "outlinewidth": 0,
             "ticks": ""
            },
            "colorscale": [
             [
              0,
              "#0d0887"
             ],
             [
              0.1111111111111111,
              "#46039f"
             ],
             [
              0.2222222222222222,
              "#7201a8"
             ],
             [
              0.3333333333333333,
              "#9c179e"
             ],
             [
              0.4444444444444444,
              "#bd3786"
             ],
             [
              0.5555555555555556,
              "#d8576b"
             ],
             [
              0.6666666666666666,
              "#ed7953"
             ],
             [
              0.7777777777777778,
              "#fb9f3a"
             ],
             [
              0.8888888888888888,
              "#fdca26"
             ],
             [
              1,
              "#f0f921"
             ]
            ],
            "type": "surface"
           }
          ],
          "table": [
           {
            "cells": {
             "fill": {
              "color": "#EBF0F8"
             },
             "line": {
              "color": "white"
             }
            },
            "header": {
             "fill": {
              "color": "#C8D4E3"
             },
             "line": {
              "color": "white"
             }
            },
            "type": "table"
           }
          ]
         },
         "layout": {
          "annotationdefaults": {
           "arrowcolor": "#2a3f5f",
           "arrowhead": 0,
           "arrowwidth": 1
          },
          "autotypenumbers": "strict",
          "coloraxis": {
           "colorbar": {
            "outlinewidth": 0,
            "ticks": ""
           }
          },
          "colorscale": {
           "diverging": [
            [
             0,
             "#8e0152"
            ],
            [
             0.1,
             "#c51b7d"
            ],
            [
             0.2,
             "#de77ae"
            ],
            [
             0.3,
             "#f1b6da"
            ],
            [
             0.4,
             "#fde0ef"
            ],
            [
             0.5,
             "#f7f7f7"
            ],
            [
             0.6,
             "#e6f5d0"
            ],
            [
             0.7,
             "#b8e186"
            ],
            [
             0.8,
             "#7fbc41"
            ],
            [
             0.9,
             "#4d9221"
            ],
            [
             1,
             "#276419"
            ]
           ],
           "sequential": [
            [
             0,
             "#0d0887"
            ],
            [
             0.1111111111111111,
             "#46039f"
            ],
            [
             0.2222222222222222,
             "#7201a8"
            ],
            [
             0.3333333333333333,
             "#9c179e"
            ],
            [
             0.4444444444444444,
             "#bd3786"
            ],
            [
             0.5555555555555556,
             "#d8576b"
            ],
            [
             0.6666666666666666,
             "#ed7953"
            ],
            [
             0.7777777777777778,
             "#fb9f3a"
            ],
            [
             0.8888888888888888,
             "#fdca26"
            ],
            [
             1,
             "#f0f921"
            ]
           ],
           "sequentialminus": [
            [
             0,
             "#0d0887"
            ],
            [
             0.1111111111111111,
             "#46039f"
            ],
            [
             0.2222222222222222,
             "#7201a8"
            ],
            [
             0.3333333333333333,
             "#9c179e"
            ],
            [
             0.4444444444444444,
             "#bd3786"
            ],
            [
             0.5555555555555556,
             "#d8576b"
            ],
            [
             0.6666666666666666,
             "#ed7953"
            ],
            [
             0.7777777777777778,
             "#fb9f3a"
            ],
            [
             0.8888888888888888,
             "#fdca26"
            ],
            [
             1,
             "#f0f921"
            ]
           ]
          },
          "colorway": [
           "#636efa",
           "#EF553B",
           "#00cc96",
           "#ab63fa",
           "#FFA15A",
           "#19d3f3",
           "#FF6692",
           "#B6E880",
           "#FF97FF",
           "#FECB52"
          ],
          "font": {
           "color": "#2a3f5f"
          },
          "geo": {
           "bgcolor": "white",
           "lakecolor": "white",
           "landcolor": "#E5ECF6",
           "showlakes": true,
           "showland": true,
           "subunitcolor": "white"
          },
          "hoverlabel": {
           "align": "left"
          },
          "hovermode": "closest",
          "mapbox": {
           "style": "light"
          },
          "paper_bgcolor": "white",
          "plot_bgcolor": "#E5ECF6",
          "polar": {
           "angularaxis": {
            "gridcolor": "white",
            "linecolor": "white",
            "ticks": ""
           },
           "bgcolor": "#E5ECF6",
           "radialaxis": {
            "gridcolor": "white",
            "linecolor": "white",
            "ticks": ""
           }
          },
          "scene": {
           "xaxis": {
            "backgroundcolor": "#E5ECF6",
            "gridcolor": "white",
            "gridwidth": 2,
            "linecolor": "white",
            "showbackground": true,
            "ticks": "",
            "zerolinecolor": "white"
           },
           "yaxis": {
            "backgroundcolor": "#E5ECF6",
            "gridcolor": "white",
            "gridwidth": 2,
            "linecolor": "white",
            "showbackground": true,
            "ticks": "",
            "zerolinecolor": "white"
           },
           "zaxis": {
            "backgroundcolor": "#E5ECF6",
            "gridcolor": "white",
            "gridwidth": 2,
            "linecolor": "white",
            "showbackground": true,
            "ticks": "",
            "zerolinecolor": "white"
           }
          },
          "shapedefaults": {
           "line": {
            "color": "#2a3f5f"
           }
          },
          "ternary": {
           "aaxis": {
            "gridcolor": "white",
            "linecolor": "white",
            "ticks": ""
           },
           "baxis": {
            "gridcolor": "white",
            "linecolor": "white",
            "ticks": ""
           },
           "bgcolor": "#E5ECF6",
           "caxis": {
            "gridcolor": "white",
            "linecolor": "white",
            "ticks": ""
           }
          },
          "title": {
           "x": 0.05
          },
          "xaxis": {
           "automargin": true,
           "gridcolor": "white",
           "linecolor": "white",
           "ticks": "",
           "title": {
            "standoff": 15
           },
           "zerolinecolor": "white",
           "zerolinewidth": 2
          },
          "yaxis": {
           "automargin": true,
           "gridcolor": "white",
           "linecolor": "white",
           "ticks": "",
           "title": {
            "standoff": 15
           },
           "zerolinecolor": "white",
           "zerolinewidth": 2
          }
         }
        },
        "title": {
         "text": "Payload over Time for Most Frequent Source IP (10.1.10.53)"
        },
        "width": 1000,
        "xaxis": {
         "anchor": "y",
         "domain": [
          0,
          1
         ],
         "tickangle": -45,
         "tickformat": "%H:%M:%S",
         "title": {
          "text": "Time"
         }
        },
        "yaxis": {
         "anchor": "x",
         "domain": [
          0,
          1
         ],
         "title": {
          "text": "Total Payload (bytes)"
         }
        }
       }
      }
     },
     "metadata": {},
     "output_type": "display_data"
    }
   ],
   "source": [
    "src_ip_counts = packet_data['src_ip'].value_counts()\n",
    "most_frequent_src_ip = src_ip_counts.index[0]\n",
    "\n",
    "most_freq_ip_data = packet_data[packet_data['src_ip'] == most_frequent_src_ip].copy()\n",
    "most_freq_ip_data['time'] = pd.to_datetime(most_freq_ip_data['timestamp'], unit='s')\n",
    "\n",
    "time_span = (most_freq_ip_data['timestamp'].max() - most_freq_ip_data['timestamp'].min())\n",
    "if time_span > 3600: \n",
    "    freq = '10min'  \n",
    "elif time_span > 600:  \n",
    "    freq = '1min'\n",
    "elif time_span > 60:  \n",
    "    freq = '10s'\n",
    "else:\n",
    "    freq = '1s'\n",
    "\n",
    "print(f'Frequency used: {freq}')\n",
    "\n",
    "most_freq_ip_data['time_group'] = most_freq_ip_data['time'].dt.floor(freq)\n",
    "\n",
    "time_grouped_data = most_freq_ip_data.groupby('time_group')['payload_length'].sum().reset_index()\n",
    "\n",
    "fig_e = px.bar(\n",
    "    time_grouped_data, \n",
    "    x='time_group', \n",
    "    y='payload_length',\n",
    "    title=f'Payload over Time for Most Frequent Source IP ({most_frequent_src_ip})',\n",
    "    labels={'payload_length': 'Total Payload (bytes)', 'time_group': 'Time'},\n",
    "    color='payload_length',\n",
    "    color_continuous_scale='Viridis'\n",
    ")\n",
    "\n",
    "fig_e.update_layout(\n",
    "    height=500, \n",
    "    width=1000,\n",
    "    xaxis_title=\"Time\",\n",
    "    yaxis_title=\"Total Payload (bytes)\",\n",
    "    bargap=0.05  \n",
    ")\n",
    "\n",
    "fig_e.update_xaxes(\n",
    "    tickformat=\"%H:%M:%S\",\n",
    "    tickangle=-45\n",
    ")\n",
    "\n",
    "fig_e.show()\n"
   ]
  },
  {
   "cell_type": "markdown",
   "metadata": {},
   "source": [
    "El análisis del tráfico de red revela que la dirección IP `10.1.10.53` está enviando una gran cantidad de datos, aproximadamente 30 mil bytes, hacia la IP `84.54.22.33`, utilizando principalmente el puerto 53, que es típico para el tráfico DNS. Este volumen de datos, junto con un pico de 12,223 bytes en un solo segundo a las 18:55:41, resulta inusual para consultas DNS estándar, las cuales normalmente involucran paquetes pequeños de pocos cientos de bytes. \n",
    "\n",
    "La comunicación constante de 800 a 1000 bytes por segundo, combinada con este pico, sugiere que podría estar ocurriendo algo más allá de simples consultas DNS, como un posible caso de DNS tunneling, una técnica que codifica datos en solicitudes DNS para transferir información de manera encubierta. Este comportamiento no es común para el tráfico DNS típico y podría indicar una actividad maliciosa, como la exfiltración de datos o una comunicación con un servidor de comando y control. \n",
    "\n"
   ]
  },
  {
   "cell_type": "code",
   "execution_count": 103,
   "metadata": {},
   "outputs": [
    {
     "data": {
      "text/html": [
       "<div>\n",
       "<style scoped>\n",
       "    .dataframe tbody tr th:only-of-type {\n",
       "        vertical-align: middle;\n",
       "    }\n",
       "\n",
       "    .dataframe tbody tr th {\n",
       "        vertical-align: top;\n",
       "    }\n",
       "\n",
       "    .dataframe thead th {\n",
       "        text-align: right;\n",
       "    }\n",
       "</style>\n",
       "<table border=\"1\" class=\"dataframe\">\n",
       "  <thead>\n",
       "    <tr style=\"text-align: right;\">\n",
       "      <th></th>\n",
       "      <th>src_ip</th>\n",
       "      <th>dst_ip</th>\n",
       "      <th>src_port</th>\n",
       "      <th>dst_port</th>\n",
       "      <th>protocol</th>\n",
       "      <th>payload_length</th>\n",
       "      <th>payload</th>\n",
       "      <th>timestamp</th>\n",
       "    </tr>\n",
       "  </thead>\n",
       "  <tbody>\n",
       "    <tr>\n",
       "      <th>0</th>\n",
       "      <td>10.1.10.53</td>\n",
       "      <td>84.54.22.33</td>\n",
       "      <td>53</td>\n",
       "      <td>53</td>\n",
       "      <td>UDP</td>\n",
       "      <td>975</td>\n",
       "      <td>b'\\x00\\x0c\\x01\\x00\\x00\\x01\\x00\\x00\\x00\\x00\\x00...</td>\n",
       "      <td>1.532199e+09</td>\n",
       "    </tr>\n",
       "    <tr>\n",
       "      <th>2</th>\n",
       "      <td>10.1.10.53</td>\n",
       "      <td>84.54.22.33</td>\n",
       "      <td>53</td>\n",
       "      <td>53</td>\n",
       "      <td>UDP</td>\n",
       "      <td>989</td>\n",
       "      <td>b'\\x00\\x0c\\x01\\x00\\x00\\x01\\x00\\x00\\x00\\x00\\x00...</td>\n",
       "      <td>1.532199e+09</td>\n",
       "    </tr>\n",
       "    <tr>\n",
       "      <th>4</th>\n",
       "      <td>10.1.10.53</td>\n",
       "      <td>84.54.22.33</td>\n",
       "      <td>53</td>\n",
       "      <td>53</td>\n",
       "      <td>UDP</td>\n",
       "      <td>1026</td>\n",
       "      <td>b'\\x00\\x0c\\x01\\x00\\x00\\x01\\x00\\x00\\x00\\x00\\x00...</td>\n",
       "      <td>1.532199e+09</td>\n",
       "    </tr>\n",
       "    <tr>\n",
       "      <th>6</th>\n",
       "      <td>10.1.10.53</td>\n",
       "      <td>84.54.22.33</td>\n",
       "      <td>53</td>\n",
       "      <td>53</td>\n",
       "      <td>UDP</td>\n",
       "      <td>1012</td>\n",
       "      <td>b'\\x00\\x0c\\x01\\x00\\x00\\x01\\x00\\x00\\x00\\x00\\x00...</td>\n",
       "      <td>1.532199e+09</td>\n",
       "    </tr>\n",
       "    <tr>\n",
       "      <th>8</th>\n",
       "      <td>10.1.10.53</td>\n",
       "      <td>84.54.22.33</td>\n",
       "      <td>53</td>\n",
       "      <td>53</td>\n",
       "      <td>UDP</td>\n",
       "      <td>1017</td>\n",
       "      <td>b'\\x00\\x0c\\x01\\x00\\x00\\x01\\x00\\x00\\x00\\x00\\x00...</td>\n",
       "      <td>1.532199e+09</td>\n",
       "    </tr>\n",
       "  </tbody>\n",
       "</table>\n",
       "</div>"
      ],
      "text/plain": [
       "       src_ip       dst_ip  src_port  dst_port protocol  payload_length  \\\n",
       "0  10.1.10.53  84.54.22.33        53        53      UDP             975   \n",
       "2  10.1.10.53  84.54.22.33        53        53      UDP             989   \n",
       "4  10.1.10.53  84.54.22.33        53        53      UDP            1026   \n",
       "6  10.1.10.53  84.54.22.33        53        53      UDP            1012   \n",
       "8  10.1.10.53  84.54.22.33        53        53      UDP            1017   \n",
       "\n",
       "                                             payload     timestamp  \n",
       "0  b'\\x00\\x0c\\x01\\x00\\x00\\x01\\x00\\x00\\x00\\x00\\x00...  1.532199e+09  \n",
       "2  b'\\x00\\x0c\\x01\\x00\\x00\\x01\\x00\\x00\\x00\\x00\\x00...  1.532199e+09  \n",
       "4  b'\\x00\\x0c\\x01\\x00\\x00\\x01\\x00\\x00\\x00\\x00\\x00...  1.532199e+09  \n",
       "6  b'\\x00\\x0c\\x01\\x00\\x00\\x01\\x00\\x00\\x00\\x00\\x00...  1.532199e+09  \n",
       "8  b'\\x00\\x0c\\x01\\x00\\x00\\x01\\x00\\x00\\x00\\x00\\x00...  1.532199e+09  "
      ]
     },
     "execution_count": 103,
     "metadata": {},
     "output_type": "execute_result"
    }
   ],
   "source": [
    "# a. DF with only connections from most frequent source IP\n",
    "src_ip_frequency = packet_data['src_ip'].value_counts()\n",
    "most_frequent_src_ip = src_ip_frequency.idxmax()  # 10.1.10.53\n",
    "df_most_frequent_ip = packet_data[packet_data['src_ip'] == most_frequent_src_ip]\n",
    "\n",
    "df_most_frequent_ip.head()\n"
   ]
  },
  {
   "cell_type": "code",
   "execution_count": 104,
   "metadata": {},
   "outputs": [
    {
     "data": {
      "text/html": [
       "<div>\n",
       "<style scoped>\n",
       "    .dataframe tbody tr th:only-of-type {\n",
       "        vertical-align: middle;\n",
       "    }\n",
       "\n",
       "    .dataframe tbody tr th {\n",
       "        vertical-align: top;\n",
       "    }\n",
       "\n",
       "    .dataframe thead th {\n",
       "        text-align: right;\n",
       "    }\n",
       "</style>\n",
       "<table border=\"1\" class=\"dataframe\">\n",
       "  <thead>\n",
       "    <tr style=\"text-align: right;\">\n",
       "      <th></th>\n",
       "      <th>src</th>\n",
       "      <th>payload_length</th>\n",
       "      <th>payload</th>\n",
       "    </tr>\n",
       "    <tr>\n",
       "      <th>dst</th>\n",
       "      <th></th>\n",
       "      <th></th>\n",
       "      <th></th>\n",
       "    </tr>\n",
       "  </thead>\n",
       "  <tbody>\n",
       "    <tr>\n",
       "      <th>75.75.75.75</th>\n",
       "      <td>10.1.10.53</td>\n",
       "      <td>158</td>\n",
       "      <td>[b'\\xda\\xd1\\x01\\x00\\x00\\x01\\x00\\x00\\x00\\x00\\x0...</td>\n",
       "    </tr>\n",
       "    <tr>\n",
       "      <th>84.54.22.33</th>\n",
       "      <td>10.1.10.53</td>\n",
       "      <td>29197</td>\n",
       "      <td>[b'\\x00\\x0c\\x01\\x00\\x00\\x01\\x00\\x00\\x00\\x00\\x0...</td>\n",
       "    </tr>\n",
       "  </tbody>\n",
       "</table>\n",
       "</div>"
      ],
      "text/plain": [
       "                    src  payload_length  \\\n",
       "dst                                       \n",
       "75.75.75.75  10.1.10.53             158   \n",
       "84.54.22.33  10.1.10.53           29197   \n",
       "\n",
       "                                                       payload  \n",
       "dst                                                             \n",
       "75.75.75.75  [b'\\xda\\xd1\\x01\\x00\\x00\\x01\\x00\\x00\\x00\\x00\\x0...  \n",
       "84.54.22.33  [b'\\x00\\x0c\\x01\\x00\\x00\\x01\\x00\\x00\\x00\\x00\\x0...  "
      ]
     },
     "execution_count": 104,
     "metadata": {},
     "output_type": "execute_result"
    }
   ],
   "source": [
    "# b. New DF with columns src, dst and sum of payload grouped by dst\n",
    "df_grouped = df_most_frequent_ip[['src_ip', 'dst_ip', 'payload', 'payload_length']].rename(\n",
    "    columns={'src_ip': 'src', 'dst_ip': 'dst'}\n",
    ").groupby('dst').agg({'src': 'first', 'payload_length': 'sum', 'payload': list})\n",
    "\n",
    "\n",
    "df_grouped.head()\n"
   ]
  },
  {
   "cell_type": "code",
   "execution_count": 107,
   "metadata": {},
   "outputs": [
    {
     "data": {
      "text/html": [
       "<div>\n",
       "<style scoped>\n",
       "    .dataframe tbody tr th:only-of-type {\n",
       "        vertical-align: middle;\n",
       "    }\n",
       "\n",
       "    .dataframe tbody tr th {\n",
       "        vertical-align: top;\n",
       "    }\n",
       "\n",
       "    .dataframe thead th {\n",
       "        text-align: right;\n",
       "    }\n",
       "</style>\n",
       "<table border=\"1\" class=\"dataframe\">\n",
       "  <thead>\n",
       "    <tr style=\"text-align: right;\">\n",
       "      <th></th>\n",
       "      <th>src_ip</th>\n",
       "      <th>dst_ip</th>\n",
       "      <th>src_port</th>\n",
       "      <th>dst_port</th>\n",
       "      <th>protocol</th>\n",
       "      <th>payload_length</th>\n",
       "      <th>payload</th>\n",
       "      <th>timestamp</th>\n",
       "    </tr>\n",
       "  </thead>\n",
       "  <tbody>\n",
       "    <tr>\n",
       "      <th>0</th>\n",
       "      <td>10.1.10.53</td>\n",
       "      <td>84.54.22.33</td>\n",
       "      <td>53</td>\n",
       "      <td>53</td>\n",
       "      <td>UDP</td>\n",
       "      <td>975</td>\n",
       "      <td>b'\\x00\\x0c\\x01\\x00\\x00\\x01\\x00\\x00\\x00\\x00\\x00...</td>\n",
       "      <td>1.532199e+09</td>\n",
       "    </tr>\n",
       "    <tr>\n",
       "      <th>1</th>\n",
       "      <td>84.54.22.33</td>\n",
       "      <td>10.1.10.53</td>\n",
       "      <td>53</td>\n",
       "      <td>53</td>\n",
       "      <td>UDP</td>\n",
       "      <td>98</td>\n",
       "      <td>b'\\x00\\x0c\\x81\\x80\\x00\\x01\\x00\\x01\\x00\\x00\\x00...</td>\n",
       "      <td>1.532199e+09</td>\n",
       "    </tr>\n",
       "    <tr>\n",
       "      <th>2</th>\n",
       "      <td>10.1.10.53</td>\n",
       "      <td>84.54.22.33</td>\n",
       "      <td>53</td>\n",
       "      <td>53</td>\n",
       "      <td>UDP</td>\n",
       "      <td>989</td>\n",
       "      <td>b'\\x00\\x0c\\x01\\x00\\x00\\x01\\x00\\x00\\x00\\x00\\x00...</td>\n",
       "      <td>1.532199e+09</td>\n",
       "    </tr>\n",
       "    <tr>\n",
       "      <th>3</th>\n",
       "      <td>84.54.22.33</td>\n",
       "      <td>10.1.10.53</td>\n",
       "      <td>53</td>\n",
       "      <td>53</td>\n",
       "      <td>UDP</td>\n",
       "      <td>98</td>\n",
       "      <td>b'\\x00\\x0c\\x81\\x80\\x00\\x01\\x00\\x01\\x00\\x00\\x00...</td>\n",
       "      <td>1.532199e+09</td>\n",
       "    </tr>\n",
       "    <tr>\n",
       "      <th>4</th>\n",
       "      <td>10.1.10.53</td>\n",
       "      <td>84.54.22.33</td>\n",
       "      <td>53</td>\n",
       "      <td>53</td>\n",
       "      <td>UDP</td>\n",
       "      <td>1026</td>\n",
       "      <td>b'\\x00\\x0c\\x01\\x00\\x00\\x01\\x00\\x00\\x00\\x00\\x00...</td>\n",
       "      <td>1.532199e+09</td>\n",
       "    </tr>\n",
       "  </tbody>\n",
       "</table>\n",
       "</div>"
      ],
      "text/plain": [
       "        src_ip       dst_ip  src_port  dst_port protocol  payload_length  \\\n",
       "0   10.1.10.53  84.54.22.33        53        53      UDP             975   \n",
       "1  84.54.22.33   10.1.10.53        53        53      UDP              98   \n",
       "2   10.1.10.53  84.54.22.33        53        53      UDP             989   \n",
       "3  84.54.22.33   10.1.10.53        53        53      UDP              98   \n",
       "4   10.1.10.53  84.54.22.33        53        53      UDP            1026   \n",
       "\n",
       "                                             payload     timestamp  \n",
       "0  b'\\x00\\x0c\\x01\\x00\\x00\\x01\\x00\\x00\\x00\\x00\\x00...  1.532199e+09  \n",
       "1  b'\\x00\\x0c\\x81\\x80\\x00\\x01\\x00\\x01\\x00\\x00\\x00...  1.532199e+09  \n",
       "2  b'\\x00\\x0c\\x01\\x00\\x00\\x01\\x00\\x00\\x00\\x00\\x00...  1.532199e+09  \n",
       "3  b'\\x00\\x0c\\x81\\x80\\x00\\x01\\x00\\x01\\x00\\x00\\x00...  1.532199e+09  \n",
       "4  b'\\x00\\x0c\\x01\\x00\\x00\\x01\\x00\\x00\\x00\\x00\\x00...  1.532199e+09  "
      ]
     },
     "execution_count": 107,
     "metadata": {},
     "output_type": "execute_result"
    }
   ],
   "source": [
    "\n",
    "# c. Get the destination IP with most exchanged bytes with the most frequent IP\n",
    "suspicious_ip = df_grouped['payload_length'].idxmax()  # 84.54.22.33\n",
    "\n",
    "# d. Create DF with the conversation between the most frequent IP and the suspicious IP\n",
    "conversation_df = packet_data[\n",
    "    ((packet_data['src_ip'] == most_frequent_src_ip) & (packet_data['dst_ip'] == suspicious_ip)) |\n",
    "    ((packet_data['src_ip'] == suspicious_ip) & (packet_data['dst_ip'] == most_frequent_src_ip))\n",
    "].sort_values('timestamp')\n",
    "\n",
    "\n",
    "conversation_df.head()\n"
   ]
  },
  {
   "cell_type": "code",
   "execution_count": 118,
   "metadata": {},
   "outputs": [
    {
     "name": "stdout",
     "output_type": "stream",
     "text": [
      "Packet 1 payload prefix: b'\\x00\\x0c\\x01\\x00\\x00\\x01\\x00\\x00\\x00\\x00\\x00\\x00\\x06google\\x03com\\x00\\x00\\x1c\\x00\\x01\\xef\\xbf\\xbdPNG\\r\\n\\x1a\\n\\x00\\x00\\x00\\rIHDR\\x00\\x00\\x01b'\n",
      "Packet 2 payload prefix: b'\\x00\\x0c\\x81\\x80\\x00\\x01\\x00\\x01\\x00\\x00\\x00\\x00\\x06google\\x03com\\x00\\x00\\x1c\\x00\\x01\\xc0\\x0c\\x00\\x1c\\x00\\x01\\x00\\x00\\x01+\\x00\\x10&\\x07\\xf8\\xb0@\\x05\\x08\\x07\\x00\\x00'\n",
      "Packet 3 payload prefix: b'\\x00\\x0c\\x01\\x00\\x00\\x01\\x00\\x00\\x00\\x00\\x00\\x00\\x06google\\x03com\\x00\\x00\\x1c\\x00\\x01:\\xef\\xbf\\xbdle:\\xc7\\xa9\\xef\\xbf\\xbd\\xef\\xbf\\xbd\\xef\\xbf\\xbd\\x0c\\xef\\xbf\\xbd'\n",
      "Packet 4 payload prefix: b'\\x00\\x0c\\x81\\x80\\x00\\x01\\x00\\x01\\x00\\x00\\x00\\x00\\x06google\\x03com\\x00\\x00\\x1c\\x00\\x01\\xc0\\x0c\\x00\\x1c\\x00\\x01\\x00\\x00\\x01)\\x00\\x10&\\x07\\xf8\\xb0@\\x05\\x08\\x07\\x00\\x00'\n",
      "Packet 5 payload prefix: b\"\\x00\\x0c\\x01\\x00\\x00\\x01\\x00\\x00\\x00\\x00\\x00\\x00\\x06google\\x03com\\x00\\x00\\x1c\\x00\\x01\\xef\\xbf\\xbd\\xef\\xbf\\xbd^n\\xef\\xbf\\xbd''\\xef\\xbf\\xbd\\xef\\xbf\\xbd\\xef\\xbf\\xbd\"\n"
     ]
    }
   ],
   "source": [
    "# e. Get the payloads from the conversation DF and add them to an array\n",
    "payloads_array = conversation_df['payload'].tolist()\n",
    "\n",
    "# f. Show the content of the array\n",
    "for i, payload in enumerate(payloads_array[:5]):  # Show first 5 for brevity\n",
    "    print(f\"Packet {i+1} payload prefix: {payload[:50]}\")  # Show first 50 bytes"
   ]
  },
  {
   "cell_type": "code",
   "execution_count": 117,
   "metadata": {},
   "outputs": [
    {
     "name": "stdout",
     "output_type": "stream",
     "text": [
      "Top 10 Most Suspicious DNS Packets\n",
      "======================================================================\n",
      "Packet #1 - Suspicion Score: 21\n",
      "Size: 933 bytes\n",
      "Findings:\n",
      "  - DNS Query for 'google.com'\n",
      "  - Contains PNG image file signature\n",
      "  - Contains PNG image data chunk signature\n",
      "  - Contains PNG image data chunk signature\n",
      "  - Unusually large DNS payload (933 bytes)\n",
      "  - High ratio of binary data (0.66)\n",
      "  - Contains text data: '\u0001\u0001\u0006google\u0003com\u001c\u0001PNG\n",
      "\u001a\n",
      "IHDR\u0001...'\n",
      "----------------------------------------------------------------------\n",
      "Packet #57 - Suspicion Score: 11\n",
      "Size: 560 bytes\n",
      "Findings:\n",
      "  - DNS Query for 'google.com'\n",
      "  - Contains PNG image end marker signature\n",
      "  - Unusually large DNS payload (560 bytes)\n",
      "  - High ratio of binary data (0.67)\n",
      "  - Contains text data: '\u0001\u0001\u0006google\u0003com\u001c\u0001w\u0004\u0010[y4\u0007Q9c\u0015}\f\u0017\u0002...'\n",
      "----------------------------------------------------------------------\n",
      "Packet #3 - Suspicion Score: 6\n",
      "Size: 947 bytes\n",
      "Findings:\n",
      "  - DNS Query for 'google.com'\n",
      "  - Unusually large DNS payload (947 bytes)\n",
      "  - High ratio of binary data (0.67)\n",
      "  - Contains text data: '\u0001\u0001\u0006google\u0003com\u001c\u0001:le:\f:|\u0011Xq.ea\u00120...'\n",
      "----------------------------------------------------------------------\n",
      "Packet #5 - Suspicion Score: 6\n",
      "Size: 984 bytes\n",
      "Findings:\n",
      "  - DNS Query for 'google.com'\n",
      "  - Unusually large DNS payload (984 bytes)\n",
      "  - High ratio of binary data (0.70)\n",
      "  - Contains text data: '\u0001\u0001\u0006google\u0003com\u001c\u0001^n''$R\u0017>Epou$M\u001c...'\n",
      "----------------------------------------------------------------------\n",
      "Packet #7 - Suspicion Score: 6\n",
      "Size: 970 bytes\n",
      "Findings:\n",
      "  - DNS Query for 'google.com'\n",
      "  - Unusually large DNS payload (970 bytes)\n",
      "  - High ratio of binary data (0.69)\n",
      "\u0004\u0010DJ\u0014\u0012B\u0005\u001dB...'ext data: '\u0001\u0001\u0006google\u0003com\u001c\u0001Bj_a\n",
      "----------------------------------------------------------------------\n",
      "Packet #9 - Suspicion Score: 6\n",
      "Size: 975 bytes\n",
      "Findings:\n",
      "  - DNS Query for 'google.com'\n",
      "  - Unusually large DNS payload (975 bytes)\n",
      "  - High ratio of binary data (0.70)\n",
      "  - Contains text data: '\u0001\u0001\u0006google\u0003com\u001c\u0001\u0016rjGBWO\u0018i0\u0018\u0001\u0013e\"...'\n",
      "----------------------------------------------------------------------\n",
      "Packet #11 - Suspicion Score: 6\n",
      "Size: 1017 bytes\n",
      "Findings:\n",
      "  - DNS Query for 'google.com'\n",
      "  - Unusually large DNS payload (1017 bytes)\n",
      "  - High ratio of binary data (0.73)\n",
      "  - Contains text data: '\u0001\u0001\u0006google\u0003com\u001c\u0001w \u0002R\u0019^\u0016\u0001 \u001c\u00147PA...'\n",
      "----------------------------------------------------------------------\n",
      "Packet #13 - Suspicion Score: 6\n",
      "Size: 980 bytes\n",
      "Findings:\n",
      "  - DNS Query for 'google.com'\n",
      "  - Unusually large DNS payload (980 bytes)\n",
      "  - High ratio of binary data (0.70)\n",
      "  - Contains text data: '\u0001\u0001\u0006google\u0003com\u001c\u0001VQG-U|p`^\u000b)\u001aA\":...'\n",
      "----------------------------------------------------------------------\n",
      "Packet #15 - Suspicion Score: 6\n",
      "Size: 951 bytes\n",
      "Findings:\n",
      "  - DNS Query for 'google.com'\n",
      "  - Unusually large DNS payload (951 bytes)\n",
      "  - High ratio of binary data (0.68)\n",
      "  - Contains text data: '\u0001\u0001\u0006google\u0003com\u001c\u0001\u0018Gp\u0013\u0019Wq8r@JS=$Q...'\n",
      "----------------------------------------------------------------------\n",
      "Packet #17 - Suspicion Score: 6\n",
      "Size: 931 bytes\n",
      "Findings:\n",
      "  - DNS Query for 'google.com'\n",
      "  - Unusually large DNS payload (931 bytes)\n",
      "  - High ratio of binary data (0.66)\n",
      "n\f!E$[&%3\f...'ext data: '\u0001\u0001\u0006google\u0003com\u001c\u0001\u001er>m\n",
      "----------------------------------------------------------------------\n",
      "\n",
      "Overall Analysis Summary\n",
      "======================================================================\n",
      "Total packets analyzed: 58\n",
      "Suspicious packets: 29 (50.0%)\n",
      "Packets containing PNG data: 2\n",
      "Unusually large packets: 29\n"
     ]
    }
   ],
   "source": [
    "def analyze_dns_payload(payload, packet_num):\n",
    "    analysis = []\n",
    "    suspicion_score = 0\n",
    "    \n",
    "    is_dns_query = payload.startswith(b'\\x00\\x0c\\x01\\x00')\n",
    "    is_dns_response = payload.startswith(b'\\x00\\x0c\\x81\\x80')\n",
    "    \n",
    "    if is_dns_query:\n",
    "        analysis.append(f\"DNS Query for 'google.com'\")\n",
    "    elif is_dns_response:\n",
    "        analysis.append(f\"DNS Response for 'google.com'\")\n",
    "    else:\n",
    "        analysis.append(\"Not a standard DNS packet\")\n",
    "        suspicion_score += 2\n",
    "    \n",
    "    signatures = {\n",
    "        b'PNG\\r\\n\\x1a\\n': \"PNG image file\",\n",
    "        b'JFIF': \"JPEG image file\",\n",
    "        b'PK\\x03\\x04': \"ZIP archive\",\n",
    "        b'%PDF': \"PDF document\",\n",
    "        b'MZ': \"Windows executable\",\n",
    "        b'GIF8': \"GIF image\",\n",
    "        b'IHDR': \"PNG image data chunk\",\n",
    "        b'IDAT': \"PNG image data chunk\",\n",
    "        b'IEND': \"PNG image end marker\"\n",
    "    }\n",
    "    \n",
    "    for sig, desc in signatures.items():\n",
    "        if sig in payload:\n",
    "            analysis.append(f\"Contains {desc} signature\")\n",
    "            suspicion_score += 5 \n",
    "            \n",
    "    if len(payload) > 300:\n",
    "        analysis.append(f\"Unusually large DNS payload ({len(payload)} bytes)\")\n",
    "        suspicion_score += 3\n",
    "    elif len(payload) > 100:\n",
    "        analysis.append(f\"Larger than normal DNS payload ({len(payload)} bytes)\")\n",
    "        suspicion_score += 1\n",
    "    \n",
    "    binary_patterns = sum(1 for b in payload if b > 127)\n",
    "    binary_ratio = binary_patterns / len(payload) if payload else 0\n",
    "    if binary_ratio > 0.3:\n",
    "        analysis.append(f\"High ratio of binary data ({binary_ratio:.2f})\")\n",
    "        suspicion_score += 2\n",
    "    \n",
    "    try:\n",
    "        text_content = payload.decode('ascii', errors='ignore')\n",
    "        text_sample = text_content.replace('\\x00', '').strip()\n",
    "        if len(text_sample) > 20: \n",
    "            preview = text_sample[:30] + \"...\" if len(text_sample) > 30 else text_sample\n",
    "            analysis.append(f\"Contains text data: '{preview}'\")\n",
    "            suspicion_score += 1\n",
    "    except:\n",
    "        pass\n",
    "    \n",
    "    return {\n",
    "        \"packet_num\": packet_num,\n",
    "        \"analysis\": analysis,\n",
    "        \"suspicion_score\": suspicion_score,\n",
    "        \"payload_size\": len(payload)\n",
    "    }\n",
    "\n",
    "analysis_results = []\n",
    "for i, payload in enumerate(payloads_array):\n",
    "    result = analyze_dns_payload(payload, i+1)\n",
    "    analysis_results.append(result)\n",
    "\n",
    "sorted_results = sorted(analysis_results, key=lambda x: x[\"suspicion_score\"], reverse=True)\n",
    "\n",
    "print(\"Top 10 Most Suspicious DNS Packets\\n\" + \"=\"*70)\n",
    "for result in sorted_results[:10]:\n",
    "    print(f\"Packet #{result['packet_num']} - Suspicion Score: {result['suspicion_score']}\")\n",
    "    print(f\"Size: {result['payload_size']} bytes\")\n",
    "    print(\"Findings:\")\n",
    "    for finding in result[\"analysis\"]:\n",
    "        print(f\"  - {finding}\")\n",
    "    print(\"-\"*70)\n",
    "\n",
    "print(\"\\nOverall Analysis Summary\\n\" + \"=\"*70)\n",
    "total_packets = len(analysis_results)\n",
    "suspicious_packets = sum(1 for r in analysis_results if r[\"suspicion_score\"] > 3)\n",
    "print(f\"Total packets analyzed: {total_packets}\")\n",
    "print(f\"Suspicious packets: {suspicious_packets} ({suspicious_packets/total_packets*100:.1f}%)\")\n",
    "\n",
    "png_packets = sum(1 for r in analysis_results if any(\"PNG\" in a for a in r[\"analysis\"]))\n",
    "large_packets = sum(1 for r in analysis_results if r[\"payload_size\"] > 300)\n",
    "\n",
    "print(f\"Packets containing PNG data: {png_packets}\")\n",
    "print(f\"Unusually large packets: {large_packets}\")"
   ]
  },
  {
   "cell_type": "markdown",
   "metadata": {},
   "source": [
    "Se desarrolló un sistema de puntuación para identificar paquetes sospechosos basado en múltiples factores: tamaño del payload, presencia de firmas de archivos conocidos, patrones binarios inusuales y contenido de texto. Este enfoque permitió clasificar y ordenar los paquetes según su nivel de sospecha.\n",
    "\n",
    "Los resultados muestran evidencia de exfiltración de datos mediante técnicas de DNS tunneling, donde se está transmitiendo una imagen PNG fragmentada a través de consultas DNS. Este comportamiento es altamente sospechoso porque: 1) los paquetes DNS tienen un tamaño anormalmente grande (933-1017 bytes cuando deberían ser mucho menores), 2) contienen firmas de archivo PNG y bloques de datos de imagen que no deberían estar presentes en tráfico DNS legítimo, 3) muestran una alta proporción de datos binarios (66-73%), y 4) las consultas siempre se dirigen al mismo dominio (google.com) con información no relacionada con resolución de nombres. Esta técnica es utilizada típicamente por atacantes para evadir controles de seguridad de red y extraer información de manera encubierta."
   ]
  }
 ],
 "metadata": {
  "kernelspec": {
   "display_name": "Python 3",
   "language": "python",
   "name": "python3"
  },
  "language_info": {
   "codemirror_mode": {
    "name": "ipython",
    "version": 3
   },
   "file_extension": ".py",
   "mimetype": "text/x-python",
   "name": "python",
   "nbconvert_exporter": "python",
   "pygments_lexer": "ipython3",
   "version": "3.10.14"
  }
 },
 "nbformat": 4,
 "nbformat_minor": 2
}

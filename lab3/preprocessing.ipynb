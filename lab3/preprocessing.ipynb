{
 "cells": [
  {
   "metadata": {},
   "cell_type": "markdown",
   "source": [
    "# Preprocesamiento\n",
    "### Security Data Science -- Laboratorio 3\n",
    "#### Adrian Rodriguez 21619\n",
    "#### Jose Daniel Gomez Cabrera 21429"
   ],
   "id": "6214ef4f7ab6a731"
  },
  {
   "metadata": {
    "ExecuteTime": {
     "end_time": "2025-02-28T20:04:41.634818Z",
     "start_time": "2025-02-28T20:04:41.525003Z"
    }
   },
   "cell_type": "code",
   "source": [
    "import pandas as pd\n",
    "import numpy as np\n",
    "import pickle\n",
    "from sklearn.model_selection import train_test_split\n",
    "from sklearn.feature_extraction.text import CountVectorizer, TfidfVectorizer\n",
    "import warnings\n",
    "warnings.filterwarnings('ignore')"
   ],
   "id": "7c3b423463a94461",
   "outputs": [],
   "execution_count": 1
  },
  {
   "metadata": {},
   "cell_type": "markdown",
   "source": "Cargar el dataset",
   "id": "39b49af36b6a87d7"
  },
  {
   "metadata": {
    "ExecuteTime": {
     "end_time": "2025-02-28T20:04:41.674942Z",
     "start_time": "2025-02-28T20:04:41.638281Z"
    }
   },
   "cell_type": "code",
   "source": "df = pd.read_csv('./data/MalBehavD-V1-dataset.csv')",
   "id": "229f94ec64a9bd38",
   "outputs": [],
   "execution_count": 2
  },
  {
   "metadata": {},
   "cell_type": "markdown",
   "source": "## Preprocesamiento",
   "id": "681091b40620211f"
  },
  {
   "metadata": {},
   "cell_type": "markdown",
   "source": "Convertir las secuencias de API en un formato adecuado para el análisis",
   "id": "f13f278d1e4c4649"
  },
  {
   "metadata": {
    "ExecuteTime": {
     "end_time": "2025-02-28T20:04:41.762418Z",
     "start_time": "2025-02-28T20:04:41.760613Z"
    }
   },
   "cell_type": "code",
   "source": [
    "def create_api_sequences(dataframe):\n",
    "    sequences = []\n",
    "    labels = []\n",
    "\n",
    "    for i in range(dataframe.shape[0]):\n",
    "        # Extraer las APIs no nulas de cada fila\n",
    "        apis = dataframe.iloc[i, 2:].dropna().tolist()\n",
    "\n",
    "        # Convertir la lista de APIs en una cadena, donde cada API está separada por un espacio\n",
    "        api_sequence = ' '.join(apis)\n",
    "\n",
    "        sequences.append(api_sequence)\n",
    "        labels.append(dataframe.iloc[i, 1])  # Columna 'labels'\n",
    "\n",
    "    return sequences, labels"
   ],
   "id": "657d7e0e5cccbaab",
   "outputs": [],
   "execution_count": 3
  },
  {
   "metadata": {
    "ExecuteTime": {
     "end_time": "2025-02-28T20:04:42.010456Z",
     "start_time": "2025-02-28T20:04:41.779622Z"
    }
   },
   "cell_type": "code",
   "source": "api_sequences, labels = create_api_sequences(df)",
   "id": "e950c9066e28b32b",
   "outputs": [],
   "execution_count": 4
  },
  {
   "metadata": {
    "ExecuteTime": {
     "end_time": "2025-02-28T20:04:42.021169Z",
     "start_time": "2025-02-28T20:04:42.019270Z"
    }
   },
   "cell_type": "code",
   "source": [
    "print(\"Ejemplos de secuencias de API:\")\n",
    "for i in range(3):\n",
    "    print(f\"Muestra {i+1}:\")\n",
    "    print(f\"Etiqueta: {labels[i]}\")\n",
    "    print(f\"Secuencia: {api_sequences[i][:150]}...\")  # Mostrar los primeros 150 caracteres\n",
    "    print()"
   ],
   "id": "f03d5b7393cc56ac",
   "outputs": [
    {
     "name": "stdout",
     "output_type": "stream",
     "text": [
      "Ejemplos de secuencias de API:\n",
      "Muestra 1:\n",
      "Etiqueta: 0\n",
      "Secuencia: LdrUnloadDll CoUninitialize NtQueryKey NtDuplicateObject GetShortPathNameW GetSystemInfo IsDebuggerPresent GetSystemWindowsDirectoryW NtClose GetFileV...\n",
      "\n",
      "Muestra 2:\n",
      "Etiqueta: 0\n",
      "Secuencia: NtOpenMutant GetForegroundWindow NtQueryKey DrawTextExW NtSetInformationFile RegQueryValueExA LdrGetProcedureAddress CoUninitialize NtQueryValueKey Re...\n",
      "\n",
      "Muestra 3:\n",
      "Etiqueta: 0\n",
      "Secuencia: GetForegroundWindow DrawTextExW GetSystemInfo IsDebuggerPresent GetSystemWindowsDirectoryW NtQueryValueKey RegCloseKey GetFileAttributesW RegQueryValu...\n",
      "\n"
     ]
    }
   ],
   "execution_count": 5
  },
  {
   "metadata": {},
   "cell_type": "markdown",
   "source": "## Implementación y validación (70% entrenamiento y 30 pruebas)",
   "id": "e3552d95e8274d04"
  },
  {
   "metadata": {
    "ExecuteTime": {
     "end_time": "2025-02-28T20:04:42.055592Z",
     "start_time": "2025-02-28T20:04:42.052514Z"
    }
   },
   "cell_type": "code",
   "source": [
    "# División de datos en conjuntos de entrenamiento y prueba (70/30)\n",
    "X_train, X_test, y_train, y_test = train_test_split(\n",
    "    api_sequences, labels, test_size=0.3, random_state=42, stratify=labels\n",
    ")"
   ],
   "id": "ccc6950064d98288",
   "outputs": [],
   "execution_count": 6
  },
  {
   "metadata": {
    "ExecuteTime": {
     "end_time": "2025-02-28T20:04:42.072486Z",
     "start_time": "2025-02-28T20:04:42.070733Z"
    }
   },
   "cell_type": "code",
   "source": [
    "print(f\"Cantidad de muestras de entrenamiento: {len(X_train)}\")\n",
    "print(f\"Cantidad de muestras de prueba: {len(X_test)}\")"
   ],
   "id": "aba944ae44ccea1e",
   "outputs": [
    {
     "name": "stdout",
     "output_type": "stream",
     "text": [
      "Cantidad de muestras de entrenamiento: 1799\n",
      "Cantidad de muestras de prueba: 771\n"
     ]
    }
   ],
   "execution_count": 7
  },
  {
   "metadata": {},
   "cell_type": "markdown",
   "source": "## Ingeniería de Características con BoW (Bag of Words)",
   "id": "b4d7df2902017e2a"
  },
  {
   "metadata": {
    "ExecuteTime": {
     "end_time": "2025-02-28T20:04:42.130342Z",
     "start_time": "2025-02-28T20:04:42.087531Z"
    }
   },
   "cell_type": "code",
   "source": [
    "bow_vectorizer = CountVectorizer(ngram_range=(1, 1))  # Unigramas\n",
    "X_train_bow = bow_vectorizer.fit_transform(X_train)\n",
    "X_test_bow = bow_vectorizer.transform(X_test)"
   ],
   "id": "323f0e8c52c4d41b",
   "outputs": [],
   "execution_count": 8
  },
  {
   "metadata": {
    "ExecuteTime": {
     "end_time": "2025-02-28T20:04:42.165027Z",
     "start_time": "2025-02-28T20:04:42.158734Z"
    }
   },
   "cell_type": "code",
   "source": [
    "print(f\"Dimensiones de X_train_bow: {X_train_bow.shape}\")\n",
    "print(f\"Cantidad de características (APIs únicas): {len(bow_vectorizer.get_feature_names_out())}\")"
   ],
   "id": "2532926d2723e0b7",
   "outputs": [
    {
     "name": "stdout",
     "output_type": "stream",
     "text": [
      "Dimensiones de X_train_bow: (1799, 286)\n",
      "Cantidad de características (APIs únicas): 286\n"
     ]
    }
   ],
   "execution_count": 9
  },
  {
   "metadata": {},
   "cell_type": "markdown",
   "source": "## Ingeniería de Características con TF-IDF",
   "id": "661fe1e6201d0502"
  },
  {
   "metadata": {
    "ExecuteTime": {
     "end_time": "2025-02-28T20:04:42.317216Z",
     "start_time": "2025-02-28T20:04:42.219002Z"
    }
   },
   "cell_type": "code",
   "source": [
    "tfidf_vectorizer = TfidfVectorizer(ngram_range=(1, 2))  # Unigramas y bigramas\n",
    "X_train_tfidf = tfidf_vectorizer.fit_transform(X_train)\n",
    "X_test_tfidf = tfidf_vectorizer.transform(X_test)"
   ],
   "id": "9288b582bbf3402d",
   "outputs": [],
   "execution_count": 10
  },
  {
   "metadata": {
    "ExecuteTime": {
     "end_time": "2025-02-28T20:04:42.341263Z",
     "start_time": "2025-02-28T20:04:42.328205Z"
    }
   },
   "cell_type": "code",
   "source": [
    "print(f\"Dimensiones de X_train_tfidf: {X_train_tfidf.shape}\")\n",
    "print(f\"Cantidad de características (unigramas y bigramas únicos): {len(tfidf_vectorizer.get_feature_names_out())}\")"
   ],
   "id": "6451ccd2040325d6",
   "outputs": [
    {
     "name": "stdout",
     "output_type": "stream",
     "text": [
      "Dimensiones de X_train_tfidf: (1799, 6754)\n",
      "Cantidad de características (unigramas y bigramas únicos): 6754\n"
     ]
    }
   ],
   "execution_count": 11
  },
  {
   "metadata": {},
   "cell_type": "markdown",
   "source": "n-gramas más importantes según el valor TF-IDF",
   "id": "1d073411f5ec9e60"
  },
  {
   "metadata": {
    "ExecuteTime": {
     "end_time": "2025-02-28T20:04:42.383611Z",
     "start_time": "2025-02-28T20:04:42.378908Z"
    }
   },
   "cell_type": "code",
   "source": [
    "feature_names = tfidf_vectorizer.get_feature_names_out()\n",
    "tfidf_sums = X_train_tfidf.sum(axis=0).A1\n",
    "top_indices = tfidf_sums.argsort()[-20:]  # Top 20 n-gramas con mayor valor TF-IDF"
   ],
   "id": "4041267eed18aaab",
   "outputs": [],
   "execution_count": 12
  },
  {
   "metadata": {
    "ExecuteTime": {
     "end_time": "2025-02-28T20:04:42.435632Z",
     "start_time": "2025-02-28T20:04:42.433787Z"
    }
   },
   "cell_type": "code",
   "source": [
    "print(\"\\nTop 20 n-gramas más relevantes según el valor de TF-IDF:\")\n",
    "for idx in top_indices:\n",
    "    print(f\"{feature_names[idx]}: {tfidf_sums[idx]:.4f}\")"
   ],
   "id": "a7f3bebfbf9b102a",
   "outputs": [
    {
     "name": "stdout",
     "output_type": "stream",
     "text": [
      "\n",
      "Top 20 n-gramas más relevantes según el valor de TF-IDF:\n",
      "ntcreatefile ntclose: 56.3180\n",
      "ntqueryvaluekey ldrunloaddll: 57.8926\n",
      "createprocessinternalw: 57.9778\n",
      "ntopenmutant: 58.7904\n",
      "getfilesize: 59.3395\n",
      "getsystemtimeasfiletime: 59.3417\n",
      "ldrgetdllhandle: 60.1386\n",
      "ntfreevirtualmemory: 60.1740\n",
      "ntprotectvirtualmemory: 60.5715\n",
      "ntwritefile: 60.7630\n",
      "ntreadfile: 61.6069\n",
      "regclosekey: 62.6073\n",
      "ntallocatevirtualmemory: 64.5910\n",
      "ntcreatefile: 65.5279\n",
      "ldrgetprocedureaddress: 67.6497\n",
      "ldrunloaddll: 69.2425\n",
      "ntqueryvaluekey: 70.0655\n",
      "ntopenkey: 70.0685\n",
      "ntclose: 70.5055\n",
      "ntterminateprocess: 74.2047\n"
     ]
    }
   ],
   "execution_count": 13
  },
  {
   "metadata": {},
   "cell_type": "markdown",
   "source": "Comprobar la distribución de clases en los conjuntos de entrenamiento y prueba",
   "id": "6a98f4b40f1c8b0f"
  },
  {
   "metadata": {
    "ExecuteTime": {
     "end_time": "2025-02-28T20:04:42.475626Z",
     "start_time": "2025-02-28T20:04:42.471319Z"
    }
   },
   "cell_type": "code",
   "source": [
    "print(\"Distribución de clases:\")\n",
    "print(f\"Entrenamiento: {pd.Series(y_train).value_counts()}\")\n",
    "print(f\"Prueba: {pd.Series(y_test).value_counts()}\")"
   ],
   "id": "5e878ee6ade73f",
   "outputs": [
    {
     "name": "stdout",
     "output_type": "stream",
     "text": [
      "Distribución de clases:\n",
      "Entrenamiento: 1    900\n",
      "0    899\n",
      "Name: count, dtype: int64\n",
      "Prueba: 0    386\n",
      "1    385\n",
      "Name: count, dtype: int64\n"
     ]
    }
   ],
   "execution_count": 14
  },
  {
   "metadata": {},
   "cell_type": "markdown",
   "source": "Guardar vectorizadores",
   "id": "22d6e3c1b626f461"
  },
  {
   "metadata": {
    "ExecuteTime": {
     "end_time": "2025-02-28T20:04:42.506166Z",
     "start_time": "2025-02-28T20:04:42.502676Z"
    }
   },
   "cell_type": "code",
   "source": [
    "pickle.dump(bow_vectorizer, open('./vectorizers/bow_vectorizer.pkl', 'wb'))\n",
    "pickle.dump(tfidf_vectorizer, open('./vectorizers/tfidf_vectorizer.pkl', 'wb'))"
   ],
   "id": "91ec7d3ae19494b8",
   "outputs": [],
   "execution_count": 15
  },
  {
   "metadata": {},
   "cell_type": "markdown",
   "source": "Guardar los preprocesadores",
   "id": "7406bd854b5e5698"
  },
  {
   "metadata": {
    "ExecuteTime": {
     "end_time": "2025-02-28T20:04:42.579807Z",
     "start_time": "2025-02-28T20:04:42.524759Z"
    }
   },
   "cell_type": "code",
   "source": [
    "np.save('./preprocessors/X_train_bow.npy', X_train_bow.toarray())\n",
    "np.save('./preprocessors/X_test_bow.npy', X_test_bow.toarray())\n",
    "np.save('./preprocessors/X_train_tfidf.npy', X_train_tfidf.toarray())\n",
    "np.save('./preprocessors/X_test_tfidf.npy', X_test_tfidf.toarray())\n",
    "np.save('./preprocessors/y_train.npy', np.array(y_train))\n",
    "np.save('./preprocessors/y_test.npy', np.array(y_test))"
   ],
   "id": "d2457fe6f7b45ab4",
   "outputs": [],
   "execution_count": 16
  }
 ],
 "metadata": {
  "kernelspec": {
   "name": "python3",
   "language": "python",
   "display_name": "Python 3 (ipykernel)"
  }
 },
 "nbformat": 5,
 "nbformat_minor": 9
}

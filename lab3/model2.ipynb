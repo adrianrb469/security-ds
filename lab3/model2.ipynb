{
 "cells": [
  {
   "metadata": {},
   "cell_type": "markdown",
   "source": [
    "# Modelo 2 - DL\n",
    "### Security Data Science\n",
    "#### Adrian Rodriguez 21619\n",
    "#### Jose Daniel Gomez Cabrera 21429"
   ],
   "id": "f2c8fdf4adeeaf06"
  },
  {
   "metadata": {},
   "cell_type": "code",
   "outputs": [],
   "execution_count": null,
   "source": "",
   "id": "2e63dc57c94ab48a"
  }
 ],
 "metadata": {},
 "nbformat": 5,
 "nbformat_minor": 9
}

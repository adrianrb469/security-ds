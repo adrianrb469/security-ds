{
 "cells": [
  {
   "cell_type": "code",
   "execution_count": 3,
   "metadata": {},
   "outputs": [],
   "source": [
    "import os\n",
    "import pandas as pd\n",
    "import whois\n",
    "from tqdm import tqdm"
   ]
  },
  {
   "cell_type": "markdown",
   "metadata": {},
   "source": [
    "### Load Classified TLDs"
   ]
  },
  {
   "cell_type": "code",
   "execution_count": 5,
   "metadata": {},
   "outputs": [],
   "source": [
    "tld_classified_df = pd.read_csv(\"data/tld_dga_classification.csv\")"
   ]
  },
  {
   "cell_type": "markdown",
   "metadata": {},
   "source": [
    "### Load Whitelist"
   ]
  },
  {
   "cell_type": "code",
   "execution_count": 8,
   "metadata": {},
   "outputs": [],
   "source": [
    "data = pd.read_csv(\"data/top_tld.csv\", header=None)\n",
    "whitelist = set(data[1].str.lower().tolist())"
   ]
  },
  {
   "cell_type": "markdown",
   "metadata": {},
   "source": [
    "### Domain Expert"
   ]
  },
  {
   "cell_type": "code",
   "execution_count": 24,
   "metadata": {},
   "outputs": [],
   "source": [
    "def in_whitelist(tld, whitelist):\n",
    "    \"\"\"Returns 1 if the TLD is suspicious, 0 otherwise\"\"\"\n",
    "    return True if tld.lower() in whitelist else False\n",
    "\n",
    "# This are the domains classified as malicious by Gemini\n",
    "dga_df = tld_classified_df[tld_classified_df['dga_classification'] == 1].copy()\n",
    "\n",
    "# This tells us if the TLD is in the whitelist\n",
    "dga_df['whitelist_match'] = dga_df['domain_tld'].apply(lambda x: in_whitelist(x, whitelist))\n",
    "\n",
    "# We want the intersection of the domains classified as malicious by Gemini and the whitelist.\n",
    "highly_suspicious_tlds_df = dga_df[dga_df['whitelist_match'] == False]\n",
    "tlds = highly_suspicious_tlds_df.drop_duplicates(subset=['domain_tld'])\n"
   ]
  },
  {
   "cell_type": "code",
   "execution_count": 26,
   "metadata": {},
   "outputs": [
    {
     "name": "stdout",
     "output_type": "stream",
     "text": [
      "Final TLDs: 11\n"
     ]
    },
    {
     "data": {
      "text/html": [
       "<div>\n",
       "<style scoped>\n",
       "    .dataframe tbody tr th:only-of-type {\n",
       "        vertical-align: middle;\n",
       "    }\n",
       "\n",
       "    .dataframe tbody tr th {\n",
       "        vertical-align: top;\n",
       "    }\n",
       "\n",
       "    .dataframe thead th {\n",
       "        text-align: right;\n",
       "    }\n",
       "</style>\n",
       "<table border=\"1\" class=\"dataframe\">\n",
       "  <thead>\n",
       "    <tr style=\"text-align: right;\">\n",
       "      <th></th>\n",
       "      <th>domain_tld</th>\n",
       "      <th>dga_classification</th>\n",
       "      <th>whitelist_match</th>\n",
       "    </tr>\n",
       "  </thead>\n",
       "  <tbody>\n",
       "    <tr>\n",
       "      <th>10</th>\n",
       "      <td>110phpmyadmin</td>\n",
       "      <td>1</td>\n",
       "      <td>False</td>\n",
       "    </tr>\n",
       "    <tr>\n",
       "      <th>34</th>\n",
       "      <td>wpad</td>\n",
       "      <td>1</td>\n",
       "      <td>False</td>\n",
       "    </tr>\n",
       "    <tr>\n",
       "      <th>35</th>\n",
       "      <td>lan</td>\n",
       "      <td>1</td>\n",
       "      <td>False</td>\n",
       "    </tr>\n",
       "    <tr>\n",
       "      <th>36</th>\n",
       "      <td>56\"</td>\n",
       "      <td>1</td>\n",
       "      <td>False</td>\n",
       "    </tr>\n",
       "    <tr>\n",
       "      <th>40</th>\n",
       "      <td>malwarecity.com</td>\n",
       "      <td>1</td>\n",
       "      <td>False</td>\n",
       "    </tr>\n",
       "    <tr>\n",
       "      <th>80</th>\n",
       "      <td>saruman</td>\n",
       "      <td>1</td>\n",
       "      <td>False</td>\n",
       "    </tr>\n",
       "    <tr>\n",
       "      <th>81</th>\n",
       "      <td>1201</td>\n",
       "      <td>1</td>\n",
       "      <td>False</td>\n",
       "    </tr>\n",
       "    <tr>\n",
       "      <th>96</th>\n",
       "      <td>vtlfccmfxlkgifuf.com</td>\n",
       "      <td>1</td>\n",
       "      <td>False</td>\n",
       "    </tr>\n",
       "    <tr>\n",
       "      <th>98</th>\n",
       "      <td>254</td>\n",
       "      <td>1</td>\n",
       "      <td>False</td>\n",
       "    </tr>\n",
       "    <tr>\n",
       "      <th>99</th>\n",
       "      <td>ejfodfmfxlkgifuf.xyz</td>\n",
       "      <td>1</td>\n",
       "      <td>False</td>\n",
       "    </tr>\n",
       "    <tr>\n",
       "      <th>100</th>\n",
       "      <td>201:</td>\n",
       "      <td>1</td>\n",
       "      <td>False</td>\n",
       "    </tr>\n",
       "  </tbody>\n",
       "</table>\n",
       "</div>"
      ],
      "text/plain": [
       "               domain_tld  dga_classification  whitelist_match\n",
       "10          110phpmyadmin                   1            False\n",
       "34                   wpad                   1            False\n",
       "35                    lan                   1            False\n",
       "36                    56\"                   1            False\n",
       "40        malwarecity.com                   1            False\n",
       "80                saruman                   1            False\n",
       "81                   1201                   1            False\n",
       "96   vtlfccmfxlkgifuf.com                   1            False\n",
       "98                    254                   1            False\n",
       "99   ejfodfmfxlkgifuf.xyz                   1            False\n",
       "100                  201:                   1            False"
      ]
     },
     "execution_count": 26,
     "metadata": {},
     "output_type": "execute_result"
    }
   ],
   "source": [
    "print(f'Final TLDs: {len(tlds)}')\n",
    "tlds"
   ]
  },
  {
   "cell_type": "markdown",
   "metadata": {},
   "source": [
    "### Creation Date\n"
   ]
  },
  {
   "cell_type": "code",
   "execution_count": 28,
   "metadata": {},
   "outputs": [
    {
     "name": "stderr",
     "output_type": "stream",
     "text": [
      "Obteniendo fechas de creación: 100%|██████████| 11/11 [00:00<00:00, 37571.13it/s]"
     ]
    },
    {
     "name": "stdout",
     "output_type": "stream",
     "text": [
      "Could not get creation date for 110phpmyadmin\n",
      "Could not get creation date for wpad\n",
      "Could not get creation date for lan\n",
      "Could not get creation date for 56\"\n",
      "Could not get creation date for malwarecity.com\n",
      "Could not get creation date for saruman\n",
      "Could not get creation date for 1201\n",
      "Could not get creation date for vtlfccmfxlkgifuf.com\n",
      "Could not get creation date for 254\n",
      "Could not get creation date for ejfodfmfxlkgifuf.xyz\n",
      "Could not get creation date for 201:\n",
      "\n",
      "Final TLDs, their classification and creation date:\n",
      "               domain_tld  dga_classification  whitelist_match creation_date\n",
      "10          110phpmyadmin                   1            False          None\n",
      "34                   wpad                   1            False          None\n",
      "35                    lan                   1            False          None\n",
      "36                    56\"                   1            False          None\n",
      "40        malwarecity.com                   1            False          None\n",
      "80                saruman                   1            False          None\n",
      "81                   1201                   1            False          None\n",
      "96   vtlfccmfxlkgifuf.com                   1            False          None\n",
      "98                    254                   1            False          None\n",
      "99   ejfodfmfxlkgifuf.xyz                   1            False          None\n",
      "100                  201:                   1            False          None\n"
     ]
    },
    {
     "name": "stderr",
     "output_type": "stream",
     "text": [
      "\n"
     ]
    }
   ],
   "source": [
    "def get_creation_date(tld):\n",
    "    try:\n",
    "        domain_info = whois.whois(tld)\n",
    "        creation_date = domain_info.creation_date\n",
    "        if isinstance(creation_date, list):\n",
    "            creation_date = creation_date[0]\n",
    "        return creation_date\n",
    "    except Exception as e:\n",
    "        print(f'Could not get creation date for {tld}')\n",
    "        return None\n",
    "    \n",
    "tqdm.pandas(desc=\"Obteniendo fechas de creación\") \n",
    "tlds['creation_date'] = tlds['domain_tld'].progress_apply(get_creation_date)\n",
    "\n",
    "print(\"\\nFinal TLDs, their classification and creation date:\")\n",
    "print(tlds[['domain_tld', 'dga_classification', 'whitelist_match', 'creation_date']])\n"
   ]
  }
 ],
 "metadata": {
  "kernelspec": {
   "display_name": "Python 3",
   "language": "python",
   "name": "python3"
  },
  "language_info": {
   "codemirror_mode": {
    "name": "ipython",
    "version": 3
   },
   "file_extension": ".py",
   "mimetype": "text/x-python",
   "name": "python",
   "nbconvert_exporter": "python",
   "pygments_lexer": "ipython3",
   "version": "3.10.14"
  }
 },
 "nbformat": 4,
 "nbformat_minor": 2
}

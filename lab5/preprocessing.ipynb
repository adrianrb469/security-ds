{
 "cells": [
  {
   "cell_type": "code",
   "execution_count": 96,
   "metadata": {},
   "outputs": [],
   "source": [
    "import pandas as pd\n",
    "import warnings\n",
    "warnings.filterwarnings('ignore')"
   ]
  },
  {
   "cell_type": "markdown",
   "metadata": {},
   "source": [
    "### Load DNS events"
   ]
  },
  {
   "cell_type": "code",
   "execution_count": 84,
   "metadata": {},
   "outputs": [
    {
     "name": "stdout",
     "output_type": "stream",
     "text": [
      "15749 DNS events found\n"
     ]
    },
    {
     "data": {
      "text/html": [
       "<div>\n",
       "<style scoped>\n",
       "    .dataframe tbody tr th:only-of-type {\n",
       "        vertical-align: middle;\n",
       "    }\n",
       "\n",
       "    .dataframe tbody tr th {\n",
       "        vertical-align: top;\n",
       "    }\n",
       "\n",
       "    .dataframe thead th {\n",
       "        text-align: right;\n",
       "    }\n",
       "</style>\n",
       "<table border=\"1\" class=\"dataframe\">\n",
       "  <thead>\n",
       "    <tr style=\"text-align: right;\">\n",
       "      <th></th>\n",
       "      <th>timestamp</th>\n",
       "      <th>flow_id</th>\n",
       "      <th>pcap_cnt</th>\n",
       "      <th>event_type</th>\n",
       "      <th>vlan</th>\n",
       "      <th>src_ip</th>\n",
       "      <th>src_port</th>\n",
       "      <th>dest_ip</th>\n",
       "      <th>dest_port</th>\n",
       "      <th>proto</th>\n",
       "      <th>...</th>\n",
       "      <th>vars</th>\n",
       "      <th>flow</th>\n",
       "      <th>icmp_type</th>\n",
       "      <th>icmp_code</th>\n",
       "      <th>tcp</th>\n",
       "      <th>smtp</th>\n",
       "      <th>email</th>\n",
       "      <th>app_proto_tc</th>\n",
       "      <th>app_proto_ts</th>\n",
       "      <th>stats</th>\n",
       "    </tr>\n",
       "  </thead>\n",
       "  <tbody>\n",
       "    <tr>\n",
       "      <th>119304</th>\n",
       "      <td>2017-07-22T18:29:17.358830-0500</td>\n",
       "      <td>2.019680e+15</td>\n",
       "      <td>504555.0</td>\n",
       "      <td>dns</td>\n",
       "      <td>150.0</td>\n",
       "      <td>192.168.207.4</td>\n",
       "      <td>53.0</td>\n",
       "      <td>192.168.205.188</td>\n",
       "      <td>60984.0</td>\n",
       "      <td>UDP</td>\n",
       "      <td>...</td>\n",
       "      <td>NaN</td>\n",
       "      <td>NaN</td>\n",
       "      <td>NaN</td>\n",
       "      <td>NaN</td>\n",
       "      <td>NaN</td>\n",
       "      <td>NaN</td>\n",
       "      <td>NaN</td>\n",
       "      <td>NaN</td>\n",
       "      <td>NaN</td>\n",
       "      <td>NaN</td>\n",
       "    </tr>\n",
       "    <tr>\n",
       "      <th>140955</th>\n",
       "      <td>2017-07-22T18:33:28.118093-0500</td>\n",
       "      <td>6.674917e+14</td>\n",
       "      <td>565680.0</td>\n",
       "      <td>dns</td>\n",
       "      <td>150.0</td>\n",
       "      <td>192.168.207.4</td>\n",
       "      <td>53.0</td>\n",
       "      <td>192.168.205.188</td>\n",
       "      <td>50816.0</td>\n",
       "      <td>UDP</td>\n",
       "      <td>...</td>\n",
       "      <td>NaN</td>\n",
       "      <td>NaN</td>\n",
       "      <td>NaN</td>\n",
       "      <td>NaN</td>\n",
       "      <td>NaN</td>\n",
       "      <td>NaN</td>\n",
       "      <td>NaN</td>\n",
       "      <td>NaN</td>\n",
       "      <td>NaN</td>\n",
       "      <td>NaN</td>\n",
       "    </tr>\n",
       "  </tbody>\n",
       "</table>\n",
       "<p>2 rows × 28 columns</p>\n",
       "</div>"
      ],
      "text/plain": [
       "                              timestamp       flow_id  pcap_cnt event_type  \\\n",
       "119304  2017-07-22T18:29:17.358830-0500  2.019680e+15  504555.0        dns   \n",
       "140955  2017-07-22T18:33:28.118093-0500  6.674917e+14  565680.0        dns   \n",
       "\n",
       "         vlan         src_ip  src_port          dest_ip  dest_port proto  ...  \\\n",
       "119304  150.0  192.168.207.4      53.0  192.168.205.188    60984.0   UDP  ...   \n",
       "140955  150.0  192.168.207.4      53.0  192.168.205.188    50816.0   UDP  ...   \n",
       "\n",
       "       vars flow icmp_type  icmp_code  tcp smtp email app_proto_tc  \\\n",
       "119304  NaN  NaN       NaN        NaN  NaN  NaN   NaN          NaN   \n",
       "140955  NaN  NaN       NaN        NaN  NaN  NaN   NaN          NaN   \n",
       "\n",
       "       app_proto_ts stats  \n",
       "119304          NaN   NaN  \n",
       "140955          NaN   NaN  \n",
       "\n",
       "[2 rows x 28 columns]"
      ]
     },
     "execution_count": 84,
     "metadata": {},
     "output_type": "execute_result"
    }
   ],
   "source": [
    "data = pd.read_json('data/events.json', lines=True)\n",
    "\n",
    "dns_events = data[data['event_type'] == 'dns']\n",
    "\n",
    "print(f'{len(dns_events)} DNS events found')\n",
    "dns_events.sample(2)"
   ]
  },
  {
   "cell_type": "markdown",
   "metadata": {},
   "source": [
    "### Normalization"
   ]
  },
  {
   "cell_type": "code",
   "execution_count": 85,
   "metadata": {},
   "outputs": [
    {
     "name": "stdout",
     "output_type": "stream",
     "text": [
      "Dataset Shape: (15749, 35)\n"
     ]
    }
   ],
   "source": [
    "dns_df = pd.json_normalize(dns_events.to_dict(orient=\"records\"), sep=\"_\")\n",
    "\n",
    "print(f'Dataset Shape: {dns_df.shape}')"
   ]
  },
  {
   "cell_type": "markdown",
   "metadata": {},
   "source": [
    "### Filtering"
   ]
  },
  {
   "cell_type": "code",
   "execution_count": 93,
   "metadata": {},
   "outputs": [
    {
     "name": "stdout",
     "output_type": "stream",
     "text": [
      "Found 2849 A records\n",
      "Found 177 unique domains\n"
     ]
    }
   ],
   "source": [
    "dns_df = dns_df[dns_df['dns_rrtype'] == 'A']\n",
    "unique_domains_df = dns_df.drop_duplicates(subset=['dns_rrname'])\n",
    "\n",
    "print(f'Found {len(dns_df)} A records')\n",
    "print(f'Found {dns_df[\"dns_rrname\"].nunique()} unique domains')"
   ]
  },
  {
   "cell_type": "markdown",
   "metadata": {},
   "source": [
    "### TLDs"
   ]
  },
  {
   "cell_type": "code",
   "execution_count": 88,
   "metadata": {},
   "outputs": [],
   "source": [
    "def get_tld(domain):\n",
    "    parts = domain.split('.')\n",
    "    \n",
    "    if len(parts) <= 2:\n",
    "        return domain\n",
    "    \n",
    "    common_tlds = ['com', 'org', 'net', 'edu', 'gov', 'mil', 'io', 'ai', 'co']\n",
    "    \n",
    "    if parts[-1] in common_tlds:\n",
    "        return '.'.join(parts[-2:])\n",
    "    \n",
    "    country_tlds = ['uk', 'au', 'ca', 'de', 'jp', 'fr', 'es', 'it', 'ru', 'cn', 'br', 'mx']\n",
    "    \n",
    "    if parts[-1] in country_tlds and len(parts) >= 3:\n",
    "        if parts[-2] in ['co', 'com', 'org', 'net', 'ac', 'gov']:\n",
    "            return '.'.join(parts[-3:])\n",
    "    \n",
    "    if len(parts) > 2 and parts[-1] not in common_tlds + country_tlds:\n",
    "        return parts[-1]\n",
    "    \n",
    "    return '.'.join(parts[-2:])"
   ]
  },
  {
   "cell_type": "code",
   "execution_count": 105,
   "metadata": {},
   "outputs": [
    {
     "name": "stdout",
     "output_type": "stream",
     "text": [
      "Unique TLDs: 104\n"
     ]
    }
   ],
   "source": [
    "unique_domains_df['domain_tld'] = unique_domains_df['dns_rrname'].apply(get_tld)\n",
    "\n",
    "domain_tld_df = unique_domains_df[['domain_tld']]\n",
    "\n",
    "print(f\"Unique TLDs: {domain_tld_df['domain_tld'].nunique()}\")\n",
    "\n",
    "domain_tld_df.to_csv('data/tld.csv', index=False)\n"
   ]
  }
 ],
 "metadata": {
  "kernelspec": {
   "display_name": "Python 3",
   "language": "python",
   "name": "python3"
  },
  "language_info": {
   "codemirror_mode": {
    "name": "ipython",
    "version": 3
   },
   "file_extension": ".py",
   "mimetype": "text/x-python",
   "name": "python",
   "nbconvert_exporter": "python",
   "pygments_lexer": "ipython3",
   "version": "3.10.14"
  }
 },
 "nbformat": 4,
 "nbformat_minor": 2
}

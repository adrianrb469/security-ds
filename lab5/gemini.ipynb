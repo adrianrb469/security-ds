{
 "cells": [
  {
   "cell_type": "code",
   "execution_count": 11,
   "metadata": {},
   "outputs": [],
   "source": [
    "import os\n",
    "import google.generativeai as genai\n",
    "from dotenv import load_dotenv\n",
    "from tqdm import tqdm\n",
    "import pandas as pd\n",
    "load_dotenv() \n",
    "\n",
    "api_key = os.environ.get(\"GOOGLE_API_KEY\")\n",
    "if api_key is None:\n",
    "    raise ValueError(\"The GOOGLE_API_KEY environment variable is not set in your .env file.\")\n",
    "genai.configure(api_key=api_key)"
   ]
  },
  {
   "cell_type": "markdown",
   "metadata": {},
   "source": [
    "### Gemini Classification"
   ]
  },
  {
   "cell_type": "markdown",
   "metadata": {},
   "source": [
    "Prompt: Use Gemini 2.0 Flash to classify each TLD as DGA (1) or legitimate (0) (you'll need to come up with a prompt and decide on using a structured output). "
   ]
  },
  {
   "cell_type": "code",
   "execution_count": 13,
   "metadata": {},
   "outputs": [],
   "source": [
    "model = genai.GenerativeModel(\"gemini-1.5-flash-002\")\n",
    "\n",
    "\n",
    "def classify_tld(tld):\n",
    "    prompt = f\"\"\"\n",
    "Classify the following Top-Level Domain (TLD) as either a Domain Generation Algorithm (DGA) generated domain (1) or a legitimate domain (0). \n",
    "Provide ONLY the classification number, nothing else.\n",
    "\n",
    "TLD: {tld}\n",
    "Classification:\n",
    "\"\"\"\n",
    "    response = model.generate_content(prompt)\n",
    "    classification = response.text.strip()\n",
    "\n",
    "    if classification == \"1\" or classification == \"0\":\n",
    "        return int(classification)\n",
    "    else:\n",
    "        print(f\"Unexpected response: {response.text} for TLD: {tld}\")\n",
    "        return None  \n"
   ]
  },
  {
   "cell_type": "code",
   "execution_count": 7,
   "metadata": {},
   "outputs": [
    {
     "name": "stdout",
     "output_type": "stream",
     "text": [
      "0\n"
     ]
    }
   ],
   "source": [
    "print(classify_tld(\"google.com\"))"
   ]
  },
  {
   "cell_type": "code",
   "execution_count": 14,
   "metadata": {},
   "outputs": [
    {
     "name": "stderr",
     "output_type": "stream",
     "text": [
      "Classifying TLDs: 100%|██████████| 176/176 [01:05<00:00,  2.71it/s]\n"
     ]
    }
   ],
   "source": [
    "tld_df = pd.read_csv(\"data/tld.csv\")\n",
    "tld_df['dga_classification'] = None \n",
    "\n",
    "for index, row in tqdm(tld_df.iterrows(), total=len(tld_df), desc=\"Classifying TLDs\"):\n",
    "    tld = row['domain_tld']\n",
    "    classification = classify_tld(tld)\n",
    "    tld_df.loc[index, 'dga_classification'] = classification \n"
   ]
  },
  {
   "cell_type": "code",
   "execution_count": 15,
   "metadata": {},
   "outputs": [
    {
     "name": "stdout",
     "output_type": "stream",
     "text": [
      "         domain_tld dga_classification\n",
      "0  wunderground.com                  0\n",
      "1       dropbox.com                  0\n",
      "2         aoltw.net                  0\n",
      "3              home                  0\n",
      "4       mozilla.com                  0\n",
      "5    metasploit.com                  0\n",
      "6           aol.com                  0\n",
      "7         aoltw.net                  0\n",
      "8           aol.com                  0\n",
      "9           aol.com                  0\n",
      "dga_classification\n",
      "0    164\n",
      "1     12\n",
      "Name: count, dtype: int64\n"
     ]
    }
   ],
   "source": [
    "print(tld_df.head(10))\n",
    "print(tld_df['dga_classification'].value_counts(dropna=False))"
   ]
  },
  {
   "cell_type": "code",
   "execution_count": 16,
   "metadata": {},
   "outputs": [
    {
     "name": "stdout",
     "output_type": "stream",
     "text": [
      "Unique records: 102\n",
      "Total records: 103\n"
     ]
    }
   ],
   "source": [
    "tld_df = tld_df.drop_duplicates(subset=['domain_tld'])\n",
    "\n",
    "print('Unique records:', tld_df['domain_tld'].nunique())\n",
    "print('Total records:', len(tld_df))\n",
    "\n",
    "tld_df.to_csv(\"data/tld_dga_classification.csv\", index=False)"
   ]
  }
 ],
 "metadata": {
  "kernelspec": {
   "display_name": "Python 3",
   "language": "python",
   "name": "python3"
  },
  "language_info": {
   "codemirror_mode": {
    "name": "ipython",
    "version": 3
   },
   "file_extension": ".py",
   "mimetype": "text/x-python",
   "name": "python",
   "nbconvert_exporter": "python",
   "pygments_lexer": "ipython3",
   "version": "3.10.14"
  }
 },
 "nbformat": 4,
 "nbformat_minor": 2
}
